{
  "nbformat": 4,
  "nbformat_minor": 0,
  "metadata": {
    "colab": {
      "provenance": []
    },
    "kernelspec": {
      "name": "python3",
      "display_name": "Python 3"
    },
    "language_info": {
      "name": "python"
    }
  },
  "cells": [
    {
      "cell_type": "markdown",
      "source": [
        "# **Gastos do Cartão Corporativo da Presidência da República**\n",
        "\n",
        "## Comparação entre os presidentes atualizado pela inflação atual.\n",
        "\n",
        "### Período de análise: Janeiro de 2003 a Novembro de 2022."
      ],
      "metadata": {
        "id": "xCDo4zQpSb6u"
      }
    },
    {
      "cell_type": "code",
      "execution_count": 3,
      "metadata": {
        "id": "7bCnnTATOpkN"
      },
      "outputs": [],
      "source": [
        "import pandas as pd\n",
        "import matplotlib.pyplot as plt\n",
        "import numpy as np"
      ]
    },
    {
      "cell_type": "markdown",
      "source": [
        "Importando as bibliotecas do Python necessárias para fazer o tratamento estatístico do conjunto de dados."
      ],
      "metadata": {
        "id": "A9SIU0cHd8zB"
      }
    },
    {
      "cell_type": "code",
      "source": [
        "dados = pd.read_csv('Dataset_limpo.csv', sep='\\t')\n",
        "dados"
      ],
      "metadata": {
        "colab": {
          "base_uri": "https://localhost:8080/",
          "height": 424
        },
        "id": "8QxK51K24WA3",
        "outputId": "305eddd3-933c-425e-9c19-3e492d991cc6"
      },
      "execution_count": 4,
      "outputs": [
        {
          "output_type": "execute_result",
          "data": {
            "text/plain": [
              "         DATA PGTO    VALOR\n",
              "0       2003-01-02   1696,9\n",
              "1       2003-01-02   1336,6\n",
              "2       2003-01-02  1396,43\n",
              "3       2003-01-03     8585\n",
              "4       2003-01-03    251,5\n",
              "...            ...      ...\n",
              "113334  2022-12-03    179,5\n",
              "113335  2022-12-03    54,95\n",
              "113336  2022-12-04   518,07\n",
              "113337  2022-12-04   330,52\n",
              "113338  2022-12-04    54,66\n",
              "\n",
              "[113339 rows x 2 columns]"
            ],
            "text/html": [
              "\n",
              "  <div id=\"df-166aefa9-3c06-4cdb-ba92-6eb7e7004eb6\">\n",
              "    <div class=\"colab-df-container\">\n",
              "      <div>\n",
              "<style scoped>\n",
              "    .dataframe tbody tr th:only-of-type {\n",
              "        vertical-align: middle;\n",
              "    }\n",
              "\n",
              "    .dataframe tbody tr th {\n",
              "        vertical-align: top;\n",
              "    }\n",
              "\n",
              "    .dataframe thead th {\n",
              "        text-align: right;\n",
              "    }\n",
              "</style>\n",
              "<table border=\"1\" class=\"dataframe\">\n",
              "  <thead>\n",
              "    <tr style=\"text-align: right;\">\n",
              "      <th></th>\n",
              "      <th>DATA PGTO</th>\n",
              "      <th>VALOR</th>\n",
              "    </tr>\n",
              "  </thead>\n",
              "  <tbody>\n",
              "    <tr>\n",
              "      <th>0</th>\n",
              "      <td>2003-01-02</td>\n",
              "      <td>1696,9</td>\n",
              "    </tr>\n",
              "    <tr>\n",
              "      <th>1</th>\n",
              "      <td>2003-01-02</td>\n",
              "      <td>1336,6</td>\n",
              "    </tr>\n",
              "    <tr>\n",
              "      <th>2</th>\n",
              "      <td>2003-01-02</td>\n",
              "      <td>1396,43</td>\n",
              "    </tr>\n",
              "    <tr>\n",
              "      <th>3</th>\n",
              "      <td>2003-01-03</td>\n",
              "      <td>8585</td>\n",
              "    </tr>\n",
              "    <tr>\n",
              "      <th>4</th>\n",
              "      <td>2003-01-03</td>\n",
              "      <td>251,5</td>\n",
              "    </tr>\n",
              "    <tr>\n",
              "      <th>...</th>\n",
              "      <td>...</td>\n",
              "      <td>...</td>\n",
              "    </tr>\n",
              "    <tr>\n",
              "      <th>113334</th>\n",
              "      <td>2022-12-03</td>\n",
              "      <td>179,5</td>\n",
              "    </tr>\n",
              "    <tr>\n",
              "      <th>113335</th>\n",
              "      <td>2022-12-03</td>\n",
              "      <td>54,95</td>\n",
              "    </tr>\n",
              "    <tr>\n",
              "      <th>113336</th>\n",
              "      <td>2022-12-04</td>\n",
              "      <td>518,07</td>\n",
              "    </tr>\n",
              "    <tr>\n",
              "      <th>113337</th>\n",
              "      <td>2022-12-04</td>\n",
              "      <td>330,52</td>\n",
              "    </tr>\n",
              "    <tr>\n",
              "      <th>113338</th>\n",
              "      <td>2022-12-04</td>\n",
              "      <td>54,66</td>\n",
              "    </tr>\n",
              "  </tbody>\n",
              "</table>\n",
              "<p>113339 rows × 2 columns</p>\n",
              "</div>\n",
              "      <button class=\"colab-df-convert\" onclick=\"convertToInteractive('df-166aefa9-3c06-4cdb-ba92-6eb7e7004eb6')\"\n",
              "              title=\"Convert this dataframe to an interactive table.\"\n",
              "              style=\"display:none;\">\n",
              "        \n",
              "  <svg xmlns=\"http://www.w3.org/2000/svg\" height=\"24px\"viewBox=\"0 0 24 24\"\n",
              "       width=\"24px\">\n",
              "    <path d=\"M0 0h24v24H0V0z\" fill=\"none\"/>\n",
              "    <path d=\"M18.56 5.44l.94 2.06.94-2.06 2.06-.94-2.06-.94-.94-2.06-.94 2.06-2.06.94zm-11 1L8.5 8.5l.94-2.06 2.06-.94-2.06-.94L8.5 2.5l-.94 2.06-2.06.94zm10 10l.94 2.06.94-2.06 2.06-.94-2.06-.94-.94-2.06-.94 2.06-2.06.94z\"/><path d=\"M17.41 7.96l-1.37-1.37c-.4-.4-.92-.59-1.43-.59-.52 0-1.04.2-1.43.59L10.3 9.45l-7.72 7.72c-.78.78-.78 2.05 0 2.83L4 21.41c.39.39.9.59 1.41.59.51 0 1.02-.2 1.41-.59l7.78-7.78 2.81-2.81c.8-.78.8-2.07 0-2.86zM5.41 20L4 18.59l7.72-7.72 1.47 1.35L5.41 20z\"/>\n",
              "  </svg>\n",
              "      </button>\n",
              "      \n",
              "  <style>\n",
              "    .colab-df-container {\n",
              "      display:flex;\n",
              "      flex-wrap:wrap;\n",
              "      gap: 12px;\n",
              "    }\n",
              "\n",
              "    .colab-df-convert {\n",
              "      background-color: #E8F0FE;\n",
              "      border: none;\n",
              "      border-radius: 50%;\n",
              "      cursor: pointer;\n",
              "      display: none;\n",
              "      fill: #1967D2;\n",
              "      height: 32px;\n",
              "      padding: 0 0 0 0;\n",
              "      width: 32px;\n",
              "    }\n",
              "\n",
              "    .colab-df-convert:hover {\n",
              "      background-color: #E2EBFA;\n",
              "      box-shadow: 0px 1px 2px rgba(60, 64, 67, 0.3), 0px 1px 3px 1px rgba(60, 64, 67, 0.15);\n",
              "      fill: #174EA6;\n",
              "    }\n",
              "\n",
              "    [theme=dark] .colab-df-convert {\n",
              "      background-color: #3B4455;\n",
              "      fill: #D2E3FC;\n",
              "    }\n",
              "\n",
              "    [theme=dark] .colab-df-convert:hover {\n",
              "      background-color: #434B5C;\n",
              "      box-shadow: 0px 1px 3px 1px rgba(0, 0, 0, 0.15);\n",
              "      filter: drop-shadow(0px 1px 2px rgba(0, 0, 0, 0.3));\n",
              "      fill: #FFFFFF;\n",
              "    }\n",
              "  </style>\n",
              "\n",
              "      <script>\n",
              "        const buttonEl =\n",
              "          document.querySelector('#df-166aefa9-3c06-4cdb-ba92-6eb7e7004eb6 button.colab-df-convert');\n",
              "        buttonEl.style.display =\n",
              "          google.colab.kernel.accessAllowed ? 'block' : 'none';\n",
              "\n",
              "        async function convertToInteractive(key) {\n",
              "          const element = document.querySelector('#df-166aefa9-3c06-4cdb-ba92-6eb7e7004eb6');\n",
              "          const dataTable =\n",
              "            await google.colab.kernel.invokeFunction('convertToInteractive',\n",
              "                                                     [key], {});\n",
              "          if (!dataTable) return;\n",
              "\n",
              "          const docLinkHtml = 'Like what you see? Visit the ' +\n",
              "            '<a target=\"_blank\" href=https://colab.research.google.com/notebooks/data_table.ipynb>data table notebook</a>'\n",
              "            + ' to learn more about interactive tables.';\n",
              "          element.innerHTML = '';\n",
              "          dataTable['output_type'] = 'display_data';\n",
              "          await google.colab.output.renderOutput(dataTable, element);\n",
              "          const docLink = document.createElement('div');\n",
              "          docLink.innerHTML = docLinkHtml;\n",
              "          element.appendChild(docLink);\n",
              "        }\n",
              "      </script>\n",
              "    </div>\n",
              "  </div>\n",
              "  "
            ]
          },
          "metadata": {},
          "execution_count": 4
        }
      ]
    },
    {
      "cell_type": "markdown",
      "source": [
        "Como iremos usar somente duas colunas do dataset original (Datas e Valores) e o arquivo .csv veio com formatações próprias de planilha do Excel, então fiz a reformatação dos valores e das datas no próprio excel e passei para o notebook apenas os dados já limpos que iremos trabalhar. No meu repositório do Github ficará contido o arquivo original e o reformatado."
      ],
      "metadata": {
        "id": "lMTT--mR6BTc"
      }
    },
    {
      "cell_type": "code",
      "source": [
        "dados.info()"
      ],
      "metadata": {
        "colab": {
          "base_uri": "https://localhost:8080/"
        },
        "id": "3jDCS8NC4iV-",
        "outputId": "29fe12df-5a87-450a-c552-7a81a153426e"
      },
      "execution_count": 5,
      "outputs": [
        {
          "output_type": "stream",
          "name": "stdout",
          "text": [
            "<class 'pandas.core.frame.DataFrame'>\n",
            "RangeIndex: 113339 entries, 0 to 113338\n",
            "Data columns (total 2 columns):\n",
            " #   Column     Non-Null Count   Dtype \n",
            "---  ------     --------------   ----- \n",
            " 0   DATA PGTO  113339 non-null  object\n",
            " 1   VALOR      113339 non-null  object\n",
            "dtypes: object(2)\n",
            "memory usage: 1.7+ MB\n"
          ]
        }
      ]
    },
    {
      "cell_type": "code",
      "source": [
        "dados['VALOR'].hasnans"
      ],
      "metadata": {
        "colab": {
          "base_uri": "https://localhost:8080/"
        },
        "id": "MkIdRYvw7isV",
        "outputId": "4e34b277-6f2a-476a-bd54-bd8009ee611a"
      },
      "execution_count": 6,
      "outputs": [
        {
          "output_type": "execute_result",
          "data": {
            "text/plain": [
              "False"
            ]
          },
          "metadata": {},
          "execution_count": 6
        }
      ]
    },
    {
      "cell_type": "code",
      "source": [
        "dados['VALOR'] = dados['VALOR'].str.replace(',','.')"
      ],
      "metadata": {
        "id": "6KSiYIVGA-w4"
      },
      "execution_count": 7,
      "outputs": []
    },
    {
      "cell_type": "code",
      "source": [
        "dados.head()"
      ],
      "metadata": {
        "colab": {
          "base_uri": "https://localhost:8080/",
          "height": 206
        },
        "id": "Fcqz3omeC6Qh",
        "outputId": "19e7a3a3-b2a9-4c76-9a69-5320e34c85b4"
      },
      "execution_count": 8,
      "outputs": [
        {
          "output_type": "execute_result",
          "data": {
            "text/plain": [
              "    DATA PGTO    VALOR\n",
              "0  2003-01-02   1696.9\n",
              "1  2003-01-02   1336.6\n",
              "2  2003-01-02  1396.43\n",
              "3  2003-01-03     8585\n",
              "4  2003-01-03    251.5"
            ],
            "text/html": [
              "\n",
              "  <div id=\"df-c71110ce-9ee9-4671-a74f-56e628aaf740\">\n",
              "    <div class=\"colab-df-container\">\n",
              "      <div>\n",
              "<style scoped>\n",
              "    .dataframe tbody tr th:only-of-type {\n",
              "        vertical-align: middle;\n",
              "    }\n",
              "\n",
              "    .dataframe tbody tr th {\n",
              "        vertical-align: top;\n",
              "    }\n",
              "\n",
              "    .dataframe thead th {\n",
              "        text-align: right;\n",
              "    }\n",
              "</style>\n",
              "<table border=\"1\" class=\"dataframe\">\n",
              "  <thead>\n",
              "    <tr style=\"text-align: right;\">\n",
              "      <th></th>\n",
              "      <th>DATA PGTO</th>\n",
              "      <th>VALOR</th>\n",
              "    </tr>\n",
              "  </thead>\n",
              "  <tbody>\n",
              "    <tr>\n",
              "      <th>0</th>\n",
              "      <td>2003-01-02</td>\n",
              "      <td>1696.9</td>\n",
              "    </tr>\n",
              "    <tr>\n",
              "      <th>1</th>\n",
              "      <td>2003-01-02</td>\n",
              "      <td>1336.6</td>\n",
              "    </tr>\n",
              "    <tr>\n",
              "      <th>2</th>\n",
              "      <td>2003-01-02</td>\n",
              "      <td>1396.43</td>\n",
              "    </tr>\n",
              "    <tr>\n",
              "      <th>3</th>\n",
              "      <td>2003-01-03</td>\n",
              "      <td>8585</td>\n",
              "    </tr>\n",
              "    <tr>\n",
              "      <th>4</th>\n",
              "      <td>2003-01-03</td>\n",
              "      <td>251.5</td>\n",
              "    </tr>\n",
              "  </tbody>\n",
              "</table>\n",
              "</div>\n",
              "      <button class=\"colab-df-convert\" onclick=\"convertToInteractive('df-c71110ce-9ee9-4671-a74f-56e628aaf740')\"\n",
              "              title=\"Convert this dataframe to an interactive table.\"\n",
              "              style=\"display:none;\">\n",
              "        \n",
              "  <svg xmlns=\"http://www.w3.org/2000/svg\" height=\"24px\"viewBox=\"0 0 24 24\"\n",
              "       width=\"24px\">\n",
              "    <path d=\"M0 0h24v24H0V0z\" fill=\"none\"/>\n",
              "    <path d=\"M18.56 5.44l.94 2.06.94-2.06 2.06-.94-2.06-.94-.94-2.06-.94 2.06-2.06.94zm-11 1L8.5 8.5l.94-2.06 2.06-.94-2.06-.94L8.5 2.5l-.94 2.06-2.06.94zm10 10l.94 2.06.94-2.06 2.06-.94-2.06-.94-.94-2.06-.94 2.06-2.06.94z\"/><path d=\"M17.41 7.96l-1.37-1.37c-.4-.4-.92-.59-1.43-.59-.52 0-1.04.2-1.43.59L10.3 9.45l-7.72 7.72c-.78.78-.78 2.05 0 2.83L4 21.41c.39.39.9.59 1.41.59.51 0 1.02-.2 1.41-.59l7.78-7.78 2.81-2.81c.8-.78.8-2.07 0-2.86zM5.41 20L4 18.59l7.72-7.72 1.47 1.35L5.41 20z\"/>\n",
              "  </svg>\n",
              "      </button>\n",
              "      \n",
              "  <style>\n",
              "    .colab-df-container {\n",
              "      display:flex;\n",
              "      flex-wrap:wrap;\n",
              "      gap: 12px;\n",
              "    }\n",
              "\n",
              "    .colab-df-convert {\n",
              "      background-color: #E8F0FE;\n",
              "      border: none;\n",
              "      border-radius: 50%;\n",
              "      cursor: pointer;\n",
              "      display: none;\n",
              "      fill: #1967D2;\n",
              "      height: 32px;\n",
              "      padding: 0 0 0 0;\n",
              "      width: 32px;\n",
              "    }\n",
              "\n",
              "    .colab-df-convert:hover {\n",
              "      background-color: #E2EBFA;\n",
              "      box-shadow: 0px 1px 2px rgba(60, 64, 67, 0.3), 0px 1px 3px 1px rgba(60, 64, 67, 0.15);\n",
              "      fill: #174EA6;\n",
              "    }\n",
              "\n",
              "    [theme=dark] .colab-df-convert {\n",
              "      background-color: #3B4455;\n",
              "      fill: #D2E3FC;\n",
              "    }\n",
              "\n",
              "    [theme=dark] .colab-df-convert:hover {\n",
              "      background-color: #434B5C;\n",
              "      box-shadow: 0px 1px 3px 1px rgba(0, 0, 0, 0.15);\n",
              "      filter: drop-shadow(0px 1px 2px rgba(0, 0, 0, 0.3));\n",
              "      fill: #FFFFFF;\n",
              "    }\n",
              "  </style>\n",
              "\n",
              "      <script>\n",
              "        const buttonEl =\n",
              "          document.querySelector('#df-c71110ce-9ee9-4671-a74f-56e628aaf740 button.colab-df-convert');\n",
              "        buttonEl.style.display =\n",
              "          google.colab.kernel.accessAllowed ? 'block' : 'none';\n",
              "\n",
              "        async function convertToInteractive(key) {\n",
              "          const element = document.querySelector('#df-c71110ce-9ee9-4671-a74f-56e628aaf740');\n",
              "          const dataTable =\n",
              "            await google.colab.kernel.invokeFunction('convertToInteractive',\n",
              "                                                     [key], {});\n",
              "          if (!dataTable) return;\n",
              "\n",
              "          const docLinkHtml = 'Like what you see? Visit the ' +\n",
              "            '<a target=\"_blank\" href=https://colab.research.google.com/notebooks/data_table.ipynb>data table notebook</a>'\n",
              "            + ' to learn more about interactive tables.';\n",
              "          element.innerHTML = '';\n",
              "          dataTable['output_type'] = 'display_data';\n",
              "          await google.colab.output.renderOutput(dataTable, element);\n",
              "          const docLink = document.createElement('div');\n",
              "          docLink.innerHTML = docLinkHtml;\n",
              "          element.appendChild(docLink);\n",
              "        }\n",
              "      </script>\n",
              "    </div>\n",
              "  </div>\n",
              "  "
            ]
          },
          "metadata": {},
          "execution_count": 8
        }
      ]
    },
    {
      "cell_type": "code",
      "source": [
        "dados['VALOR'] = pd.to_numeric(dados['VALOR'], downcast='float')"
      ],
      "metadata": {
        "id": "LFyprt845vL9"
      },
      "execution_count": 9,
      "outputs": []
    },
    {
      "cell_type": "code",
      "source": [
        "dados"
      ],
      "metadata": {
        "colab": {
          "base_uri": "https://localhost:8080/",
          "height": 424
        },
        "id": "VWaRdcKKExSw",
        "outputId": "dc6df26c-a395-4ef4-f68f-88f8b463e7fe"
      },
      "execution_count": 10,
      "outputs": [
        {
          "output_type": "execute_result",
          "data": {
            "text/plain": [
              "         DATA PGTO        VALOR\n",
              "0       2003-01-02  1696.900024\n",
              "1       2003-01-02  1336.599976\n",
              "2       2003-01-02  1396.430054\n",
              "3       2003-01-03  8585.000000\n",
              "4       2003-01-03   251.500000\n",
              "...            ...          ...\n",
              "113334  2022-12-03   179.500000\n",
              "113335  2022-12-03    54.950001\n",
              "113336  2022-12-04   518.070007\n",
              "113337  2022-12-04   330.519989\n",
              "113338  2022-12-04    54.660000\n",
              "\n",
              "[113339 rows x 2 columns]"
            ],
            "text/html": [
              "\n",
              "  <div id=\"df-cb9de275-e01f-495e-a1e8-686aab5d81a8\">\n",
              "    <div class=\"colab-df-container\">\n",
              "      <div>\n",
              "<style scoped>\n",
              "    .dataframe tbody tr th:only-of-type {\n",
              "        vertical-align: middle;\n",
              "    }\n",
              "\n",
              "    .dataframe tbody tr th {\n",
              "        vertical-align: top;\n",
              "    }\n",
              "\n",
              "    .dataframe thead th {\n",
              "        text-align: right;\n",
              "    }\n",
              "</style>\n",
              "<table border=\"1\" class=\"dataframe\">\n",
              "  <thead>\n",
              "    <tr style=\"text-align: right;\">\n",
              "      <th></th>\n",
              "      <th>DATA PGTO</th>\n",
              "      <th>VALOR</th>\n",
              "    </tr>\n",
              "  </thead>\n",
              "  <tbody>\n",
              "    <tr>\n",
              "      <th>0</th>\n",
              "      <td>2003-01-02</td>\n",
              "      <td>1696.900024</td>\n",
              "    </tr>\n",
              "    <tr>\n",
              "      <th>1</th>\n",
              "      <td>2003-01-02</td>\n",
              "      <td>1336.599976</td>\n",
              "    </tr>\n",
              "    <tr>\n",
              "      <th>2</th>\n",
              "      <td>2003-01-02</td>\n",
              "      <td>1396.430054</td>\n",
              "    </tr>\n",
              "    <tr>\n",
              "      <th>3</th>\n",
              "      <td>2003-01-03</td>\n",
              "      <td>8585.000000</td>\n",
              "    </tr>\n",
              "    <tr>\n",
              "      <th>4</th>\n",
              "      <td>2003-01-03</td>\n",
              "      <td>251.500000</td>\n",
              "    </tr>\n",
              "    <tr>\n",
              "      <th>...</th>\n",
              "      <td>...</td>\n",
              "      <td>...</td>\n",
              "    </tr>\n",
              "    <tr>\n",
              "      <th>113334</th>\n",
              "      <td>2022-12-03</td>\n",
              "      <td>179.500000</td>\n",
              "    </tr>\n",
              "    <tr>\n",
              "      <th>113335</th>\n",
              "      <td>2022-12-03</td>\n",
              "      <td>54.950001</td>\n",
              "    </tr>\n",
              "    <tr>\n",
              "      <th>113336</th>\n",
              "      <td>2022-12-04</td>\n",
              "      <td>518.070007</td>\n",
              "    </tr>\n",
              "    <tr>\n",
              "      <th>113337</th>\n",
              "      <td>2022-12-04</td>\n",
              "      <td>330.519989</td>\n",
              "    </tr>\n",
              "    <tr>\n",
              "      <th>113338</th>\n",
              "      <td>2022-12-04</td>\n",
              "      <td>54.660000</td>\n",
              "    </tr>\n",
              "  </tbody>\n",
              "</table>\n",
              "<p>113339 rows × 2 columns</p>\n",
              "</div>\n",
              "      <button class=\"colab-df-convert\" onclick=\"convertToInteractive('df-cb9de275-e01f-495e-a1e8-686aab5d81a8')\"\n",
              "              title=\"Convert this dataframe to an interactive table.\"\n",
              "              style=\"display:none;\">\n",
              "        \n",
              "  <svg xmlns=\"http://www.w3.org/2000/svg\" height=\"24px\"viewBox=\"0 0 24 24\"\n",
              "       width=\"24px\">\n",
              "    <path d=\"M0 0h24v24H0V0z\" fill=\"none\"/>\n",
              "    <path d=\"M18.56 5.44l.94 2.06.94-2.06 2.06-.94-2.06-.94-.94-2.06-.94 2.06-2.06.94zm-11 1L8.5 8.5l.94-2.06 2.06-.94-2.06-.94L8.5 2.5l-.94 2.06-2.06.94zm10 10l.94 2.06.94-2.06 2.06-.94-2.06-.94-.94-2.06-.94 2.06-2.06.94z\"/><path d=\"M17.41 7.96l-1.37-1.37c-.4-.4-.92-.59-1.43-.59-.52 0-1.04.2-1.43.59L10.3 9.45l-7.72 7.72c-.78.78-.78 2.05 0 2.83L4 21.41c.39.39.9.59 1.41.59.51 0 1.02-.2 1.41-.59l7.78-7.78 2.81-2.81c.8-.78.8-2.07 0-2.86zM5.41 20L4 18.59l7.72-7.72 1.47 1.35L5.41 20z\"/>\n",
              "  </svg>\n",
              "      </button>\n",
              "      \n",
              "  <style>\n",
              "    .colab-df-container {\n",
              "      display:flex;\n",
              "      flex-wrap:wrap;\n",
              "      gap: 12px;\n",
              "    }\n",
              "\n",
              "    .colab-df-convert {\n",
              "      background-color: #E8F0FE;\n",
              "      border: none;\n",
              "      border-radius: 50%;\n",
              "      cursor: pointer;\n",
              "      display: none;\n",
              "      fill: #1967D2;\n",
              "      height: 32px;\n",
              "      padding: 0 0 0 0;\n",
              "      width: 32px;\n",
              "    }\n",
              "\n",
              "    .colab-df-convert:hover {\n",
              "      background-color: #E2EBFA;\n",
              "      box-shadow: 0px 1px 2px rgba(60, 64, 67, 0.3), 0px 1px 3px 1px rgba(60, 64, 67, 0.15);\n",
              "      fill: #174EA6;\n",
              "    }\n",
              "\n",
              "    [theme=dark] .colab-df-convert {\n",
              "      background-color: #3B4455;\n",
              "      fill: #D2E3FC;\n",
              "    }\n",
              "\n",
              "    [theme=dark] .colab-df-convert:hover {\n",
              "      background-color: #434B5C;\n",
              "      box-shadow: 0px 1px 3px 1px rgba(0, 0, 0, 0.15);\n",
              "      filter: drop-shadow(0px 1px 2px rgba(0, 0, 0, 0.3));\n",
              "      fill: #FFFFFF;\n",
              "    }\n",
              "  </style>\n",
              "\n",
              "      <script>\n",
              "        const buttonEl =\n",
              "          document.querySelector('#df-cb9de275-e01f-495e-a1e8-686aab5d81a8 button.colab-df-convert');\n",
              "        buttonEl.style.display =\n",
              "          google.colab.kernel.accessAllowed ? 'block' : 'none';\n",
              "\n",
              "        async function convertToInteractive(key) {\n",
              "          const element = document.querySelector('#df-cb9de275-e01f-495e-a1e8-686aab5d81a8');\n",
              "          const dataTable =\n",
              "            await google.colab.kernel.invokeFunction('convertToInteractive',\n",
              "                                                     [key], {});\n",
              "          if (!dataTable) return;\n",
              "\n",
              "          const docLinkHtml = 'Like what you see? Visit the ' +\n",
              "            '<a target=\"_blank\" href=https://colab.research.google.com/notebooks/data_table.ipynb>data table notebook</a>'\n",
              "            + ' to learn more about interactive tables.';\n",
              "          element.innerHTML = '';\n",
              "          dataTable['output_type'] = 'display_data';\n",
              "          await google.colab.output.renderOutput(dataTable, element);\n",
              "          const docLink = document.createElement('div');\n",
              "          docLink.innerHTML = docLinkHtml;\n",
              "          element.appendChild(docLink);\n",
              "        }\n",
              "      </script>\n",
              "    </div>\n",
              "  </div>\n",
              "  "
            ]
          },
          "metadata": {},
          "execution_count": 10
        }
      ]
    },
    {
      "cell_type": "code",
      "source": [
        "dados['VALOR'].max()"
      ],
      "metadata": {
        "colab": {
          "base_uri": "https://localhost:8080/"
        },
        "id": "6SA60xBbFvuh",
        "outputId": "c1a60ab6-eac8-4222-dffc-c15895e75601"
      },
      "execution_count": 11,
      "outputs": [
        {
          "output_type": "execute_result",
          "data": {
            "text/plain": [
              "312903.38"
            ]
          },
          "metadata": {},
          "execution_count": 11
        }
      ]
    },
    {
      "cell_type": "code",
      "source": [
        "dados['VALOR'].min()"
      ],
      "metadata": {
        "colab": {
          "base_uri": "https://localhost:8080/"
        },
        "id": "1SyAqa83F4mm",
        "outputId": "8e952eca-c7ac-41a3-ebae-3ef392cd4572"
      },
      "execution_count": 12,
      "outputs": [
        {
          "output_type": "execute_result",
          "data": {
            "text/plain": [
              "-1380.36"
            ]
          },
          "metadata": {},
          "execution_count": 12
        }
      ]
    },
    {
      "cell_type": "code",
      "source": [
        "dados.query('VALOR < 0')"
      ],
      "metadata": {
        "colab": {
          "base_uri": "https://localhost:8080/",
          "height": 520
        },
        "id": "7O816aDgF7t6",
        "outputId": "721a3aca-d8a0-437e-a835-c25b64fd068d"
      },
      "execution_count": 13,
      "outputs": [
        {
          "output_type": "execute_result",
          "data": {
            "text/plain": [
              "        DATA PGTO        VALOR\n",
              "48783  2009-03-27    -8.330000\n",
              "48784  2009-03-27    -4.380000\n",
              "48785  2009-03-27    -2.690000\n",
              "48786  2009-03-27   -11.980000\n",
              "48787  2009-03-27   -14.510000\n",
              "60081  2010-07-10  -124.639999\n",
              "61204  2010-08-24   -89.489998\n",
              "61205  2010-08-24  -219.529999\n",
              "61206  2010-08-24  -627.179993\n",
              "63760  2010-10-21   -24.139999\n",
              "70148  2011-11-23  -676.739990\n",
              "70273  2011-12-06 -1380.359985\n",
              "70274  2011-12-06  -693.179993\n",
              "70275  2011-12-06  -516.150024\n",
              "75466  2013-03-25    -6.430000"
            ],
            "text/html": [
              "\n",
              "  <div id=\"df-b809ecd3-d561-46b7-8e29-20d83b912a87\">\n",
              "    <div class=\"colab-df-container\">\n",
              "      <div>\n",
              "<style scoped>\n",
              "    .dataframe tbody tr th:only-of-type {\n",
              "        vertical-align: middle;\n",
              "    }\n",
              "\n",
              "    .dataframe tbody tr th {\n",
              "        vertical-align: top;\n",
              "    }\n",
              "\n",
              "    .dataframe thead th {\n",
              "        text-align: right;\n",
              "    }\n",
              "</style>\n",
              "<table border=\"1\" class=\"dataframe\">\n",
              "  <thead>\n",
              "    <tr style=\"text-align: right;\">\n",
              "      <th></th>\n",
              "      <th>DATA PGTO</th>\n",
              "      <th>VALOR</th>\n",
              "    </tr>\n",
              "  </thead>\n",
              "  <tbody>\n",
              "    <tr>\n",
              "      <th>48783</th>\n",
              "      <td>2009-03-27</td>\n",
              "      <td>-8.330000</td>\n",
              "    </tr>\n",
              "    <tr>\n",
              "      <th>48784</th>\n",
              "      <td>2009-03-27</td>\n",
              "      <td>-4.380000</td>\n",
              "    </tr>\n",
              "    <tr>\n",
              "      <th>48785</th>\n",
              "      <td>2009-03-27</td>\n",
              "      <td>-2.690000</td>\n",
              "    </tr>\n",
              "    <tr>\n",
              "      <th>48786</th>\n",
              "      <td>2009-03-27</td>\n",
              "      <td>-11.980000</td>\n",
              "    </tr>\n",
              "    <tr>\n",
              "      <th>48787</th>\n",
              "      <td>2009-03-27</td>\n",
              "      <td>-14.510000</td>\n",
              "    </tr>\n",
              "    <tr>\n",
              "      <th>60081</th>\n",
              "      <td>2010-07-10</td>\n",
              "      <td>-124.639999</td>\n",
              "    </tr>\n",
              "    <tr>\n",
              "      <th>61204</th>\n",
              "      <td>2010-08-24</td>\n",
              "      <td>-89.489998</td>\n",
              "    </tr>\n",
              "    <tr>\n",
              "      <th>61205</th>\n",
              "      <td>2010-08-24</td>\n",
              "      <td>-219.529999</td>\n",
              "    </tr>\n",
              "    <tr>\n",
              "      <th>61206</th>\n",
              "      <td>2010-08-24</td>\n",
              "      <td>-627.179993</td>\n",
              "    </tr>\n",
              "    <tr>\n",
              "      <th>63760</th>\n",
              "      <td>2010-10-21</td>\n",
              "      <td>-24.139999</td>\n",
              "    </tr>\n",
              "    <tr>\n",
              "      <th>70148</th>\n",
              "      <td>2011-11-23</td>\n",
              "      <td>-676.739990</td>\n",
              "    </tr>\n",
              "    <tr>\n",
              "      <th>70273</th>\n",
              "      <td>2011-12-06</td>\n",
              "      <td>-1380.359985</td>\n",
              "    </tr>\n",
              "    <tr>\n",
              "      <th>70274</th>\n",
              "      <td>2011-12-06</td>\n",
              "      <td>-693.179993</td>\n",
              "    </tr>\n",
              "    <tr>\n",
              "      <th>70275</th>\n",
              "      <td>2011-12-06</td>\n",
              "      <td>-516.150024</td>\n",
              "    </tr>\n",
              "    <tr>\n",
              "      <th>75466</th>\n",
              "      <td>2013-03-25</td>\n",
              "      <td>-6.430000</td>\n",
              "    </tr>\n",
              "  </tbody>\n",
              "</table>\n",
              "</div>\n",
              "      <button class=\"colab-df-convert\" onclick=\"convertToInteractive('df-b809ecd3-d561-46b7-8e29-20d83b912a87')\"\n",
              "              title=\"Convert this dataframe to an interactive table.\"\n",
              "              style=\"display:none;\">\n",
              "        \n",
              "  <svg xmlns=\"http://www.w3.org/2000/svg\" height=\"24px\"viewBox=\"0 0 24 24\"\n",
              "       width=\"24px\">\n",
              "    <path d=\"M0 0h24v24H0V0z\" fill=\"none\"/>\n",
              "    <path d=\"M18.56 5.44l.94 2.06.94-2.06 2.06-.94-2.06-.94-.94-2.06-.94 2.06-2.06.94zm-11 1L8.5 8.5l.94-2.06 2.06-.94-2.06-.94L8.5 2.5l-.94 2.06-2.06.94zm10 10l.94 2.06.94-2.06 2.06-.94-2.06-.94-.94-2.06-.94 2.06-2.06.94z\"/><path d=\"M17.41 7.96l-1.37-1.37c-.4-.4-.92-.59-1.43-.59-.52 0-1.04.2-1.43.59L10.3 9.45l-7.72 7.72c-.78.78-.78 2.05 0 2.83L4 21.41c.39.39.9.59 1.41.59.51 0 1.02-.2 1.41-.59l7.78-7.78 2.81-2.81c.8-.78.8-2.07 0-2.86zM5.41 20L4 18.59l7.72-7.72 1.47 1.35L5.41 20z\"/>\n",
              "  </svg>\n",
              "      </button>\n",
              "      \n",
              "  <style>\n",
              "    .colab-df-container {\n",
              "      display:flex;\n",
              "      flex-wrap:wrap;\n",
              "      gap: 12px;\n",
              "    }\n",
              "\n",
              "    .colab-df-convert {\n",
              "      background-color: #E8F0FE;\n",
              "      border: none;\n",
              "      border-radius: 50%;\n",
              "      cursor: pointer;\n",
              "      display: none;\n",
              "      fill: #1967D2;\n",
              "      height: 32px;\n",
              "      padding: 0 0 0 0;\n",
              "      width: 32px;\n",
              "    }\n",
              "\n",
              "    .colab-df-convert:hover {\n",
              "      background-color: #E2EBFA;\n",
              "      box-shadow: 0px 1px 2px rgba(60, 64, 67, 0.3), 0px 1px 3px 1px rgba(60, 64, 67, 0.15);\n",
              "      fill: #174EA6;\n",
              "    }\n",
              "\n",
              "    [theme=dark] .colab-df-convert {\n",
              "      background-color: #3B4455;\n",
              "      fill: #D2E3FC;\n",
              "    }\n",
              "\n",
              "    [theme=dark] .colab-df-convert:hover {\n",
              "      background-color: #434B5C;\n",
              "      box-shadow: 0px 1px 3px 1px rgba(0, 0, 0, 0.15);\n",
              "      filter: drop-shadow(0px 1px 2px rgba(0, 0, 0, 0.3));\n",
              "      fill: #FFFFFF;\n",
              "    }\n",
              "  </style>\n",
              "\n",
              "      <script>\n",
              "        const buttonEl =\n",
              "          document.querySelector('#df-b809ecd3-d561-46b7-8e29-20d83b912a87 button.colab-df-convert');\n",
              "        buttonEl.style.display =\n",
              "          google.colab.kernel.accessAllowed ? 'block' : 'none';\n",
              "\n",
              "        async function convertToInteractive(key) {\n",
              "          const element = document.querySelector('#df-b809ecd3-d561-46b7-8e29-20d83b912a87');\n",
              "          const dataTable =\n",
              "            await google.colab.kernel.invokeFunction('convertToInteractive',\n",
              "                                                     [key], {});\n",
              "          if (!dataTable) return;\n",
              "\n",
              "          const docLinkHtml = 'Like what you see? Visit the ' +\n",
              "            '<a target=\"_blank\" href=https://colab.research.google.com/notebooks/data_table.ipynb>data table notebook</a>'\n",
              "            + ' to learn more about interactive tables.';\n",
              "          element.innerHTML = '';\n",
              "          dataTable['output_type'] = 'display_data';\n",
              "          await google.colab.output.renderOutput(dataTable, element);\n",
              "          const docLink = document.createElement('div');\n",
              "          docLink.innerHTML = docLinkHtml;\n",
              "          element.appendChild(docLink);\n",
              "        }\n",
              "      </script>\n",
              "    </div>\n",
              "  </div>\n",
              "  "
            ]
          },
          "metadata": {},
          "execution_count": 13
        }
      ]
    },
    {
      "cell_type": "markdown",
      "source": [
        "De 2003 a 2022 tiveram apenas 15 estornos, cujo maior valor é o de R$1380,36."
      ],
      "metadata": {
        "id": "25T2wsRTHHbp"
      }
    },
    {
      "cell_type": "code",
      "source": [
        "dados['VALOR'].max()"
      ],
      "metadata": {
        "colab": {
          "base_uri": "https://localhost:8080/"
        },
        "id": "HF9dA6EwG1yB",
        "outputId": "ceaf7896-06a4-468b-d508-5bb75b3eb9f4"
      },
      "execution_count": 14,
      "outputs": [
        {
          "output_type": "execute_result",
          "data": {
            "text/plain": [
              "312903.38"
            ]
          },
          "metadata": {},
          "execution_count": 14
        }
      ]
    },
    {
      "cell_type": "code",
      "source": [
        "dados.query('VALOR > 100000')"
      ],
      "metadata": {
        "colab": {
          "base_uri": "https://localhost:8080/",
          "height": 739
        },
        "id": "RcS1ZsPhIMx6",
        "outputId": "be92a87f-ee95-4e55-bd5c-213697684e02"
      },
      "execution_count": 15,
      "outputs": [
        {
          "output_type": "execute_result",
          "data": {
            "text/plain": [
              "         DATA PGTO          VALOR\n",
              "4661    2003-12-14  103728.398438\n",
              "46277   2008-12-16  124012.500000\n",
              "46372   2008-12-17  290176.000000\n",
              "79023   2014-03-10  130985.000000\n",
              "81279   2014-07-15  139628.406250\n",
              "86004   2015-05-12  112294.000000\n",
              "90878   2016-06-13  135568.359375\n",
              "96780   2018-01-23  114541.601562\n",
              "100373  2019-02-11  138180.000000\n",
              "102074  2019-09-16  104375.250000\n",
              "102580  2019-11-17  113239.039062\n",
              "103149  2020-01-13  128820.000000\n",
              "103408  2020-02-25  140423.000000\n",
              "105823  2020-11-04  128510.382812\n",
              "106252  2020-12-28  180154.203125\n",
              "106517  2021-01-03  312903.375000\n",
              "106802  2021-02-16  129708.000000\n",
              "109445  2021-10-26  109266.000000\n",
              "110286  2021-12-23  202936.703125\n",
              "110480  2022-01-03  115690.000000\n",
              "110852  2022-03-02  217711.453125\n",
              "111442  2022-04-16  107779.398438"
            ],
            "text/html": [
              "\n",
              "  <div id=\"df-8e2a37ad-bde6-4b59-8d18-de4b558da0f2\">\n",
              "    <div class=\"colab-df-container\">\n",
              "      <div>\n",
              "<style scoped>\n",
              "    .dataframe tbody tr th:only-of-type {\n",
              "        vertical-align: middle;\n",
              "    }\n",
              "\n",
              "    .dataframe tbody tr th {\n",
              "        vertical-align: top;\n",
              "    }\n",
              "\n",
              "    .dataframe thead th {\n",
              "        text-align: right;\n",
              "    }\n",
              "</style>\n",
              "<table border=\"1\" class=\"dataframe\">\n",
              "  <thead>\n",
              "    <tr style=\"text-align: right;\">\n",
              "      <th></th>\n",
              "      <th>DATA PGTO</th>\n",
              "      <th>VALOR</th>\n",
              "    </tr>\n",
              "  </thead>\n",
              "  <tbody>\n",
              "    <tr>\n",
              "      <th>4661</th>\n",
              "      <td>2003-12-14</td>\n",
              "      <td>103728.398438</td>\n",
              "    </tr>\n",
              "    <tr>\n",
              "      <th>46277</th>\n",
              "      <td>2008-12-16</td>\n",
              "      <td>124012.500000</td>\n",
              "    </tr>\n",
              "    <tr>\n",
              "      <th>46372</th>\n",
              "      <td>2008-12-17</td>\n",
              "      <td>290176.000000</td>\n",
              "    </tr>\n",
              "    <tr>\n",
              "      <th>79023</th>\n",
              "      <td>2014-03-10</td>\n",
              "      <td>130985.000000</td>\n",
              "    </tr>\n",
              "    <tr>\n",
              "      <th>81279</th>\n",
              "      <td>2014-07-15</td>\n",
              "      <td>139628.406250</td>\n",
              "    </tr>\n",
              "    <tr>\n",
              "      <th>86004</th>\n",
              "      <td>2015-05-12</td>\n",
              "      <td>112294.000000</td>\n",
              "    </tr>\n",
              "    <tr>\n",
              "      <th>90878</th>\n",
              "      <td>2016-06-13</td>\n",
              "      <td>135568.359375</td>\n",
              "    </tr>\n",
              "    <tr>\n",
              "      <th>96780</th>\n",
              "      <td>2018-01-23</td>\n",
              "      <td>114541.601562</td>\n",
              "    </tr>\n",
              "    <tr>\n",
              "      <th>100373</th>\n",
              "      <td>2019-02-11</td>\n",
              "      <td>138180.000000</td>\n",
              "    </tr>\n",
              "    <tr>\n",
              "      <th>102074</th>\n",
              "      <td>2019-09-16</td>\n",
              "      <td>104375.250000</td>\n",
              "    </tr>\n",
              "    <tr>\n",
              "      <th>102580</th>\n",
              "      <td>2019-11-17</td>\n",
              "      <td>113239.039062</td>\n",
              "    </tr>\n",
              "    <tr>\n",
              "      <th>103149</th>\n",
              "      <td>2020-01-13</td>\n",
              "      <td>128820.000000</td>\n",
              "    </tr>\n",
              "    <tr>\n",
              "      <th>103408</th>\n",
              "      <td>2020-02-25</td>\n",
              "      <td>140423.000000</td>\n",
              "    </tr>\n",
              "    <tr>\n",
              "      <th>105823</th>\n",
              "      <td>2020-11-04</td>\n",
              "      <td>128510.382812</td>\n",
              "    </tr>\n",
              "    <tr>\n",
              "      <th>106252</th>\n",
              "      <td>2020-12-28</td>\n",
              "      <td>180154.203125</td>\n",
              "    </tr>\n",
              "    <tr>\n",
              "      <th>106517</th>\n",
              "      <td>2021-01-03</td>\n",
              "      <td>312903.375000</td>\n",
              "    </tr>\n",
              "    <tr>\n",
              "      <th>106802</th>\n",
              "      <td>2021-02-16</td>\n",
              "      <td>129708.000000</td>\n",
              "    </tr>\n",
              "    <tr>\n",
              "      <th>109445</th>\n",
              "      <td>2021-10-26</td>\n",
              "      <td>109266.000000</td>\n",
              "    </tr>\n",
              "    <tr>\n",
              "      <th>110286</th>\n",
              "      <td>2021-12-23</td>\n",
              "      <td>202936.703125</td>\n",
              "    </tr>\n",
              "    <tr>\n",
              "      <th>110480</th>\n",
              "      <td>2022-01-03</td>\n",
              "      <td>115690.000000</td>\n",
              "    </tr>\n",
              "    <tr>\n",
              "      <th>110852</th>\n",
              "      <td>2022-03-02</td>\n",
              "      <td>217711.453125</td>\n",
              "    </tr>\n",
              "    <tr>\n",
              "      <th>111442</th>\n",
              "      <td>2022-04-16</td>\n",
              "      <td>107779.398438</td>\n",
              "    </tr>\n",
              "  </tbody>\n",
              "</table>\n",
              "</div>\n",
              "      <button class=\"colab-df-convert\" onclick=\"convertToInteractive('df-8e2a37ad-bde6-4b59-8d18-de4b558da0f2')\"\n",
              "              title=\"Convert this dataframe to an interactive table.\"\n",
              "              style=\"display:none;\">\n",
              "        \n",
              "  <svg xmlns=\"http://www.w3.org/2000/svg\" height=\"24px\"viewBox=\"0 0 24 24\"\n",
              "       width=\"24px\">\n",
              "    <path d=\"M0 0h24v24H0V0z\" fill=\"none\"/>\n",
              "    <path d=\"M18.56 5.44l.94 2.06.94-2.06 2.06-.94-2.06-.94-.94-2.06-.94 2.06-2.06.94zm-11 1L8.5 8.5l.94-2.06 2.06-.94-2.06-.94L8.5 2.5l-.94 2.06-2.06.94zm10 10l.94 2.06.94-2.06 2.06-.94-2.06-.94-.94-2.06-.94 2.06-2.06.94z\"/><path d=\"M17.41 7.96l-1.37-1.37c-.4-.4-.92-.59-1.43-.59-.52 0-1.04.2-1.43.59L10.3 9.45l-7.72 7.72c-.78.78-.78 2.05 0 2.83L4 21.41c.39.39.9.59 1.41.59.51 0 1.02-.2 1.41-.59l7.78-7.78 2.81-2.81c.8-.78.8-2.07 0-2.86zM5.41 20L4 18.59l7.72-7.72 1.47 1.35L5.41 20z\"/>\n",
              "  </svg>\n",
              "      </button>\n",
              "      \n",
              "  <style>\n",
              "    .colab-df-container {\n",
              "      display:flex;\n",
              "      flex-wrap:wrap;\n",
              "      gap: 12px;\n",
              "    }\n",
              "\n",
              "    .colab-df-convert {\n",
              "      background-color: #E8F0FE;\n",
              "      border: none;\n",
              "      border-radius: 50%;\n",
              "      cursor: pointer;\n",
              "      display: none;\n",
              "      fill: #1967D2;\n",
              "      height: 32px;\n",
              "      padding: 0 0 0 0;\n",
              "      width: 32px;\n",
              "    }\n",
              "\n",
              "    .colab-df-convert:hover {\n",
              "      background-color: #E2EBFA;\n",
              "      box-shadow: 0px 1px 2px rgba(60, 64, 67, 0.3), 0px 1px 3px 1px rgba(60, 64, 67, 0.15);\n",
              "      fill: #174EA6;\n",
              "    }\n",
              "\n",
              "    [theme=dark] .colab-df-convert {\n",
              "      background-color: #3B4455;\n",
              "      fill: #D2E3FC;\n",
              "    }\n",
              "\n",
              "    [theme=dark] .colab-df-convert:hover {\n",
              "      background-color: #434B5C;\n",
              "      box-shadow: 0px 1px 3px 1px rgba(0, 0, 0, 0.15);\n",
              "      filter: drop-shadow(0px 1px 2px rgba(0, 0, 0, 0.3));\n",
              "      fill: #FFFFFF;\n",
              "    }\n",
              "  </style>\n",
              "\n",
              "      <script>\n",
              "        const buttonEl =\n",
              "          document.querySelector('#df-8e2a37ad-bde6-4b59-8d18-de4b558da0f2 button.colab-df-convert');\n",
              "        buttonEl.style.display =\n",
              "          google.colab.kernel.accessAllowed ? 'block' : 'none';\n",
              "\n",
              "        async function convertToInteractive(key) {\n",
              "          const element = document.querySelector('#df-8e2a37ad-bde6-4b59-8d18-de4b558da0f2');\n",
              "          const dataTable =\n",
              "            await google.colab.kernel.invokeFunction('convertToInteractive',\n",
              "                                                     [key], {});\n",
              "          if (!dataTable) return;\n",
              "\n",
              "          const docLinkHtml = 'Like what you see? Visit the ' +\n",
              "            '<a target=\"_blank\" href=https://colab.research.google.com/notebooks/data_table.ipynb>data table notebook</a>'\n",
              "            + ' to learn more about interactive tables.';\n",
              "          element.innerHTML = '';\n",
              "          dataTable['output_type'] = 'display_data';\n",
              "          await google.colab.output.renderOutput(dataTable, element);\n",
              "          const docLink = document.createElement('div');\n",
              "          docLink.innerHTML = docLinkHtml;\n",
              "          element.appendChild(docLink);\n",
              "        }\n",
              "      </script>\n",
              "    </div>\n",
              "  </div>\n",
              "  "
            ]
          },
          "metadata": {},
          "execution_count": 15
        }
      ]
    },
    {
      "cell_type": "markdown",
      "source": [
        "Por 22 vezes houve gastos maiores do que R$100.000,00 em apenas 1 transação entre o período de 2003 e 2022 no cartão corporativo da Presidência da República."
      ],
      "metadata": {
        "id": "KuBZB81dK03f"
      }
    },
    {
      "cell_type": "code",
      "source": [
        "dados.query('VALOR > 250000 & VALOR < 350000')"
      ],
      "metadata": {
        "colab": {
          "base_uri": "https://localhost:8080/",
          "height": 112
        },
        "id": "pHq3E0t0JU9B",
        "outputId": "c0c3f4fd-4e2d-4e55-aeb8-ee054fd1881c"
      },
      "execution_count": 16,
      "outputs": [
        {
          "output_type": "execute_result",
          "data": {
            "text/plain": [
              "         DATA PGTO       VALOR\n",
              "46372   2008-12-17  290176.000\n",
              "106517  2021-01-03  312903.375"
            ],
            "text/html": [
              "\n",
              "  <div id=\"df-0219e2a8-9111-48fd-95ac-0271e495b511\">\n",
              "    <div class=\"colab-df-container\">\n",
              "      <div>\n",
              "<style scoped>\n",
              "    .dataframe tbody tr th:only-of-type {\n",
              "        vertical-align: middle;\n",
              "    }\n",
              "\n",
              "    .dataframe tbody tr th {\n",
              "        vertical-align: top;\n",
              "    }\n",
              "\n",
              "    .dataframe thead th {\n",
              "        text-align: right;\n",
              "    }\n",
              "</style>\n",
              "<table border=\"1\" class=\"dataframe\">\n",
              "  <thead>\n",
              "    <tr style=\"text-align: right;\">\n",
              "      <th></th>\n",
              "      <th>DATA PGTO</th>\n",
              "      <th>VALOR</th>\n",
              "    </tr>\n",
              "  </thead>\n",
              "  <tbody>\n",
              "    <tr>\n",
              "      <th>46372</th>\n",
              "      <td>2008-12-17</td>\n",
              "      <td>290176.000</td>\n",
              "    </tr>\n",
              "    <tr>\n",
              "      <th>106517</th>\n",
              "      <td>2021-01-03</td>\n",
              "      <td>312903.375</td>\n",
              "    </tr>\n",
              "  </tbody>\n",
              "</table>\n",
              "</div>\n",
              "      <button class=\"colab-df-convert\" onclick=\"convertToInteractive('df-0219e2a8-9111-48fd-95ac-0271e495b511')\"\n",
              "              title=\"Convert this dataframe to an interactive table.\"\n",
              "              style=\"display:none;\">\n",
              "        \n",
              "  <svg xmlns=\"http://www.w3.org/2000/svg\" height=\"24px\"viewBox=\"0 0 24 24\"\n",
              "       width=\"24px\">\n",
              "    <path d=\"M0 0h24v24H0V0z\" fill=\"none\"/>\n",
              "    <path d=\"M18.56 5.44l.94 2.06.94-2.06 2.06-.94-2.06-.94-.94-2.06-.94 2.06-2.06.94zm-11 1L8.5 8.5l.94-2.06 2.06-.94-2.06-.94L8.5 2.5l-.94 2.06-2.06.94zm10 10l.94 2.06.94-2.06 2.06-.94-2.06-.94-.94-2.06-.94 2.06-2.06.94z\"/><path d=\"M17.41 7.96l-1.37-1.37c-.4-.4-.92-.59-1.43-.59-.52 0-1.04.2-1.43.59L10.3 9.45l-7.72 7.72c-.78.78-.78 2.05 0 2.83L4 21.41c.39.39.9.59 1.41.59.51 0 1.02-.2 1.41-.59l7.78-7.78 2.81-2.81c.8-.78.8-2.07 0-2.86zM5.41 20L4 18.59l7.72-7.72 1.47 1.35L5.41 20z\"/>\n",
              "  </svg>\n",
              "      </button>\n",
              "      \n",
              "  <style>\n",
              "    .colab-df-container {\n",
              "      display:flex;\n",
              "      flex-wrap:wrap;\n",
              "      gap: 12px;\n",
              "    }\n",
              "\n",
              "    .colab-df-convert {\n",
              "      background-color: #E8F0FE;\n",
              "      border: none;\n",
              "      border-radius: 50%;\n",
              "      cursor: pointer;\n",
              "      display: none;\n",
              "      fill: #1967D2;\n",
              "      height: 32px;\n",
              "      padding: 0 0 0 0;\n",
              "      width: 32px;\n",
              "    }\n",
              "\n",
              "    .colab-df-convert:hover {\n",
              "      background-color: #E2EBFA;\n",
              "      box-shadow: 0px 1px 2px rgba(60, 64, 67, 0.3), 0px 1px 3px 1px rgba(60, 64, 67, 0.15);\n",
              "      fill: #174EA6;\n",
              "    }\n",
              "\n",
              "    [theme=dark] .colab-df-convert {\n",
              "      background-color: #3B4455;\n",
              "      fill: #D2E3FC;\n",
              "    }\n",
              "\n",
              "    [theme=dark] .colab-df-convert:hover {\n",
              "      background-color: #434B5C;\n",
              "      box-shadow: 0px 1px 3px 1px rgba(0, 0, 0, 0.15);\n",
              "      filter: drop-shadow(0px 1px 2px rgba(0, 0, 0, 0.3));\n",
              "      fill: #FFFFFF;\n",
              "    }\n",
              "  </style>\n",
              "\n",
              "      <script>\n",
              "        const buttonEl =\n",
              "          document.querySelector('#df-0219e2a8-9111-48fd-95ac-0271e495b511 button.colab-df-convert');\n",
              "        buttonEl.style.display =\n",
              "          google.colab.kernel.accessAllowed ? 'block' : 'none';\n",
              "\n",
              "        async function convertToInteractive(key) {\n",
              "          const element = document.querySelector('#df-0219e2a8-9111-48fd-95ac-0271e495b511');\n",
              "          const dataTable =\n",
              "            await google.colab.kernel.invokeFunction('convertToInteractive',\n",
              "                                                     [key], {});\n",
              "          if (!dataTable) return;\n",
              "\n",
              "          const docLinkHtml = 'Like what you see? Visit the ' +\n",
              "            '<a target=\"_blank\" href=https://colab.research.google.com/notebooks/data_table.ipynb>data table notebook</a>'\n",
              "            + ' to learn more about interactive tables.';\n",
              "          element.innerHTML = '';\n",
              "          dataTable['output_type'] = 'display_data';\n",
              "          await google.colab.output.renderOutput(dataTable, element);\n",
              "          const docLink = document.createElement('div');\n",
              "          docLink.innerHTML = docLinkHtml;\n",
              "          element.appendChild(docLink);\n",
              "        }\n",
              "      </script>\n",
              "    </div>\n",
              "  </div>\n",
              "  "
            ]
          },
          "metadata": {},
          "execution_count": 16
        }
      ]
    },
    {
      "cell_type": "markdown",
      "source": [
        "Temos 2 ocorrências para valores entre R$250.000 a R$350.000."
      ],
      "metadata": {
        "id": "rCHpcihkM1pV"
      }
    },
    {
      "cell_type": "code",
      "source": [
        "dados.query('VALOR > 150000 & VALOR < 250000')"
      ],
      "metadata": {
        "colab": {
          "base_uri": "https://localhost:8080/",
          "height": 144
        },
        "id": "j5QSn5MULmV7",
        "outputId": "13c57abf-906c-43c3-bb02-1224cec65883"
      },
      "execution_count": 17,
      "outputs": [
        {
          "output_type": "execute_result",
          "data": {
            "text/plain": [
              "         DATA PGTO          VALOR\n",
              "106252  2020-12-28  180154.203125\n",
              "110286  2021-12-23  202936.703125\n",
              "110852  2022-03-02  217711.453125"
            ],
            "text/html": [
              "\n",
              "  <div id=\"df-ecca6db1-365a-4ee1-a692-092f08628255\">\n",
              "    <div class=\"colab-df-container\">\n",
              "      <div>\n",
              "<style scoped>\n",
              "    .dataframe tbody tr th:only-of-type {\n",
              "        vertical-align: middle;\n",
              "    }\n",
              "\n",
              "    .dataframe tbody tr th {\n",
              "        vertical-align: top;\n",
              "    }\n",
              "\n",
              "    .dataframe thead th {\n",
              "        text-align: right;\n",
              "    }\n",
              "</style>\n",
              "<table border=\"1\" class=\"dataframe\">\n",
              "  <thead>\n",
              "    <tr style=\"text-align: right;\">\n",
              "      <th></th>\n",
              "      <th>DATA PGTO</th>\n",
              "      <th>VALOR</th>\n",
              "    </tr>\n",
              "  </thead>\n",
              "  <tbody>\n",
              "    <tr>\n",
              "      <th>106252</th>\n",
              "      <td>2020-12-28</td>\n",
              "      <td>180154.203125</td>\n",
              "    </tr>\n",
              "    <tr>\n",
              "      <th>110286</th>\n",
              "      <td>2021-12-23</td>\n",
              "      <td>202936.703125</td>\n",
              "    </tr>\n",
              "    <tr>\n",
              "      <th>110852</th>\n",
              "      <td>2022-03-02</td>\n",
              "      <td>217711.453125</td>\n",
              "    </tr>\n",
              "  </tbody>\n",
              "</table>\n",
              "</div>\n",
              "      <button class=\"colab-df-convert\" onclick=\"convertToInteractive('df-ecca6db1-365a-4ee1-a692-092f08628255')\"\n",
              "              title=\"Convert this dataframe to an interactive table.\"\n",
              "              style=\"display:none;\">\n",
              "        \n",
              "  <svg xmlns=\"http://www.w3.org/2000/svg\" height=\"24px\"viewBox=\"0 0 24 24\"\n",
              "       width=\"24px\">\n",
              "    <path d=\"M0 0h24v24H0V0z\" fill=\"none\"/>\n",
              "    <path d=\"M18.56 5.44l.94 2.06.94-2.06 2.06-.94-2.06-.94-.94-2.06-.94 2.06-2.06.94zm-11 1L8.5 8.5l.94-2.06 2.06-.94-2.06-.94L8.5 2.5l-.94 2.06-2.06.94zm10 10l.94 2.06.94-2.06 2.06-.94-2.06-.94-.94-2.06-.94 2.06-2.06.94z\"/><path d=\"M17.41 7.96l-1.37-1.37c-.4-.4-.92-.59-1.43-.59-.52 0-1.04.2-1.43.59L10.3 9.45l-7.72 7.72c-.78.78-.78 2.05 0 2.83L4 21.41c.39.39.9.59 1.41.59.51 0 1.02-.2 1.41-.59l7.78-7.78 2.81-2.81c.8-.78.8-2.07 0-2.86zM5.41 20L4 18.59l7.72-7.72 1.47 1.35L5.41 20z\"/>\n",
              "  </svg>\n",
              "      </button>\n",
              "      \n",
              "  <style>\n",
              "    .colab-df-container {\n",
              "      display:flex;\n",
              "      flex-wrap:wrap;\n",
              "      gap: 12px;\n",
              "    }\n",
              "\n",
              "    .colab-df-convert {\n",
              "      background-color: #E8F0FE;\n",
              "      border: none;\n",
              "      border-radius: 50%;\n",
              "      cursor: pointer;\n",
              "      display: none;\n",
              "      fill: #1967D2;\n",
              "      height: 32px;\n",
              "      padding: 0 0 0 0;\n",
              "      width: 32px;\n",
              "    }\n",
              "\n",
              "    .colab-df-convert:hover {\n",
              "      background-color: #E2EBFA;\n",
              "      box-shadow: 0px 1px 2px rgba(60, 64, 67, 0.3), 0px 1px 3px 1px rgba(60, 64, 67, 0.15);\n",
              "      fill: #174EA6;\n",
              "    }\n",
              "\n",
              "    [theme=dark] .colab-df-convert {\n",
              "      background-color: #3B4455;\n",
              "      fill: #D2E3FC;\n",
              "    }\n",
              "\n",
              "    [theme=dark] .colab-df-convert:hover {\n",
              "      background-color: #434B5C;\n",
              "      box-shadow: 0px 1px 3px 1px rgba(0, 0, 0, 0.15);\n",
              "      filter: drop-shadow(0px 1px 2px rgba(0, 0, 0, 0.3));\n",
              "      fill: #FFFFFF;\n",
              "    }\n",
              "  </style>\n",
              "\n",
              "      <script>\n",
              "        const buttonEl =\n",
              "          document.querySelector('#df-ecca6db1-365a-4ee1-a692-092f08628255 button.colab-df-convert');\n",
              "        buttonEl.style.display =\n",
              "          google.colab.kernel.accessAllowed ? 'block' : 'none';\n",
              "\n",
              "        async function convertToInteractive(key) {\n",
              "          const element = document.querySelector('#df-ecca6db1-365a-4ee1-a692-092f08628255');\n",
              "          const dataTable =\n",
              "            await google.colab.kernel.invokeFunction('convertToInteractive',\n",
              "                                                     [key], {});\n",
              "          if (!dataTable) return;\n",
              "\n",
              "          const docLinkHtml = 'Like what you see? Visit the ' +\n",
              "            '<a target=\"_blank\" href=https://colab.research.google.com/notebooks/data_table.ipynb>data table notebook</a>'\n",
              "            + ' to learn more about interactive tables.';\n",
              "          element.innerHTML = '';\n",
              "          dataTable['output_type'] = 'display_data';\n",
              "          await google.colab.output.renderOutput(dataTable, element);\n",
              "          const docLink = document.createElement('div');\n",
              "          docLink.innerHTML = docLinkHtml;\n",
              "          element.appendChild(docLink);\n",
              "        }\n",
              "      </script>\n",
              "    </div>\n",
              "  </div>\n",
              "  "
            ]
          },
          "metadata": {},
          "execution_count": 17
        }
      ]
    },
    {
      "cell_type": "markdown",
      "source": [
        "Temos 3 ocorrências para valores entre R$150.000 a R$250.000."
      ],
      "metadata": {
        "id": "sKjeBIWSM_au"
      }
    },
    {
      "cell_type": "code",
      "source": [
        "dados.query('VALOR > 100000 & VALOR < 150000')"
      ],
      "metadata": {
        "colab": {
          "base_uri": "https://localhost:8080/",
          "height": 583
        },
        "id": "nzHDY1YcLr5x",
        "outputId": "c66f5946-985c-4275-d7bf-b59a88185b46"
      },
      "execution_count": 18,
      "outputs": [
        {
          "output_type": "execute_result",
          "data": {
            "text/plain": [
              "         DATA PGTO          VALOR\n",
              "4661    2003-12-14  103728.398438\n",
              "46277   2008-12-16  124012.500000\n",
              "79023   2014-03-10  130985.000000\n",
              "81279   2014-07-15  139628.406250\n",
              "86004   2015-05-12  112294.000000\n",
              "90878   2016-06-13  135568.359375\n",
              "96780   2018-01-23  114541.601562\n",
              "100373  2019-02-11  138180.000000\n",
              "102074  2019-09-16  104375.250000\n",
              "102580  2019-11-17  113239.039062\n",
              "103149  2020-01-13  128820.000000\n",
              "103408  2020-02-25  140423.000000\n",
              "105823  2020-11-04  128510.382812\n",
              "106802  2021-02-16  129708.000000\n",
              "109445  2021-10-26  109266.000000\n",
              "110480  2022-01-03  115690.000000\n",
              "111442  2022-04-16  107779.398438"
            ],
            "text/html": [
              "\n",
              "  <div id=\"df-40f2890a-800b-4bdb-b307-cd2b8d12174f\">\n",
              "    <div class=\"colab-df-container\">\n",
              "      <div>\n",
              "<style scoped>\n",
              "    .dataframe tbody tr th:only-of-type {\n",
              "        vertical-align: middle;\n",
              "    }\n",
              "\n",
              "    .dataframe tbody tr th {\n",
              "        vertical-align: top;\n",
              "    }\n",
              "\n",
              "    .dataframe thead th {\n",
              "        text-align: right;\n",
              "    }\n",
              "</style>\n",
              "<table border=\"1\" class=\"dataframe\">\n",
              "  <thead>\n",
              "    <tr style=\"text-align: right;\">\n",
              "      <th></th>\n",
              "      <th>DATA PGTO</th>\n",
              "      <th>VALOR</th>\n",
              "    </tr>\n",
              "  </thead>\n",
              "  <tbody>\n",
              "    <tr>\n",
              "      <th>4661</th>\n",
              "      <td>2003-12-14</td>\n",
              "      <td>103728.398438</td>\n",
              "    </tr>\n",
              "    <tr>\n",
              "      <th>46277</th>\n",
              "      <td>2008-12-16</td>\n",
              "      <td>124012.500000</td>\n",
              "    </tr>\n",
              "    <tr>\n",
              "      <th>79023</th>\n",
              "      <td>2014-03-10</td>\n",
              "      <td>130985.000000</td>\n",
              "    </tr>\n",
              "    <tr>\n",
              "      <th>81279</th>\n",
              "      <td>2014-07-15</td>\n",
              "      <td>139628.406250</td>\n",
              "    </tr>\n",
              "    <tr>\n",
              "      <th>86004</th>\n",
              "      <td>2015-05-12</td>\n",
              "      <td>112294.000000</td>\n",
              "    </tr>\n",
              "    <tr>\n",
              "      <th>90878</th>\n",
              "      <td>2016-06-13</td>\n",
              "      <td>135568.359375</td>\n",
              "    </tr>\n",
              "    <tr>\n",
              "      <th>96780</th>\n",
              "      <td>2018-01-23</td>\n",
              "      <td>114541.601562</td>\n",
              "    </tr>\n",
              "    <tr>\n",
              "      <th>100373</th>\n",
              "      <td>2019-02-11</td>\n",
              "      <td>138180.000000</td>\n",
              "    </tr>\n",
              "    <tr>\n",
              "      <th>102074</th>\n",
              "      <td>2019-09-16</td>\n",
              "      <td>104375.250000</td>\n",
              "    </tr>\n",
              "    <tr>\n",
              "      <th>102580</th>\n",
              "      <td>2019-11-17</td>\n",
              "      <td>113239.039062</td>\n",
              "    </tr>\n",
              "    <tr>\n",
              "      <th>103149</th>\n",
              "      <td>2020-01-13</td>\n",
              "      <td>128820.000000</td>\n",
              "    </tr>\n",
              "    <tr>\n",
              "      <th>103408</th>\n",
              "      <td>2020-02-25</td>\n",
              "      <td>140423.000000</td>\n",
              "    </tr>\n",
              "    <tr>\n",
              "      <th>105823</th>\n",
              "      <td>2020-11-04</td>\n",
              "      <td>128510.382812</td>\n",
              "    </tr>\n",
              "    <tr>\n",
              "      <th>106802</th>\n",
              "      <td>2021-02-16</td>\n",
              "      <td>129708.000000</td>\n",
              "    </tr>\n",
              "    <tr>\n",
              "      <th>109445</th>\n",
              "      <td>2021-10-26</td>\n",
              "      <td>109266.000000</td>\n",
              "    </tr>\n",
              "    <tr>\n",
              "      <th>110480</th>\n",
              "      <td>2022-01-03</td>\n",
              "      <td>115690.000000</td>\n",
              "    </tr>\n",
              "    <tr>\n",
              "      <th>111442</th>\n",
              "      <td>2022-04-16</td>\n",
              "      <td>107779.398438</td>\n",
              "    </tr>\n",
              "  </tbody>\n",
              "</table>\n",
              "</div>\n",
              "      <button class=\"colab-df-convert\" onclick=\"convertToInteractive('df-40f2890a-800b-4bdb-b307-cd2b8d12174f')\"\n",
              "              title=\"Convert this dataframe to an interactive table.\"\n",
              "              style=\"display:none;\">\n",
              "        \n",
              "  <svg xmlns=\"http://www.w3.org/2000/svg\" height=\"24px\"viewBox=\"0 0 24 24\"\n",
              "       width=\"24px\">\n",
              "    <path d=\"M0 0h24v24H0V0z\" fill=\"none\"/>\n",
              "    <path d=\"M18.56 5.44l.94 2.06.94-2.06 2.06-.94-2.06-.94-.94-2.06-.94 2.06-2.06.94zm-11 1L8.5 8.5l.94-2.06 2.06-.94-2.06-.94L8.5 2.5l-.94 2.06-2.06.94zm10 10l.94 2.06.94-2.06 2.06-.94-2.06-.94-.94-2.06-.94 2.06-2.06.94z\"/><path d=\"M17.41 7.96l-1.37-1.37c-.4-.4-.92-.59-1.43-.59-.52 0-1.04.2-1.43.59L10.3 9.45l-7.72 7.72c-.78.78-.78 2.05 0 2.83L4 21.41c.39.39.9.59 1.41.59.51 0 1.02-.2 1.41-.59l7.78-7.78 2.81-2.81c.8-.78.8-2.07 0-2.86zM5.41 20L4 18.59l7.72-7.72 1.47 1.35L5.41 20z\"/>\n",
              "  </svg>\n",
              "      </button>\n",
              "      \n",
              "  <style>\n",
              "    .colab-df-container {\n",
              "      display:flex;\n",
              "      flex-wrap:wrap;\n",
              "      gap: 12px;\n",
              "    }\n",
              "\n",
              "    .colab-df-convert {\n",
              "      background-color: #E8F0FE;\n",
              "      border: none;\n",
              "      border-radius: 50%;\n",
              "      cursor: pointer;\n",
              "      display: none;\n",
              "      fill: #1967D2;\n",
              "      height: 32px;\n",
              "      padding: 0 0 0 0;\n",
              "      width: 32px;\n",
              "    }\n",
              "\n",
              "    .colab-df-convert:hover {\n",
              "      background-color: #E2EBFA;\n",
              "      box-shadow: 0px 1px 2px rgba(60, 64, 67, 0.3), 0px 1px 3px 1px rgba(60, 64, 67, 0.15);\n",
              "      fill: #174EA6;\n",
              "    }\n",
              "\n",
              "    [theme=dark] .colab-df-convert {\n",
              "      background-color: #3B4455;\n",
              "      fill: #D2E3FC;\n",
              "    }\n",
              "\n",
              "    [theme=dark] .colab-df-convert:hover {\n",
              "      background-color: #434B5C;\n",
              "      box-shadow: 0px 1px 3px 1px rgba(0, 0, 0, 0.15);\n",
              "      filter: drop-shadow(0px 1px 2px rgba(0, 0, 0, 0.3));\n",
              "      fill: #FFFFFF;\n",
              "    }\n",
              "  </style>\n",
              "\n",
              "      <script>\n",
              "        const buttonEl =\n",
              "          document.querySelector('#df-40f2890a-800b-4bdb-b307-cd2b8d12174f button.colab-df-convert');\n",
              "        buttonEl.style.display =\n",
              "          google.colab.kernel.accessAllowed ? 'block' : 'none';\n",
              "\n",
              "        async function convertToInteractive(key) {\n",
              "          const element = document.querySelector('#df-40f2890a-800b-4bdb-b307-cd2b8d12174f');\n",
              "          const dataTable =\n",
              "            await google.colab.kernel.invokeFunction('convertToInteractive',\n",
              "                                                     [key], {});\n",
              "          if (!dataTable) return;\n",
              "\n",
              "          const docLinkHtml = 'Like what you see? Visit the ' +\n",
              "            '<a target=\"_blank\" href=https://colab.research.google.com/notebooks/data_table.ipynb>data table notebook</a>'\n",
              "            + ' to learn more about interactive tables.';\n",
              "          element.innerHTML = '';\n",
              "          dataTable['output_type'] = 'display_data';\n",
              "          await google.colab.output.renderOutput(dataTable, element);\n",
              "          const docLink = document.createElement('div');\n",
              "          docLink.innerHTML = docLinkHtml;\n",
              "          element.appendChild(docLink);\n",
              "        }\n",
              "      </script>\n",
              "    </div>\n",
              "  </div>\n",
              "  "
            ]
          },
          "metadata": {},
          "execution_count": 18
        }
      ]
    },
    {
      "cell_type": "markdown",
      "source": [
        "Temos 17 ocorrências para valores entre R$100.000 a R$150.000."
      ],
      "metadata": {
        "id": "6D6MrmRANGRx"
      }
    },
    {
      "cell_type": "code",
      "source": [
        "dados.query('VALOR > 90000 & VALOR < 100000')"
      ],
      "metadata": {
        "colab": {
          "base_uri": "https://localhost:8080/",
          "height": 112
        },
        "id": "9XnjxgoRL1NK",
        "outputId": "6ac583e2-d2ae-45b6-a609-8c4c5b8f7cb8"
      },
      "execution_count": 19,
      "outputs": [
        {
          "output_type": "execute_result",
          "data": {
            "text/plain": [
              "         DATA PGTO         VALOR\n",
              "106152  2020-12-24  92610.000000\n",
              "109480  2021-10-15  94449.921875"
            ],
            "text/html": [
              "\n",
              "  <div id=\"df-2b75dca8-4285-4628-88d0-28c0d0ed648e\">\n",
              "    <div class=\"colab-df-container\">\n",
              "      <div>\n",
              "<style scoped>\n",
              "    .dataframe tbody tr th:only-of-type {\n",
              "        vertical-align: middle;\n",
              "    }\n",
              "\n",
              "    .dataframe tbody tr th {\n",
              "        vertical-align: top;\n",
              "    }\n",
              "\n",
              "    .dataframe thead th {\n",
              "        text-align: right;\n",
              "    }\n",
              "</style>\n",
              "<table border=\"1\" class=\"dataframe\">\n",
              "  <thead>\n",
              "    <tr style=\"text-align: right;\">\n",
              "      <th></th>\n",
              "      <th>DATA PGTO</th>\n",
              "      <th>VALOR</th>\n",
              "    </tr>\n",
              "  </thead>\n",
              "  <tbody>\n",
              "    <tr>\n",
              "      <th>106152</th>\n",
              "      <td>2020-12-24</td>\n",
              "      <td>92610.000000</td>\n",
              "    </tr>\n",
              "    <tr>\n",
              "      <th>109480</th>\n",
              "      <td>2021-10-15</td>\n",
              "      <td>94449.921875</td>\n",
              "    </tr>\n",
              "  </tbody>\n",
              "</table>\n",
              "</div>\n",
              "      <button class=\"colab-df-convert\" onclick=\"convertToInteractive('df-2b75dca8-4285-4628-88d0-28c0d0ed648e')\"\n",
              "              title=\"Convert this dataframe to an interactive table.\"\n",
              "              style=\"display:none;\">\n",
              "        \n",
              "  <svg xmlns=\"http://www.w3.org/2000/svg\" height=\"24px\"viewBox=\"0 0 24 24\"\n",
              "       width=\"24px\">\n",
              "    <path d=\"M0 0h24v24H0V0z\" fill=\"none\"/>\n",
              "    <path d=\"M18.56 5.44l.94 2.06.94-2.06 2.06-.94-2.06-.94-.94-2.06-.94 2.06-2.06.94zm-11 1L8.5 8.5l.94-2.06 2.06-.94-2.06-.94L8.5 2.5l-.94 2.06-2.06.94zm10 10l.94 2.06.94-2.06 2.06-.94-2.06-.94-.94-2.06-.94 2.06-2.06.94z\"/><path d=\"M17.41 7.96l-1.37-1.37c-.4-.4-.92-.59-1.43-.59-.52 0-1.04.2-1.43.59L10.3 9.45l-7.72 7.72c-.78.78-.78 2.05 0 2.83L4 21.41c.39.39.9.59 1.41.59.51 0 1.02-.2 1.41-.59l7.78-7.78 2.81-2.81c.8-.78.8-2.07 0-2.86zM5.41 20L4 18.59l7.72-7.72 1.47 1.35L5.41 20z\"/>\n",
              "  </svg>\n",
              "      </button>\n",
              "      \n",
              "  <style>\n",
              "    .colab-df-container {\n",
              "      display:flex;\n",
              "      flex-wrap:wrap;\n",
              "      gap: 12px;\n",
              "    }\n",
              "\n",
              "    .colab-df-convert {\n",
              "      background-color: #E8F0FE;\n",
              "      border: none;\n",
              "      border-radius: 50%;\n",
              "      cursor: pointer;\n",
              "      display: none;\n",
              "      fill: #1967D2;\n",
              "      height: 32px;\n",
              "      padding: 0 0 0 0;\n",
              "      width: 32px;\n",
              "    }\n",
              "\n",
              "    .colab-df-convert:hover {\n",
              "      background-color: #E2EBFA;\n",
              "      box-shadow: 0px 1px 2px rgba(60, 64, 67, 0.3), 0px 1px 3px 1px rgba(60, 64, 67, 0.15);\n",
              "      fill: #174EA6;\n",
              "    }\n",
              "\n",
              "    [theme=dark] .colab-df-convert {\n",
              "      background-color: #3B4455;\n",
              "      fill: #D2E3FC;\n",
              "    }\n",
              "\n",
              "    [theme=dark] .colab-df-convert:hover {\n",
              "      background-color: #434B5C;\n",
              "      box-shadow: 0px 1px 3px 1px rgba(0, 0, 0, 0.15);\n",
              "      filter: drop-shadow(0px 1px 2px rgba(0, 0, 0, 0.3));\n",
              "      fill: #FFFFFF;\n",
              "    }\n",
              "  </style>\n",
              "\n",
              "      <script>\n",
              "        const buttonEl =\n",
              "          document.querySelector('#df-2b75dca8-4285-4628-88d0-28c0d0ed648e button.colab-df-convert');\n",
              "        buttonEl.style.display =\n",
              "          google.colab.kernel.accessAllowed ? 'block' : 'none';\n",
              "\n",
              "        async function convertToInteractive(key) {\n",
              "          const element = document.querySelector('#df-2b75dca8-4285-4628-88d0-28c0d0ed648e');\n",
              "          const dataTable =\n",
              "            await google.colab.kernel.invokeFunction('convertToInteractive',\n",
              "                                                     [key], {});\n",
              "          if (!dataTable) return;\n",
              "\n",
              "          const docLinkHtml = 'Like what you see? Visit the ' +\n",
              "            '<a target=\"_blank\" href=https://colab.research.google.com/notebooks/data_table.ipynb>data table notebook</a>'\n",
              "            + ' to learn more about interactive tables.';\n",
              "          element.innerHTML = '';\n",
              "          dataTable['output_type'] = 'display_data';\n",
              "          await google.colab.output.renderOutput(dataTable, element);\n",
              "          const docLink = document.createElement('div');\n",
              "          docLink.innerHTML = docLinkHtml;\n",
              "          element.appendChild(docLink);\n",
              "        }\n",
              "      </script>\n",
              "    </div>\n",
              "  </div>\n",
              "  "
            ]
          },
          "metadata": {},
          "execution_count": 19
        }
      ]
    },
    {
      "cell_type": "code",
      "source": [
        "dados.query('VALOR > 80000 & VALOR < 90000').count()"
      ],
      "metadata": {
        "colab": {
          "base_uri": "https://localhost:8080/"
        },
        "id": "iniRdWnmOW51",
        "outputId": "0988b2b7-2e41-4d94-f142-5d62ca175b4b"
      },
      "execution_count": 20,
      "outputs": [
        {
          "output_type": "execute_result",
          "data": {
            "text/plain": [
              "DATA PGTO    10\n",
              "VALOR        10\n",
              "dtype: int64"
            ]
          },
          "metadata": {},
          "execution_count": 20
        }
      ]
    },
    {
      "cell_type": "code",
      "source": [
        "dados.query('VALOR > 70000 & VALOR < 80000').count()"
      ],
      "metadata": {
        "colab": {
          "base_uri": "https://localhost:8080/"
        },
        "id": "qdOHqhC7ObwB",
        "outputId": "8d74ae5f-4706-4722-89ce-18b6cabf1bf8"
      },
      "execution_count": 21,
      "outputs": [
        {
          "output_type": "execute_result",
          "data": {
            "text/plain": [
              "DATA PGTO    10\n",
              "VALOR        10\n",
              "dtype: int64"
            ]
          },
          "metadata": {},
          "execution_count": 21
        }
      ]
    },
    {
      "cell_type": "code",
      "source": [
        "dados.query('VALOR > 60000 & VALOR < 70000').count()"
      ],
      "metadata": {
        "colab": {
          "base_uri": "https://localhost:8080/"
        },
        "id": "Iz6SsgL6O95z",
        "outputId": "f0295c59-9ac2-40ec-b7d7-66a2e414e9a4"
      },
      "execution_count": 22,
      "outputs": [
        {
          "output_type": "execute_result",
          "data": {
            "text/plain": [
              "DATA PGTO    25\n",
              "VALOR        25\n",
              "dtype: int64"
            ]
          },
          "metadata": {},
          "execution_count": 22
        }
      ]
    },
    {
      "cell_type": "code",
      "source": [
        "dados.query('VALOR > 50000 & VALOR < 60000').count()"
      ],
      "metadata": {
        "colab": {
          "base_uri": "https://localhost:8080/"
        },
        "id": "9TpPztW5PKgn",
        "outputId": "49ece443-85a3-431b-8cda-3ae62d389b55"
      },
      "execution_count": 23,
      "outputs": [
        {
          "output_type": "execute_result",
          "data": {
            "text/plain": [
              "DATA PGTO    35\n",
              "VALOR        35\n",
              "dtype: int64"
            ]
          },
          "metadata": {},
          "execution_count": 23
        }
      ]
    },
    {
      "cell_type": "code",
      "source": [
        "dados.query('VALOR > 40000 & VALOR < 50000').count()"
      ],
      "metadata": {
        "colab": {
          "base_uri": "https://localhost:8080/"
        },
        "id": "n6iUr3hAPPGC",
        "outputId": "767f18d9-ab23-4948-b605-4736d5c95bd6"
      },
      "execution_count": 24,
      "outputs": [
        {
          "output_type": "execute_result",
          "data": {
            "text/plain": [
              "DATA PGTO    69\n",
              "VALOR        69\n",
              "dtype: int64"
            ]
          },
          "metadata": {},
          "execution_count": 24
        }
      ]
    },
    {
      "cell_type": "code",
      "source": [
        "dados.query('VALOR > 30000 & VALOR < 40000').count()"
      ],
      "metadata": {
        "colab": {
          "base_uri": "https://localhost:8080/"
        },
        "id": "xjiGOPlyPWqm",
        "outputId": "63620af9-c5fc-42d5-a5d9-f145ca79a207"
      },
      "execution_count": 25,
      "outputs": [
        {
          "output_type": "execute_result",
          "data": {
            "text/plain": [
              "DATA PGTO    162\n",
              "VALOR        162\n",
              "dtype: int64"
            ]
          },
          "metadata": {},
          "execution_count": 25
        }
      ]
    },
    {
      "cell_type": "code",
      "source": [
        "dados.query('VALOR > 20000 & VALOR < 30000').count()"
      ],
      "metadata": {
        "colab": {
          "base_uri": "https://localhost:8080/"
        },
        "id": "tcGwnrSwPaaT",
        "outputId": "a9b45c6e-0af3-40b3-f4d0-ee76d0deff8a"
      },
      "execution_count": 26,
      "outputs": [
        {
          "output_type": "execute_result",
          "data": {
            "text/plain": [
              "DATA PGTO    409\n",
              "VALOR        409\n",
              "dtype: int64"
            ]
          },
          "metadata": {},
          "execution_count": 26
        }
      ]
    },
    {
      "cell_type": "code",
      "source": [
        "dados.query('VALOR > 10000 & VALOR < 20000').count()"
      ],
      "metadata": {
        "colab": {
          "base_uri": "https://localhost:8080/"
        },
        "id": "UT4FpxDSPtlk",
        "outputId": "f8eee9ae-3d59-4124-b0b6-7172af2ad9c2"
      },
      "execution_count": 27,
      "outputs": [
        {
          "output_type": "execute_result",
          "data": {
            "text/plain": [
              "DATA PGTO    1081\n",
              "VALOR        1081\n",
              "dtype: int64"
            ]
          },
          "metadata": {},
          "execution_count": 27
        }
      ]
    },
    {
      "cell_type": "code",
      "source": [
        "dados.query('VALOR > 1000 & VALOR < 10000').count()"
      ],
      "metadata": {
        "colab": {
          "base_uri": "https://localhost:8080/"
        },
        "id": "g107Ofx0Pwqy",
        "outputId": "8291ddc5-b276-404a-de1c-07738ebf5627"
      },
      "execution_count": 28,
      "outputs": [
        {
          "output_type": "execute_result",
          "data": {
            "text/plain": [
              "DATA PGTO    17409\n",
              "VALOR        17409\n",
              "dtype: int64"
            ]
          },
          "metadata": {},
          "execution_count": 28
        }
      ]
    },
    {
      "cell_type": "code",
      "source": [
        "dados.query('VALOR > 0 & VALOR < 1000').count()"
      ],
      "metadata": {
        "colab": {
          "base_uri": "https://localhost:8080/"
        },
        "id": "D_ZVMXM0P2k9",
        "outputId": "ae3522a8-0273-4c2f-88f0-abba78f30628"
      },
      "execution_count": 29,
      "outputs": [
        {
          "output_type": "execute_result",
          "data": {
            "text/plain": [
              "DATA PGTO    93994\n",
              "VALOR        93994\n",
              "dtype: int64"
            ]
          },
          "metadata": {},
          "execution_count": 29
        }
      ]
    },
    {
      "cell_type": "code",
      "source": [
        "dados.query('VALOR > 0 & VALOR < 10').count()"
      ],
      "metadata": {
        "colab": {
          "base_uri": "https://localhost:8080/"
        },
        "id": "2FTpQO47P8a4",
        "outputId": "32e61343-3c45-4afa-b295-6db1f84faceb"
      },
      "execution_count": 30,
      "outputs": [
        {
          "output_type": "execute_result",
          "data": {
            "text/plain": [
              "DATA PGTO    5655\n",
              "VALOR        5655\n",
              "dtype: int64"
            ]
          },
          "metadata": {},
          "execution_count": 30
        }
      ]
    },
    {
      "cell_type": "code",
      "source": [
        "y1 = [2, 3, 17, 2, 10]\n",
        "x1 = [\"> 250000 e < 350000\", \"> 150000 e < 250000\", \"> 100000 e < 150000\",\"> 90000 e < 100000\",\"> 80000 e < 90000\"]\n",
        "\n",
        "y2 = [409,1081,17409]\n",
        "x2 = [\"> 30000 e < 40000\",\"> 20000 e < 30000\",\"> 10000 e < 20000\"]\n",
        "\n",
        "y3 = [25,35,69,162]\n",
        "x3 = [\"> 60000 e < 70000\",\"> 50000 e < 60000\", \" > 40000 e < 50000\",\"> 30000 e < 40000\"]\n"
      ],
      "metadata": {
        "id": "62RodTO1QAPH"
      },
      "execution_count": 31,
      "outputs": []
    },
    {
      "cell_type": "code",
      "source": [
        "fig, ax = plt.subplots()\n",
        "ax.barh(x1, y1)\n",
        "ax.set_fig_size_inches = (20,15)\n",
        "ax.set_ylabel('Valores em R$', fontsize=16)\n",
        "ax.set_xlabel('Ocorrências', fontsize=16)\n",
        "ax.set_title('Gastos com o Cartão Corporativo da Presidência da República', fontsize=20, pad=20)\n",
        "plt.show()"
      ],
      "metadata": {
        "colab": {
          "base_uri": "https://localhost:8080/",
          "height": 320
        },
        "id": "lVsdezKsVo6w",
        "outputId": "1bbde568-f2e7-48a9-9a6b-4b4f99e55e2e"
      },
      "execution_count": 32,
      "outputs": [
        {
          "output_type": "display_data",
          "data": {
            "text/plain": [
              "<Figure size 432x288 with 1 Axes>"
            ],
            "image/png": "[encoded data removed]"
          },
          "metadata": {
            "needs_background": "light"
          }
        }
      ]
    },
    {
      "cell_type": "code",
      "source": [
        "fig, ax = plt.subplots()\n",
        "ax.barh(x3, y3)\n",
        "ax.set_fig_size_inches = (20,15)\n",
        "ax.set_ylabel('Valores em R$', fontsize=16)\n",
        "ax.set_xlabel('Ocorrências', fontsize=16)\n",
        "ax.set_title('Gastos com o Cartão Corporativo da Presidência da República', fontsize=20, pad=20)\n",
        "plt.show()"
      ],
      "metadata": {
        "colab": {
          "base_uri": "https://localhost:8080/",
          "height": 320
        },
        "id": "eS6dCxdUcb_0",
        "outputId": "8c4bd606-fbff-4b12-ebcb-6a28e5e3df59"
      },
      "execution_count": 33,
      "outputs": [
        {
          "output_type": "display_data",
          "data": {
            "text/plain": [
              "<Figure size 432x288 with 1 Axes>"
            ],
            "image/png": "[encoded data removed]"
          },
          "metadata": {
            "needs_background": "light"
          }
        }
      ]
    },
    {
      "cell_type": "code",
      "source": [
        "fig, ax = plt.subplots()\n",
        "ax.barh(x2, y2)\n",
        "ax.set_fig_size_inches = (20,15)\n",
        "ax.set_ylabel('Valores em R$', fontsize=16)\n",
        "ax.set_xlabel('Ocorrências', fontsize=16)\n",
        "ax.set_title('Gastos com o Cartão Corporativo da Presidência da República', fontsize=20, pad=20)\n",
        "plt.show()"
      ],
      "metadata": {
        "colab": {
          "base_uri": "https://localhost:8080/",
          "height": 320
        },
        "id": "WTAjGGywWS6X",
        "outputId": "c45beb15-089b-4994-ebaf-dc9d605be572"
      },
      "execution_count": 34,
      "outputs": [
        {
          "output_type": "display_data",
          "data": {
            "text/plain": [
              "<Figure size 432x288 with 1 Axes>"
            ],
            "image/png": "[encoded data removed]"
          },
          "metadata": {
            "needs_background": "light"
          }
        }
      ]
    },
    {
      "cell_type": "markdown",
      "source": [
        "# Separando os valores em anos para ajuste de correção monetária."
      ],
      "metadata": {
        "id": "mJiduvR5been"
      }
    },
    {
      "cell_type": "code",
      "source": [
        "dados.info()"
      ],
      "metadata": {
        "colab": {
          "base_uri": "https://localhost:8080/"
        },
        "id": "OLtBDhmHbgDD",
        "outputId": "b2573bc3-aefb-4a45-a4b4-4862497e7782"
      },
      "execution_count": 35,
      "outputs": [
        {
          "output_type": "stream",
          "name": "stdout",
          "text": [
            "<class 'pandas.core.frame.DataFrame'>\n",
            "RangeIndex: 113339 entries, 0 to 113338\n",
            "Data columns (total 2 columns):\n",
            " #   Column     Non-Null Count   Dtype  \n",
            "---  ------     --------------   -----  \n",
            " 0   DATA PGTO  113339 non-null  object \n",
            " 1   VALOR      113339 non-null  float32\n",
            "dtypes: float32(1), object(1)\n",
            "memory usage: 1.3+ MB\n"
          ]
        }
      ]
    },
    {
      "cell_type": "code",
      "source": [
        "type(dados['DATA PGTO'])"
      ],
      "metadata": {
        "colab": {
          "base_uri": "https://localhost:8080/"
        },
        "id": "uq4f_yhigsMD",
        "outputId": "9a0526cd-4156-4abb-d43b-949224cc0d4a"
      },
      "execution_count": 36,
      "outputs": [
        {
          "output_type": "execute_result",
          "data": {
            "text/plain": [
              "pandas.core.series.Series"
            ]
          },
          "metadata": {},
          "execution_count": 36
        }
      ]
    },
    {
      "cell_type": "code",
      "source": [
        "dados['DATA PGTO'] = pd.to_datetime(dados['DATA PGTO'])"
      ],
      "metadata": {
        "id": "cKTBIorejD94"
      },
      "execution_count": 37,
      "outputs": []
    },
    {
      "cell_type": "code",
      "source": [
        "dados.info()"
      ],
      "metadata": {
        "colab": {
          "base_uri": "https://localhost:8080/"
        },
        "id": "_iUQAlHMkO81",
        "outputId": "564843d9-231c-4d19-8afc-05c0e879481c"
      },
      "execution_count": 38,
      "outputs": [
        {
          "output_type": "stream",
          "name": "stdout",
          "text": [
            "<class 'pandas.core.frame.DataFrame'>\n",
            "RangeIndex: 113339 entries, 0 to 113338\n",
            "Data columns (total 2 columns):\n",
            " #   Column     Non-Null Count   Dtype         \n",
            "---  ------     --------------   -----         \n",
            " 0   DATA PGTO  113339 non-null  datetime64[ns]\n",
            " 1   VALOR      113339 non-null  float32       \n",
            "dtypes: datetime64[ns](1), float32(1)\n",
            "memory usage: 1.3 MB\n"
          ]
        }
      ]
    },
    {
      "cell_type": "code",
      "source": [
        "dados_2003 = pd.DataFrame(dados.loc[(dados['DATA PGTO'] >= '2003-01-01') & (dados['DATA PGTO'] < '2003-12-31')])\n",
        "dados_2003"
      ],
      "metadata": {
        "colab": {
          "base_uri": "https://localhost:8080/",
          "height": 424
        },
        "id": "fyBo8i9Fkrx3",
        "outputId": "57a3172a-eeca-4c4b-a608-fe44e0df49b2"
      },
      "execution_count": 39,
      "outputs": [
        {
          "output_type": "execute_result",
          "data": {
            "text/plain": [
              "      DATA PGTO        VALOR\n",
              "0    2003-01-02  1696.900024\n",
              "1    2003-01-02  1336.599976\n",
              "2    2003-01-02  1396.430054\n",
              "3    2003-01-03  8585.000000\n",
              "4    2003-01-03   251.500000\n",
              "...         ...          ...\n",
              "4857 2003-12-30    31.180000\n",
              "4858 2003-12-30   156.929993\n",
              "4859 2003-12-30   228.000000\n",
              "4860 2003-12-30  1041.829956\n",
              "4861 2003-12-30  7824.310059\n",
              "\n",
              "[4862 rows x 2 columns]"
            ],
            "text/html": [
              "\n",
              "  <div id=\"df-ef41ab50-07bc-4ca7-8a36-a7ab8034cd79\">\n",
              "    <div class=\"colab-df-container\">\n",
              "      <div>\n",
              "<style scoped>\n",
              "    .dataframe tbody tr th:only-of-type {\n",
              "        vertical-align: middle;\n",
              "    }\n",
              "\n",
              "    .dataframe tbody tr th {\n",
              "        vertical-align: top;\n",
              "    }\n",
              "\n",
              "    .dataframe thead th {\n",
              "        text-align: right;\n",
              "    }\n",
              "</style>\n",
              "<table border=\"1\" class=\"dataframe\">\n",
              "  <thead>\n",
              "    <tr style=\"text-align: right;\">\n",
              "      <th></th>\n",
              "      <th>DATA PGTO</th>\n",
              "      <th>VALOR</th>\n",
              "    </tr>\n",
              "  </thead>\n",
              "  <tbody>\n",
              "    <tr>\n",
              "      <th>0</th>\n",
              "      <td>2003-01-02</td>\n",
              "      <td>1696.900024</td>\n",
              "    </tr>\n",
              "    <tr>\n",
              "      <th>1</th>\n",
              "      <td>2003-01-02</td>\n",
              "      <td>1336.599976</td>\n",
              "    </tr>\n",
              "    <tr>\n",
              "      <th>2</th>\n",
              "      <td>2003-01-02</td>\n",
              "      <td>1396.430054</td>\n",
              "    </tr>\n",
              "    <tr>\n",
              "      <th>3</th>\n",
              "      <td>2003-01-03</td>\n",
              "      <td>8585.000000</td>\n",
              "    </tr>\n",
              "    <tr>\n",
              "      <th>4</th>\n",
              "      <td>2003-01-03</td>\n",
              "      <td>251.500000</td>\n",
              "    </tr>\n",
              "    <tr>\n",
              "      <th>...</th>\n",
              "      <td>...</td>\n",
              "      <td>...</td>\n",
              "    </tr>\n",
              "    <tr>\n",
              "      <th>4857</th>\n",
              "      <td>2003-12-30</td>\n",
              "      <td>31.180000</td>\n",
              "    </tr>\n",
              "    <tr>\n",
              "      <th>4858</th>\n",
              "      <td>2003-12-30</td>\n",
              "      <td>156.929993</td>\n",
              "    </tr>\n",
              "    <tr>\n",
              "      <th>4859</th>\n",
              "      <td>2003-12-30</td>\n",
              "      <td>228.000000</td>\n",
              "    </tr>\n",
              "    <tr>\n",
              "      <th>4860</th>\n",
              "      <td>2003-12-30</td>\n",
              "      <td>1041.829956</td>\n",
              "    </tr>\n",
              "    <tr>\n",
              "      <th>4861</th>\n",
              "      <td>2003-12-30</td>\n",
              "      <td>7824.310059</td>\n",
              "    </tr>\n",
              "  </tbody>\n",
              "</table>\n",
              "<p>4862 rows × 2 columns</p>\n",
              "</div>\n",
              "      <button class=\"colab-df-convert\" onclick=\"convertToInteractive('df-ef41ab50-07bc-4ca7-8a36-a7ab8034cd79')\"\n",
              "              title=\"Convert this dataframe to an interactive table.\"\n",
              "              style=\"display:none;\">\n",
              "        \n",
              "  <svg xmlns=\"http://www.w3.org/2000/svg\" height=\"24px\"viewBox=\"0 0 24 24\"\n",
              "       width=\"24px\">\n",
              "    <path d=\"M0 0h24v24H0V0z\" fill=\"none\"/>\n",
              "    <path d=\"M18.56 5.44l.94 2.06.94-2.06 2.06-.94-2.06-.94-.94-2.06-.94 2.06-2.06.94zm-11 1L8.5 8.5l.94-2.06 2.06-.94-2.06-.94L8.5 2.5l-.94 2.06-2.06.94zm10 10l.94 2.06.94-2.06 2.06-.94-2.06-.94-.94-2.06-.94 2.06-2.06.94z\"/><path d=\"M17.41 7.96l-1.37-1.37c-.4-.4-.92-.59-1.43-.59-.52 0-1.04.2-1.43.59L10.3 9.45l-7.72 7.72c-.78.78-.78 2.05 0 2.83L4 21.41c.39.39.9.59 1.41.59.51 0 1.02-.2 1.41-.59l7.78-7.78 2.81-2.81c.8-.78.8-2.07 0-2.86zM5.41 20L4 18.59l7.72-7.72 1.47 1.35L5.41 20z\"/>\n",
              "  </svg>\n",
              "      </button>\n",
              "      \n",
              "  <style>\n",
              "    .colab-df-container {\n",
              "      display:flex;\n",
              "      flex-wrap:wrap;\n",
              "      gap: 12px;\n",
              "    }\n",
              "\n",
              "    .colab-df-convert {\n",
              "      background-color: #E8F0FE;\n",
              "      border: none;\n",
              "      border-radius: 50%;\n",
              "      cursor: pointer;\n",
              "      display: none;\n",
              "      fill: #1967D2;\n",
              "      height: 32px;\n",
              "      padding: 0 0 0 0;\n",
              "      width: 32px;\n",
              "    }\n",
              "\n",
              "    .colab-df-convert:hover {\n",
              "      background-color: #E2EBFA;\n",
              "      box-shadow: 0px 1px 2px rgba(60, 64, 67, 0.3), 0px 1px 3px 1px rgba(60, 64, 67, 0.15);\n",
              "      fill: #174EA6;\n",
              "    }\n",
              "\n",
              "    [theme=dark] .colab-df-convert {\n",
              "      background-color: #3B4455;\n",
              "      fill: #D2E3FC;\n",
              "    }\n",
              "\n",
              "    [theme=dark] .colab-df-convert:hover {\n",
              "      background-color: #434B5C;\n",
              "      box-shadow: 0px 1px 3px 1px rgba(0, 0, 0, 0.15);\n",
              "      filter: drop-shadow(0px 1px 2px rgba(0, 0, 0, 0.3));\n",
              "      fill: #FFFFFF;\n",
              "    }\n",
              "  </style>\n",
              "\n",
              "      <script>\n",
              "        const buttonEl =\n",
              "          document.querySelector('#df-ef41ab50-07bc-4ca7-8a36-a7ab8034cd79 button.colab-df-convert');\n",
              "        buttonEl.style.display =\n",
              "          google.colab.kernel.accessAllowed ? 'block' : 'none';\n",
              "\n",
              "        async function convertToInteractive(key) {\n",
              "          const element = document.querySelector('#df-ef41ab50-07bc-4ca7-8a36-a7ab8034cd79');\n",
              "          const dataTable =\n",
              "            await google.colab.kernel.invokeFunction('convertToInteractive',\n",
              "                                                     [key], {});\n",
              "          if (!dataTable) return;\n",
              "\n",
              "          const docLinkHtml = 'Like what you see? Visit the ' +\n",
              "            '<a target=\"_blank\" href=https://colab.research.google.com/notebooks/data_table.ipynb>data table notebook</a>'\n",
              "            + ' to learn more about interactive tables.';\n",
              "          element.innerHTML = '';\n",
              "          dataTable['output_type'] = 'display_data';\n",
              "          await google.colab.output.renderOutput(dataTable, element);\n",
              "          const docLink = document.createElement('div');\n",
              "          docLink.innerHTML = docLinkHtml;\n",
              "          element.appendChild(docLink);\n",
              "        }\n",
              "      </script>\n",
              "    </div>\n",
              "  </div>\n",
              "  "
            ]
          },
          "metadata": {},
          "execution_count": 39
        }
      ]
    },
    {
      "cell_type": "code",
      "source": [
        "!pip install calculadora-do-cidadao"
      ],
      "metadata": {
        "colab": {
          "base_uri": "https://localhost:8080/"
        },
        "id": "KMbYwpAfp6l7",
        "outputId": "2173b134-b731-4a8d-d5d7-7b632517f8e4"
      },
      "execution_count": 40,
      "outputs": [
        {
          "output_type": "stream",
          "name": "stdout",
          "text": [
            "Looking in indexes: https://pypi.org/simple, https://us-python.pkg.dev/colab-wheels/public/simple/\n",
            "Collecting calculadora-do-cidadao\n",
            "  Downloading calculadora_do_cidadao-1.0.0-py3-none-any.whl (48 kB)\n",
            "\u001b[2K     \u001b[90m━━━━━━━━━━━━━━━━━━━━━━━━━━━━━━━━━━━━━━━━\u001b[0m \u001b[32m48.8/48.8 KB\u001b[0m \u001b[31m3.0 MB/s\u001b[0m eta \u001b[36m0:00:00\u001b[0m\n",
            "\u001b[?25hRequirement already satisfied: typer>=0.0.8 in /usr/local/lib/python3.8/dist-packages (from calculadora-do-cidadao) (0.7.0)\n",
            "Requirement already satisfied: lxml<5.0.0,>=4.7.1 in /usr/local/lib/python3.8/dist-packages (from calculadora-do-cidadao) (4.9.2)\n",
            "Requirement already satisfied: requests>=2.22.0 in /usr/local/lib/python3.8/dist-packages (from calculadora-do-cidadao) (2.25.1)\n",
            "Collecting unicodecsv<0.15.0,>=0.14.1\n",
            "  Downloading unicodecsv-0.14.1.tar.gz (10 kB)\n",
            "  Preparing metadata (setup.py) ... \u001b[?25l\u001b[?25hdone\n",
            "Requirement already satisfied: xlwt<2.0.0,>=1.3.0 in /usr/local/lib/python3.8/dist-packages (from calculadora-do-cidadao) (1.3.0)\n",
            "Collecting xlrd<3.0.0,>=2.0.1\n",
            "  Downloading xlrd-2.0.1-py2.py3-none-any.whl (96 kB)\n",
            "\u001b[2K     \u001b[90m━━━━━━━━━━━━━━━━━━━━━━━━━━━━━━━━━━━━━━━━\u001b[0m \u001b[32m96.5/96.5 KB\u001b[0m \u001b[31m5.9 MB/s\u001b[0m eta \u001b[36m0:00:00\u001b[0m\n",
            "\u001b[?25hRequirement already satisfied: idna<3,>=2.5 in /usr/local/lib/python3.8/dist-packages (from requests>=2.22.0->calculadora-do-cidadao) (2.10)\n",
            "Requirement already satisfied: chardet<5,>=3.0.2 in /usr/local/lib/python3.8/dist-packages (from requests>=2.22.0->calculadora-do-cidadao) (4.0.0)\n",
            "Requirement already satisfied: certifi>=2017.4.17 in /usr/local/lib/python3.8/dist-packages (from requests>=2.22.0->calculadora-do-cidadao) (2022.12.7)\n",
            "Requirement already satisfied: urllib3<1.27,>=1.21.1 in /usr/local/lib/python3.8/dist-packages (from requests>=2.22.0->calculadora-do-cidadao) (1.24.3)\n",
            "Requirement already satisfied: click<9.0.0,>=7.1.1 in /usr/local/lib/python3.8/dist-packages (from typer>=0.0.8->calculadora-do-cidadao) (7.1.2)\n",
            "Building wheels for collected packages: unicodecsv\n",
            "  Building wheel for unicodecsv (setup.py) ... \u001b[?25l\u001b[?25hdone\n",
            "  Created wheel for unicodecsv: filename=unicodecsv-0.14.1-py3-none-any.whl size=10766 sha256=db367ffea2c8892186b88f441dc40e03141e0a91e619cd09eeeb282cd27bb7f7\n",
            "  Stored in directory: /root/.cache/pip/wheels/35/dd/44/ccb37563a01457f5de74ccedccaee81b01a53e12addeab5e0f\n",
            "Successfully built unicodecsv\n",
            "Installing collected packages: unicodecsv, xlrd, calculadora-do-cidadao\n",
            "  Attempting uninstall: xlrd\n",
            "    Found existing installation: xlrd 1.2.0\n",
            "    Uninstalling xlrd-1.2.0:\n",
            "      Successfully uninstalled xlrd-1.2.0\n",
            "Successfully installed calculadora-do-cidadao-1.0.0 unicodecsv-0.14.1 xlrd-2.0.1\n"
          ]
        }
      ]
    },
    {
      "cell_type": "markdown",
      "source": [
        "Acima instalamos uma biblioteca do Python, disponível no site oficial da linguagem, e com ela faremos nossa correção pela inflação dos valores atuais."
      ],
      "metadata": {
        "id": "W-fBmVlPraVZ"
      }
    },
    {
      "cell_type": "code",
      "source": [
        "from datetime import date\n",
        "from decimal import Decimal\n",
        "from calculadora_do_cidadao import Ipca"
      ],
      "metadata": {
        "id": "pvXOhJg-rV7Q"
      },
      "execution_count": 41,
      "outputs": []
    },
    {
      "cell_type": "code",
      "source": [
        "ipca = Ipca()"
      ],
      "metadata": {
        "id": "8h_oJ6ghtVMJ"
      },
      "execution_count": 42,
      "outputs": []
    },
    {
      "cell_type": "code",
      "source": [
        "multiplicador_2003 = float(ipca.adjust(date(2003,1,1)))\n",
        "multiplicador_2003"
      ],
      "metadata": {
        "colab": {
          "base_uri": "https://localhost:8080/"
        },
        "id": "370fkmDqtjp-",
        "outputId": "0d74ba87-1d60-468a-9758-abfea6266077"
      },
      "execution_count": 43,
      "outputs": [
        {
          "output_type": "execute_result",
          "data": {
            "text/plain": [
              "3.1040667791799317"
            ]
          },
          "metadata": {},
          "execution_count": 43
        }
      ]
    },
    {
      "cell_type": "code",
      "source": [
        "dados_2003_corrigidos = dados_2003['VALOR'] * multiplicador_2003\n",
        "dados_2003_corrigidos"
      ],
      "metadata": {
        "colab": {
          "base_uri": "https://localhost:8080/"
        },
        "id": "DSKUzN6etxlc",
        "outputId": "7d87636b-cecf-41e1-e158-c7f3b6955372"
      },
      "execution_count": 44,
      "outputs": [
        {
          "output_type": "execute_result",
          "data": {
            "text/plain": [
              "0        5267.291016\n",
              "1        4148.895508\n",
              "2        4334.612305\n",
              "3       26648.414062\n",
              "4         780.672791\n",
              "            ...     \n",
              "4857       96.784805\n",
              "4858      487.121185\n",
              "4859      707.727234\n",
              "4860     3233.909912\n",
              "4861    24287.181641\n",
              "Name: VALOR, Length: 4862, dtype: float32"
            ]
          },
          "metadata": {},
          "execution_count": 44
        }
      ]
    },
    {
      "cell_type": "code",
      "source": [
        "dados_2003['VALOR CORRIGIDO'] = dados_2003_corrigidos\n",
        "dados_2003"
      ],
      "metadata": {
        "colab": {
          "base_uri": "https://localhost:8080/",
          "height": 424
        },
        "id": "xKJLUsI5vRoz",
        "outputId": "8c58c420-46db-49c3-cf58-df7a631e4502"
      },
      "execution_count": 45,
      "outputs": [
        {
          "output_type": "execute_result",
          "data": {
            "text/plain": [
              "      DATA PGTO        VALOR  VALOR CORRIGIDO\n",
              "0    2003-01-02  1696.900024      5267.291016\n",
              "1    2003-01-02  1336.599976      4148.895508\n",
              "2    2003-01-02  1396.430054      4334.612305\n",
              "3    2003-01-03  8585.000000     26648.414062\n",
              "4    2003-01-03   251.500000       780.672791\n",
              "...         ...          ...              ...\n",
              "4857 2003-12-30    31.180000        96.784805\n",
              "4858 2003-12-30   156.929993       487.121185\n",
              "4859 2003-12-30   228.000000       707.727234\n",
              "4860 2003-12-30  1041.829956      3233.909912\n",
              "4861 2003-12-30  7824.310059     24287.181641\n",
              "\n",
              "[4862 rows x 3 columns]"
            ],
            "text/html": [
              "\n",
              "  <div id=\"df-2ebd7579-29a3-4a61-8b1f-53e873d726c2\">\n",
              "    <div class=\"colab-df-container\">\n",
              "      <div>\n",
              "<style scoped>\n",
              "    .dataframe tbody tr th:only-of-type {\n",
              "        vertical-align: middle;\n",
              "    }\n",
              "\n",
              "    .dataframe tbody tr th {\n",
              "        vertical-align: top;\n",
              "    }\n",
              "\n",
              "    .dataframe thead th {\n",
              "        text-align: right;\n",
              "    }\n",
              "</style>\n",
              "<table border=\"1\" class=\"dataframe\">\n",
              "  <thead>\n",
              "    <tr style=\"text-align: right;\">\n",
              "      <th></th>\n",
              "      <th>DATA PGTO</th>\n",
              "      <th>VALOR</th>\n",
              "      <th>VALOR CORRIGIDO</th>\n",
              "    </tr>\n",
              "  </thead>\n",
              "  <tbody>\n",
              "    <tr>\n",
              "      <th>0</th>\n",
              "      <td>2003-01-02</td>\n",
              "      <td>1696.900024</td>\n",
              "      <td>5267.291016</td>\n",
              "    </tr>\n",
              "    <tr>\n",
              "      <th>1</th>\n",
              "      <td>2003-01-02</td>\n",
              "      <td>1336.599976</td>\n",
              "      <td>4148.895508</td>\n",
              "    </tr>\n",
              "    <tr>\n",
              "      <th>2</th>\n",
              "      <td>2003-01-02</td>\n",
              "      <td>1396.430054</td>\n",
              "      <td>4334.612305</td>\n",
              "    </tr>\n",
              "    <tr>\n",
              "      <th>3</th>\n",
              "      <td>2003-01-03</td>\n",
              "      <td>8585.000000</td>\n",
              "      <td>26648.414062</td>\n",
              "    </tr>\n",
              "    <tr>\n",
              "      <th>4</th>\n",
              "      <td>2003-01-03</td>\n",
              "      <td>251.500000</td>\n",
              "      <td>780.672791</td>\n",
              "    </tr>\n",
              "    <tr>\n",
              "      <th>...</th>\n",
              "      <td>...</td>\n",
              "      <td>...</td>\n",
              "      <td>...</td>\n",
              "    </tr>\n",
              "    <tr>\n",
              "      <th>4857</th>\n",
              "      <td>2003-12-30</td>\n",
              "      <td>31.180000</td>\n",
              "      <td>96.784805</td>\n",
              "    </tr>\n",
              "    <tr>\n",
              "      <th>4858</th>\n",
              "      <td>2003-12-30</td>\n",
              "      <td>156.929993</td>\n",
              "      <td>487.121185</td>\n",
              "    </tr>\n",
              "    <tr>\n",
              "      <th>4859</th>\n",
              "      <td>2003-12-30</td>\n",
              "      <td>228.000000</td>\n",
              "      <td>707.727234</td>\n",
              "    </tr>\n",
              "    <tr>\n",
              "      <th>4860</th>\n",
              "      <td>2003-12-30</td>\n",
              "      <td>1041.829956</td>\n",
              "      <td>3233.909912</td>\n",
              "    </tr>\n",
              "    <tr>\n",
              "      <th>4861</th>\n",
              "      <td>2003-12-30</td>\n",
              "      <td>7824.310059</td>\n",
              "      <td>24287.181641</td>\n",
              "    </tr>\n",
              "  </tbody>\n",
              "</table>\n",
              "<p>4862 rows × 3 columns</p>\n",
              "</div>\n",
              "      <button class=\"colab-df-convert\" onclick=\"convertToInteractive('df-2ebd7579-29a3-4a61-8b1f-53e873d726c2')\"\n",
              "              title=\"Convert this dataframe to an interactive table.\"\n",
              "              style=\"display:none;\">\n",
              "        \n",
              "  <svg xmlns=\"http://www.w3.org/2000/svg\" height=\"24px\"viewBox=\"0 0 24 24\"\n",
              "       width=\"24px\">\n",
              "    <path d=\"M0 0h24v24H0V0z\" fill=\"none\"/>\n",
              "    <path d=\"M18.56 5.44l.94 2.06.94-2.06 2.06-.94-2.06-.94-.94-2.06-.94 2.06-2.06.94zm-11 1L8.5 8.5l.94-2.06 2.06-.94-2.06-.94L8.5 2.5l-.94 2.06-2.06.94zm10 10l.94 2.06.94-2.06 2.06-.94-2.06-.94-.94-2.06-.94 2.06-2.06.94z\"/><path d=\"M17.41 7.96l-1.37-1.37c-.4-.4-.92-.59-1.43-.59-.52 0-1.04.2-1.43.59L10.3 9.45l-7.72 7.72c-.78.78-.78 2.05 0 2.83L4 21.41c.39.39.9.59 1.41.59.51 0 1.02-.2 1.41-.59l7.78-7.78 2.81-2.81c.8-.78.8-2.07 0-2.86zM5.41 20L4 18.59l7.72-7.72 1.47 1.35L5.41 20z\"/>\n",
              "  </svg>\n",
              "      </button>\n",
              "      \n",
              "  <style>\n",
              "    .colab-df-container {\n",
              "      display:flex;\n",
              "      flex-wrap:wrap;\n",
              "      gap: 12px;\n",
              "    }\n",
              "\n",
              "    .colab-df-convert {\n",
              "      background-color: #E8F0FE;\n",
              "      border: none;\n",
              "      border-radius: 50%;\n",
              "      cursor: pointer;\n",
              "      display: none;\n",
              "      fill: #1967D2;\n",
              "      height: 32px;\n",
              "      padding: 0 0 0 0;\n",
              "      width: 32px;\n",
              "    }\n",
              "\n",
              "    .colab-df-convert:hover {\n",
              "      background-color: #E2EBFA;\n",
              "      box-shadow: 0px 1px 2px rgba(60, 64, 67, 0.3), 0px 1px 3px 1px rgba(60, 64, 67, 0.15);\n",
              "      fill: #174EA6;\n",
              "    }\n",
              "\n",
              "    [theme=dark] .colab-df-convert {\n",
              "      background-color: #3B4455;\n",
              "      fill: #D2E3FC;\n",
              "    }\n",
              "\n",
              "    [theme=dark] .colab-df-convert:hover {\n",
              "      background-color: #434B5C;\n",
              "      box-shadow: 0px 1px 3px 1px rgba(0, 0, 0, 0.15);\n",
              "      filter: drop-shadow(0px 1px 2px rgba(0, 0, 0, 0.3));\n",
              "      fill: #FFFFFF;\n",
              "    }\n",
              "  </style>\n",
              "\n",
              "      <script>\n",
              "        const buttonEl =\n",
              "          document.querySelector('#df-2ebd7579-29a3-4a61-8b1f-53e873d726c2 button.colab-df-convert');\n",
              "        buttonEl.style.display =\n",
              "          google.colab.kernel.accessAllowed ? 'block' : 'none';\n",
              "\n",
              "        async function convertToInteractive(key) {\n",
              "          const element = document.querySelector('#df-2ebd7579-29a3-4a61-8b1f-53e873d726c2');\n",
              "          const dataTable =\n",
              "            await google.colab.kernel.invokeFunction('convertToInteractive',\n",
              "                                                     [key], {});\n",
              "          if (!dataTable) return;\n",
              "\n",
              "          const docLinkHtml = 'Like what you see? Visit the ' +\n",
              "            '<a target=\"_blank\" href=https://colab.research.google.com/notebooks/data_table.ipynb>data table notebook</a>'\n",
              "            + ' to learn more about interactive tables.';\n",
              "          element.innerHTML = '';\n",
              "          dataTable['output_type'] = 'display_data';\n",
              "          await google.colab.output.renderOutput(dataTable, element);\n",
              "          const docLink = document.createElement('div');\n",
              "          docLink.innerHTML = docLinkHtml;\n",
              "          element.appendChild(docLink);\n",
              "        }\n",
              "      </script>\n",
              "    </div>\n",
              "  </div>\n",
              "  "
            ]
          },
          "metadata": {},
          "execution_count": 45
        }
      ]
    },
    {
      "cell_type": "markdown",
      "source": [
        "Acima adicionados mais uma coluna chamada VALOR CORRIGIDO que comportam os gastos de 2003 corrigidos pelo IPCA à valores atuais. "
      ],
      "metadata": {
        "id": "PxBHO6HJxz7h"
      }
    },
    {
      "cell_type": "code",
      "source": [
        "dados_2004 = pd.DataFrame(dados.loc[(dados['DATA PGTO'] >= '2004-01-01') & (dados['DATA PGTO'] < '2004-12-31')])\n",
        "dados_2004"
      ],
      "metadata": {
        "id": "xu0a66P8xPfb",
        "colab": {
          "base_uri": "https://localhost:8080/",
          "height": 424
        },
        "outputId": "7a2854c2-61fc-4fee-8c7a-e8bfd71b17a8"
      },
      "execution_count": 46,
      "outputs": [
        {
          "output_type": "execute_result",
          "data": {
            "text/plain": [
              "       DATA PGTO        VALOR\n",
              "4870  2004-01-01    47.599998\n",
              "4871  2004-01-02    10.000000\n",
              "4872  2004-01-03   485.809998\n",
              "4873  2004-01-04   787.500000\n",
              "4874  2004-01-04   787.500000\n",
              "...          ...          ...\n",
              "11461 2004-12-30  1259.760010\n",
              "11462 2004-12-30  1693.599976\n",
              "11463 2004-12-30   681.000000\n",
              "11464 2004-12-30   114.900002\n",
              "11465 2004-12-30   216.000000\n",
              "\n",
              "[6596 rows x 2 columns]"
            ],
            "text/html": [
              "\n",
              "  <div id=\"df-ca4cf9b3-ed38-46fe-8784-c452b4b7ded0\">\n",
              "    <div class=\"colab-df-container\">\n",
              "      <div>\n",
              "<style scoped>\n",
              "    .dataframe tbody tr th:only-of-type {\n",
              "        vertical-align: middle;\n",
              "    }\n",
              "\n",
              "    .dataframe tbody tr th {\n",
              "        vertical-align: top;\n",
              "    }\n",
              "\n",
              "    .dataframe thead th {\n",
              "        text-align: right;\n",
              "    }\n",
              "</style>\n",
              "<table border=\"1\" class=\"dataframe\">\n",
              "  <thead>\n",
              "    <tr style=\"text-align: right;\">\n",
              "      <th></th>\n",
              "      <th>DATA PGTO</th>\n",
              "      <th>VALOR</th>\n",
              "    </tr>\n",
              "  </thead>\n",
              "  <tbody>\n",
              "    <tr>\n",
              "      <th>4870</th>\n",
              "      <td>2004-01-01</td>\n",
              "      <td>47.599998</td>\n",
              "    </tr>\n",
              "    <tr>\n",
              "      <th>4871</th>\n",
              "      <td>2004-01-02</td>\n",
              "      <td>10.000000</td>\n",
              "    </tr>\n",
              "    <tr>\n",
              "      <th>4872</th>\n",
              "      <td>2004-01-03</td>\n",
              "      <td>485.809998</td>\n",
              "    </tr>\n",
              "    <tr>\n",
              "      <th>4873</th>\n",
              "      <td>2004-01-04</td>\n",
              "      <td>787.500000</td>\n",
              "    </tr>\n",
              "    <tr>\n",
              "      <th>4874</th>\n",
              "      <td>2004-01-04</td>\n",
              "      <td>787.500000</td>\n",
              "    </tr>\n",
              "    <tr>\n",
              "      <th>...</th>\n",
              "      <td>...</td>\n",
              "      <td>...</td>\n",
              "    </tr>\n",
              "    <tr>\n",
              "      <th>11461</th>\n",
              "      <td>2004-12-30</td>\n",
              "      <td>1259.760010</td>\n",
              "    </tr>\n",
              "    <tr>\n",
              "      <th>11462</th>\n",
              "      <td>2004-12-30</td>\n",
              "      <td>1693.599976</td>\n",
              "    </tr>\n",
              "    <tr>\n",
              "      <th>11463</th>\n",
              "      <td>2004-12-30</td>\n",
              "      <td>681.000000</td>\n",
              "    </tr>\n",
              "    <tr>\n",
              "      <th>11464</th>\n",
              "      <td>2004-12-30</td>\n",
              "      <td>114.900002</td>\n",
              "    </tr>\n",
              "    <tr>\n",
              "      <th>11465</th>\n",
              "      <td>2004-12-30</td>\n",
              "      <td>216.000000</td>\n",
              "    </tr>\n",
              "  </tbody>\n",
              "</table>\n",
              "<p>6596 rows × 2 columns</p>\n",
              "</div>\n",
              "      <button class=\"colab-df-convert\" onclick=\"convertToInteractive('df-ca4cf9b3-ed38-46fe-8784-c452b4b7ded0')\"\n",
              "              title=\"Convert this dataframe to an interactive table.\"\n",
              "              style=\"display:none;\">\n",
              "        \n",
              "  <svg xmlns=\"http://www.w3.org/2000/svg\" height=\"24px\"viewBox=\"0 0 24 24\"\n",
              "       width=\"24px\">\n",
              "    <path d=\"M0 0h24v24H0V0z\" fill=\"none\"/>\n",
              "    <path d=\"M18.56 5.44l.94 2.06.94-2.06 2.06-.94-2.06-.94-.94-2.06-.94 2.06-2.06.94zm-11 1L8.5 8.5l.94-2.06 2.06-.94-2.06-.94L8.5 2.5l-.94 2.06-2.06.94zm10 10l.94 2.06.94-2.06 2.06-.94-2.06-.94-.94-2.06-.94 2.06-2.06.94z\"/><path d=\"M17.41 7.96l-1.37-1.37c-.4-.4-.92-.59-1.43-.59-.52 0-1.04.2-1.43.59L10.3 9.45l-7.72 7.72c-.78.78-.78 2.05 0 2.83L4 21.41c.39.39.9.59 1.41.59.51 0 1.02-.2 1.41-.59l7.78-7.78 2.81-2.81c.8-.78.8-2.07 0-2.86zM5.41 20L4 18.59l7.72-7.72 1.47 1.35L5.41 20z\"/>\n",
              "  </svg>\n",
              "      </button>\n",
              "      \n",
              "  <style>\n",
              "    .colab-df-container {\n",
              "      display:flex;\n",
              "      flex-wrap:wrap;\n",
              "      gap: 12px;\n",
              "    }\n",
              "\n",
              "    .colab-df-convert {\n",
              "      background-color: #E8F0FE;\n",
              "      border: none;\n",
              "      border-radius: 50%;\n",
              "      cursor: pointer;\n",
              "      display: none;\n",
              "      fill: #1967D2;\n",
              "      height: 32px;\n",
              "      padding: 0 0 0 0;\n",
              "      width: 32px;\n",
              "    }\n",
              "\n",
              "    .colab-df-convert:hover {\n",
              "      background-color: #E2EBFA;\n",
              "      box-shadow: 0px 1px 2px rgba(60, 64, 67, 0.3), 0px 1px 3px 1px rgba(60, 64, 67, 0.15);\n",
              "      fill: #174EA6;\n",
              "    }\n",
              "\n",
              "    [theme=dark] .colab-df-convert {\n",
              "      background-color: #3B4455;\n",
              "      fill: #D2E3FC;\n",
              "    }\n",
              "\n",
              "    [theme=dark] .colab-df-convert:hover {\n",
              "      background-color: #434B5C;\n",
              "      box-shadow: 0px 1px 3px 1px rgba(0, 0, 0, 0.15);\n",
              "      filter: drop-shadow(0px 1px 2px rgba(0, 0, 0, 0.3));\n",
              "      fill: #FFFFFF;\n",
              "    }\n",
              "  </style>\n",
              "\n",
              "      <script>\n",
              "        const buttonEl =\n",
              "          document.querySelector('#df-ca4cf9b3-ed38-46fe-8784-c452b4b7ded0 button.colab-df-convert');\n",
              "        buttonEl.style.display =\n",
              "          google.colab.kernel.accessAllowed ? 'block' : 'none';\n",
              "\n",
              "        async function convertToInteractive(key) {\n",
              "          const element = document.querySelector('#df-ca4cf9b3-ed38-46fe-8784-c452b4b7ded0');\n",
              "          const dataTable =\n",
              "            await google.colab.kernel.invokeFunction('convertToInteractive',\n",
              "                                                     [key], {});\n",
              "          if (!dataTable) return;\n",
              "\n",
              "          const docLinkHtml = 'Like what you see? Visit the ' +\n",
              "            '<a target=\"_blank\" href=https://colab.research.google.com/notebooks/data_table.ipynb>data table notebook</a>'\n",
              "            + ' to learn more about interactive tables.';\n",
              "          element.innerHTML = '';\n",
              "          dataTable['output_type'] = 'display_data';\n",
              "          await google.colab.output.renderOutput(dataTable, element);\n",
              "          const docLink = document.createElement('div');\n",
              "          docLink.innerHTML = docLinkHtml;\n",
              "          element.appendChild(docLink);\n",
              "        }\n",
              "      </script>\n",
              "    </div>\n",
              "  </div>\n",
              "  "
            ]
          },
          "metadata": {},
          "execution_count": 46
        }
      ]
    },
    {
      "cell_type": "code",
      "source": [
        "multiplicador_2004 = float(ipca.adjust(date(2004,1,1)))\n",
        "multiplicador_2004"
      ],
      "metadata": {
        "colab": {
          "base_uri": "https://localhost:8080/"
        },
        "id": "0FxA1ZYDNjGF",
        "outputId": "d02a4e6c-3e8f-46b9-9da1-923d4068fad2"
      },
      "execution_count": 47,
      "outputs": [
        {
          "output_type": "execute_result",
          "data": {
            "text/plain": [
              "2.8819460210200183"
            ]
          },
          "metadata": {},
          "execution_count": 47
        }
      ]
    },
    {
      "cell_type": "code",
      "source": [
        "dados_2004_corrigidos = dados_2004['VALOR'] * multiplicador_2004\n",
        "dados_2004_corrigidos"
      ],
      "metadata": {
        "colab": {
          "base_uri": "https://localhost:8080/"
        },
        "id": "DE7t2hJKNq1F",
        "outputId": "e3808ba8-f090-401a-fdde-7587fb6c6f48"
      },
      "execution_count": 48,
      "outputs": [
        {
          "output_type": "execute_result",
          "data": {
            "text/plain": [
              "4870      137.180634\n",
              "4871       28.819462\n",
              "4872     1400.078247\n",
              "4873     2269.532471\n",
              "4874     2269.532471\n",
              "            ...     \n",
              "11461    3630.560547\n",
              "11462    4880.863770\n",
              "11463    1962.605225\n",
              "11464     331.135620\n",
              "11465     622.500366\n",
              "Name: VALOR, Length: 6596, dtype: float32"
            ]
          },
          "metadata": {},
          "execution_count": 48
        }
      ]
    },
    {
      "cell_type": "code",
      "source": [
        "dados_2004['VALOR CORRIGIDO'] = dados_2004_corrigidos\n",
        "dados_2004"
      ],
      "metadata": {
        "colab": {
          "base_uri": "https://localhost:8080/",
          "height": 424
        },
        "id": "Guo5VZ2DN0Ke",
        "outputId": "68693ac8-a802-4557-ab77-ab229513612b"
      },
      "execution_count": 49,
      "outputs": [
        {
          "output_type": "execute_result",
          "data": {
            "text/plain": [
              "       DATA PGTO        VALOR  VALOR CORRIGIDO\n",
              "4870  2004-01-01    47.599998       137.180634\n",
              "4871  2004-01-02    10.000000        28.819462\n",
              "4872  2004-01-03   485.809998      1400.078247\n",
              "4873  2004-01-04   787.500000      2269.532471\n",
              "4874  2004-01-04   787.500000      2269.532471\n",
              "...          ...          ...              ...\n",
              "11461 2004-12-30  1259.760010      3630.560547\n",
              "11462 2004-12-30  1693.599976      4880.863770\n",
              "11463 2004-12-30   681.000000      1962.605225\n",
              "11464 2004-12-30   114.900002       331.135620\n",
              "11465 2004-12-30   216.000000       622.500366\n",
              "\n",
              "[6596 rows x 3 columns]"
            ],
            "text/html": [
              "\n",
              "  <div id=\"df-ce428cb9-5ef3-47cb-b072-944017235872\">\n",
              "    <div class=\"colab-df-container\">\n",
              "      <div>\n",
              "<style scoped>\n",
              "    .dataframe tbody tr th:only-of-type {\n",
              "        vertical-align: middle;\n",
              "    }\n",
              "\n",
              "    .dataframe tbody tr th {\n",
              "        vertical-align: top;\n",
              "    }\n",
              "\n",
              "    .dataframe thead th {\n",
              "        text-align: right;\n",
              "    }\n",
              "</style>\n",
              "<table border=\"1\" class=\"dataframe\">\n",
              "  <thead>\n",
              "    <tr style=\"text-align: right;\">\n",
              "      <th></th>\n",
              "      <th>DATA PGTO</th>\n",
              "      <th>VALOR</th>\n",
              "      <th>VALOR CORRIGIDO</th>\n",
              "    </tr>\n",
              "  </thead>\n",
              "  <tbody>\n",
              "    <tr>\n",
              "      <th>4870</th>\n",
              "      <td>2004-01-01</td>\n",
              "      <td>47.599998</td>\n",
              "      <td>137.180634</td>\n",
              "    </tr>\n",
              "    <tr>\n",
              "      <th>4871</th>\n",
              "      <td>2004-01-02</td>\n",
              "      <td>10.000000</td>\n",
              "      <td>28.819462</td>\n",
              "    </tr>\n",
              "    <tr>\n",
              "      <th>4872</th>\n",
              "      <td>2004-01-03</td>\n",
              "      <td>485.809998</td>\n",
              "      <td>1400.078247</td>\n",
              "    </tr>\n",
              "    <tr>\n",
              "      <th>4873</th>\n",
              "      <td>2004-01-04</td>\n",
              "      <td>787.500000</td>\n",
              "      <td>2269.532471</td>\n",
              "    </tr>\n",
              "    <tr>\n",
              "      <th>4874</th>\n",
              "      <td>2004-01-04</td>\n",
              "      <td>787.500000</td>\n",
              "      <td>2269.532471</td>\n",
              "    </tr>\n",
              "    <tr>\n",
              "      <th>...</th>\n",
              "      <td>...</td>\n",
              "      <td>...</td>\n",
              "      <td>...</td>\n",
              "    </tr>\n",
              "    <tr>\n",
              "      <th>11461</th>\n",
              "      <td>2004-12-30</td>\n",
              "      <td>1259.760010</td>\n",
              "      <td>3630.560547</td>\n",
              "    </tr>\n",
              "    <tr>\n",
              "      <th>11462</th>\n",
              "      <td>2004-12-30</td>\n",
              "      <td>1693.599976</td>\n",
              "      <td>4880.863770</td>\n",
              "    </tr>\n",
              "    <tr>\n",
              "      <th>11463</th>\n",
              "      <td>2004-12-30</td>\n",
              "      <td>681.000000</td>\n",
              "      <td>1962.605225</td>\n",
              "    </tr>\n",
              "    <tr>\n",
              "      <th>11464</th>\n",
              "      <td>2004-12-30</td>\n",
              "      <td>114.900002</td>\n",
              "      <td>331.135620</td>\n",
              "    </tr>\n",
              "    <tr>\n",
              "      <th>11465</th>\n",
              "      <td>2004-12-30</td>\n",
              "      <td>216.000000</td>\n",
              "      <td>622.500366</td>\n",
              "    </tr>\n",
              "  </tbody>\n",
              "</table>\n",
              "<p>6596 rows × 3 columns</p>\n",
              "</div>\n",
              "      <button class=\"colab-df-convert\" onclick=\"convertToInteractive('df-ce428cb9-5ef3-47cb-b072-944017235872')\"\n",
              "              title=\"Convert this dataframe to an interactive table.\"\n",
              "              style=\"display:none;\">\n",
              "        \n",
              "  <svg xmlns=\"http://www.w3.org/2000/svg\" height=\"24px\"viewBox=\"0 0 24 24\"\n",
              "       width=\"24px\">\n",
              "    <path d=\"M0 0h24v24H0V0z\" fill=\"none\"/>\n",
              "    <path d=\"M18.56 5.44l.94 2.06.94-2.06 2.06-.94-2.06-.94-.94-2.06-.94 2.06-2.06.94zm-11 1L8.5 8.5l.94-2.06 2.06-.94-2.06-.94L8.5 2.5l-.94 2.06-2.06.94zm10 10l.94 2.06.94-2.06 2.06-.94-2.06-.94-.94-2.06-.94 2.06-2.06.94z\"/><path d=\"M17.41 7.96l-1.37-1.37c-.4-.4-.92-.59-1.43-.59-.52 0-1.04.2-1.43.59L10.3 9.45l-7.72 7.72c-.78.78-.78 2.05 0 2.83L4 21.41c.39.39.9.59 1.41.59.51 0 1.02-.2 1.41-.59l7.78-7.78 2.81-2.81c.8-.78.8-2.07 0-2.86zM5.41 20L4 18.59l7.72-7.72 1.47 1.35L5.41 20z\"/>\n",
              "  </svg>\n",
              "      </button>\n",
              "      \n",
              "  <style>\n",
              "    .colab-df-container {\n",
              "      display:flex;\n",
              "      flex-wrap:wrap;\n",
              "      gap: 12px;\n",
              "    }\n",
              "\n",
              "    .colab-df-convert {\n",
              "      background-color: #E8F0FE;\n",
              "      border: none;\n",
              "      border-radius: 50%;\n",
              "      cursor: pointer;\n",
              "      display: none;\n",
              "      fill: #1967D2;\n",
              "      height: 32px;\n",
              "      padding: 0 0 0 0;\n",
              "      width: 32px;\n",
              "    }\n",
              "\n",
              "    .colab-df-convert:hover {\n",
              "      background-color: #E2EBFA;\n",
              "      box-shadow: 0px 1px 2px rgba(60, 64, 67, 0.3), 0px 1px 3px 1px rgba(60, 64, 67, 0.15);\n",
              "      fill: #174EA6;\n",
              "    }\n",
              "\n",
              "    [theme=dark] .colab-df-convert {\n",
              "      background-color: #3B4455;\n",
              "      fill: #D2E3FC;\n",
              "    }\n",
              "\n",
              "    [theme=dark] .colab-df-convert:hover {\n",
              "      background-color: #434B5C;\n",
              "      box-shadow: 0px 1px 3px 1px rgba(0, 0, 0, 0.15);\n",
              "      filter: drop-shadow(0px 1px 2px rgba(0, 0, 0, 0.3));\n",
              "      fill: #FFFFFF;\n",
              "    }\n",
              "  </style>\n",
              "\n",
              "      <script>\n",
              "        const buttonEl =\n",
              "          document.querySelector('#df-ce428cb9-5ef3-47cb-b072-944017235872 button.colab-df-convert');\n",
              "        buttonEl.style.display =\n",
              "          google.colab.kernel.accessAllowed ? 'block' : 'none';\n",
              "\n",
              "        async function convertToInteractive(key) {\n",
              "          const element = document.querySelector('#df-ce428cb9-5ef3-47cb-b072-944017235872');\n",
              "          const dataTable =\n",
              "            await google.colab.kernel.invokeFunction('convertToInteractive',\n",
              "                                                     [key], {});\n",
              "          if (!dataTable) return;\n",
              "\n",
              "          const docLinkHtml = 'Like what you see? Visit the ' +\n",
              "            '<a target=\"_blank\" href=https://colab.research.google.com/notebooks/data_table.ipynb>data table notebook</a>'\n",
              "            + ' to learn more about interactive tables.';\n",
              "          element.innerHTML = '';\n",
              "          dataTable['output_type'] = 'display_data';\n",
              "          await google.colab.output.renderOutput(dataTable, element);\n",
              "          const docLink = document.createElement('div');\n",
              "          docLink.innerHTML = docLinkHtml;\n",
              "          element.appendChild(docLink);\n",
              "        }\n",
              "      </script>\n",
              "    </div>\n",
              "  </div>\n",
              "  "
            ]
          },
          "metadata": {},
          "execution_count": 49
        }
      ]
    },
    {
      "cell_type": "markdown",
      "source": [
        "São 4 passos que precisam ser executados para criar cada dataframe correspondente ao ano que precisa ter os valores corrigidos. Para isso, eu criei uma consulta onde o usuário pode entrar com os dados específicos do períodos que ele quer consultar e obter as respostas."
      ],
      "metadata": {
        "id": "JuMvmj87O2nc"
      }
    },
    {
      "cell_type": "code",
      "source": [
        "def calcula_correcao():\n",
        "  print('É necessário entrar com a data específica de início e término de cálculo!')\n",
        "  print('ATENÇÃO! Digite o formato exato da data como YYYY-mm-dd.')\n",
        "  data_de_inicio = input(print('Entre com a data de início:'))\n",
        "  data_de_termino = input(print('Entre com a data de termino:'))\n",
        "  dados_ano = pd.DataFrame(dados.loc[(dados['DATA PGTO'] >= data_de_inicio) & (dados['DATA PGTO'] < data_de_termino)])\n",
        "  print('Agora entre com os dados de inflação a ser corrigido')\n",
        "  print('Para o cálculo anual, sugere-se entrar com a data do exercício financeiro')\n",
        "  ano_inflacao = int(input(print('Entre com o ano:')))\n",
        "  mes_inflacao = int(input(print('Entre com o mês:')))\n",
        "  dia_inflacao = int(input(print('Entre com o dia:')))\n",
        "  multiplicador = float(ipca.adjust(date(ano_inflacao,mes_inflacao,dia_inflacao)))\n",
        "  dados_corrigidos = dados_ano['VALOR'] * multiplicador\n",
        "  dados_ano['VALOR CORRIGIDO'] = dados_corrigidos\n",
        "  return dados_ano\n",
        "\n",
        "calcula_correcao()"
      ],
      "metadata": {
        "colab": {
          "base_uri": "https://localhost:8080/",
          "height": 667
        },
        "id": "8FZA9Si2N-Sp",
        "outputId": "fdb10213-ab03-4684-ccb4-04dda383458e"
      },
      "execution_count": 66,
      "outputs": [
        {
          "name": "stdout",
          "output_type": "stream",
          "text": [
            "É necessário entrar com a data específica de início e término de cálculo!\n",
            "ATENÇÃO! Digite o formato exato da data como YYYY-mm-dd.\n",
            "Entre com a data de início:\n",
            "None2005-01-01\n",
            "Entre com a data de termino:\n",
            "None2005-12-31\n",
            "Agora entre com os dados de inflação a ser corrigido\n",
            "Para o cálculo anual, sugere-se entrar com a data do exercício financeiro\n",
            "Entre com o ano:\n",
            "None2005\n",
            "Entre com o mês:\n",
            "None01\n",
            "Entre com o dia:\n",
            "None01\n"
          ]
        },
        {
          "output_type": "execute_result",
          "data": {
            "text/plain": [
              "       DATA PGTO        VALOR  VALOR CORRIGIDO\n",
              "11470 2005-01-04  2167.979980      5817.110352\n",
              "11471 2005-01-04   827.200012      2219.537842\n",
              "11472 2005-01-04  3003.070068      8057.818848\n",
              "11473 2005-01-07   263.440002       706.860535\n",
              "11474 2005-01-07     3.000000         8.049582\n",
              "...          ...          ...              ...\n",
              "18984 2005-12-30   421.970001      1132.227295\n",
              "18985 2005-12-30   545.940002      1464.862793\n",
              "18986 2005-12-30   425.910004      1142.799072\n",
              "18987 2005-12-30   492.910004      1322.572998\n",
              "18988 2005-12-30  1147.979980      3080.252686\n",
              "\n",
              "[7519 rows x 3 columns]"
            ],
            "text/html": [
              "\n",
              "  <div id=\"df-e7a546ae-5ed8-4ceb-8d63-73856fc4e387\">\n",
              "    <div class=\"colab-df-container\">\n",
              "      <div>\n",
              "<style scoped>\n",
              "    .dataframe tbody tr th:only-of-type {\n",
              "        vertical-align: middle;\n",
              "    }\n",
              "\n",
              "    .dataframe tbody tr th {\n",
              "        vertical-align: top;\n",
              "    }\n",
              "\n",
              "    .dataframe thead th {\n",
              "        text-align: right;\n",
              "    }\n",
              "</style>\n",
              "<table border=\"1\" class=\"dataframe\">\n",
              "  <thead>\n",
              "    <tr style=\"text-align: right;\">\n",
              "      <th></th>\n",
              "      <th>DATA PGTO</th>\n",
              "      <th>VALOR</th>\n",
              "      <th>VALOR CORRIGIDO</th>\n",
              "    </tr>\n",
              "  </thead>\n",
              "  <tbody>\n",
              "    <tr>\n",
              "      <th>11470</th>\n",
              "      <td>2005-01-04</td>\n",
              "      <td>2167.979980</td>\n",
              "      <td>5817.110352</td>\n",
              "    </tr>\n",
              "    <tr>\n",
              "      <th>11471</th>\n",
              "      <td>2005-01-04</td>\n",
              "      <td>827.200012</td>\n",
              "      <td>2219.537842</td>\n",
              "    </tr>\n",
              "    <tr>\n",
              "      <th>11472</th>\n",
              "      <td>2005-01-04</td>\n",
              "      <td>3003.070068</td>\n",
              "      <td>8057.818848</td>\n",
              "    </tr>\n",
              "    <tr>\n",
              "      <th>11473</th>\n",
              "      <td>2005-01-07</td>\n",
              "      <td>263.440002</td>\n",
              "      <td>706.860535</td>\n",
              "    </tr>\n",
              "    <tr>\n",
              "      <th>11474</th>\n",
              "      <td>2005-01-07</td>\n",
              "      <td>3.000000</td>\n",
              "      <td>8.049582</td>\n",
              "    </tr>\n",
              "    <tr>\n",
              "      <th>...</th>\n",
              "      <td>...</td>\n",
              "      <td>...</td>\n",
              "      <td>...</td>\n",
              "    </tr>\n",
              "    <tr>\n",
              "      <th>18984</th>\n",
              "      <td>2005-12-30</td>\n",
              "      <td>421.970001</td>\n",
              "      <td>1132.227295</td>\n",
              "    </tr>\n",
              "    <tr>\n",
              "      <th>18985</th>\n",
              "      <td>2005-12-30</td>\n",
              "      <td>545.940002</td>\n",
              "      <td>1464.862793</td>\n",
              "    </tr>\n",
              "    <tr>\n",
              "      <th>18986</th>\n",
              "      <td>2005-12-30</td>\n",
              "      <td>425.910004</td>\n",
              "      <td>1142.799072</td>\n",
              "    </tr>\n",
              "    <tr>\n",
              "      <th>18987</th>\n",
              "      <td>2005-12-30</td>\n",
              "      <td>492.910004</td>\n",
              "      <td>1322.572998</td>\n",
              "    </tr>\n",
              "    <tr>\n",
              "      <th>18988</th>\n",
              "      <td>2005-12-30</td>\n",
              "      <td>1147.979980</td>\n",
              "      <td>3080.252686</td>\n",
              "    </tr>\n",
              "  </tbody>\n",
              "</table>\n",
              "<p>7519 rows × 3 columns</p>\n",
              "</div>\n",
              "      <button class=\"colab-df-convert\" onclick=\"convertToInteractive('df-e7a546ae-5ed8-4ceb-8d63-73856fc4e387')\"\n",
              "              title=\"Convert this dataframe to an interactive table.\"\n",
              "              style=\"display:none;\">\n",
              "        \n",
              "  <svg xmlns=\"http://www.w3.org/2000/svg\" height=\"24px\"viewBox=\"0 0 24 24\"\n",
              "       width=\"24px\">\n",
              "    <path d=\"M0 0h24v24H0V0z\" fill=\"none\"/>\n",
              "    <path d=\"M18.56 5.44l.94 2.06.94-2.06 2.06-.94-2.06-.94-.94-2.06-.94 2.06-2.06.94zm-11 1L8.5 8.5l.94-2.06 2.06-.94-2.06-.94L8.5 2.5l-.94 2.06-2.06.94zm10 10l.94 2.06.94-2.06 2.06-.94-2.06-.94-.94-2.06-.94 2.06-2.06.94z\"/><path d=\"M17.41 7.96l-1.37-1.37c-.4-.4-.92-.59-1.43-.59-.52 0-1.04.2-1.43.59L10.3 9.45l-7.72 7.72c-.78.78-.78 2.05 0 2.83L4 21.41c.39.39.9.59 1.41.59.51 0 1.02-.2 1.41-.59l7.78-7.78 2.81-2.81c.8-.78.8-2.07 0-2.86zM5.41 20L4 18.59l7.72-7.72 1.47 1.35L5.41 20z\"/>\n",
              "  </svg>\n",
              "      </button>\n",
              "      \n",
              "  <style>\n",
              "    .colab-df-container {\n",
              "      display:flex;\n",
              "      flex-wrap:wrap;\n",
              "      gap: 12px;\n",
              "    }\n",
              "\n",
              "    .colab-df-convert {\n",
              "      background-color: #E8F0FE;\n",
              "      border: none;\n",
              "      border-radius: 50%;\n",
              "      cursor: pointer;\n",
              "      display: none;\n",
              "      fill: #1967D2;\n",
              "      height: 32px;\n",
              "      padding: 0 0 0 0;\n",
              "      width: 32px;\n",
              "    }\n",
              "\n",
              "    .colab-df-convert:hover {\n",
              "      background-color: #E2EBFA;\n",
              "      box-shadow: 0px 1px 2px rgba(60, 64, 67, 0.3), 0px 1px 3px 1px rgba(60, 64, 67, 0.15);\n",
              "      fill: #174EA6;\n",
              "    }\n",
              "\n",
              "    [theme=dark] .colab-df-convert {\n",
              "      background-color: #3B4455;\n",
              "      fill: #D2E3FC;\n",
              "    }\n",
              "\n",
              "    [theme=dark] .colab-df-convert:hover {\n",
              "      background-color: #434B5C;\n",
              "      box-shadow: 0px 1px 3px 1px rgba(0, 0, 0, 0.15);\n",
              "      filter: drop-shadow(0px 1px 2px rgba(0, 0, 0, 0.3));\n",
              "      fill: #FFFFFF;\n",
              "    }\n",
              "  </style>\n",
              "\n",
              "      <script>\n",
              "        const buttonEl =\n",
              "          document.querySelector('#df-e7a546ae-5ed8-4ceb-8d63-73856fc4e387 button.colab-df-convert');\n",
              "        buttonEl.style.display =\n",
              "          google.colab.kernel.accessAllowed ? 'block' : 'none';\n",
              "\n",
              "        async function convertToInteractive(key) {\n",
              "          const element = document.querySelector('#df-e7a546ae-5ed8-4ceb-8d63-73856fc4e387');\n",
              "          const dataTable =\n",
              "            await google.colab.kernel.invokeFunction('convertToInteractive',\n",
              "                                                     [key], {});\n",
              "          if (!dataTable) return;\n",
              "\n",
              "          const docLinkHtml = 'Like what you see? Visit the ' +\n",
              "            '<a target=\"_blank\" href=https://colab.research.google.com/notebooks/data_table.ipynb>data table notebook</a>'\n",
              "            + ' to learn more about interactive tables.';\n",
              "          element.innerHTML = '';\n",
              "          dataTable['output_type'] = 'display_data';\n",
              "          await google.colab.output.renderOutput(dataTable, element);\n",
              "          const docLink = document.createElement('div');\n",
              "          docLink.innerHTML = docLinkHtml;\n",
              "          element.appendChild(docLink);\n",
              "        }\n",
              "      </script>\n",
              "    </div>\n",
              "  </div>\n",
              "  "
            ]
          },
          "metadata": {},
          "execution_count": 66
        }
      ]
    },
    {
      "cell_type": "code",
      "source": [
        "dados_2005 = calcula_correcao()"
      ],
      "metadata": {
        "colab": {
          "base_uri": "https://localhost:8080/"
        },
        "id": "R9QTRibPT_GO",
        "outputId": "f6adad38-73db-4286-e0fc-d0c080d8eaf1"
      },
      "execution_count": 67,
      "outputs": [
        {
          "name": "stdout",
          "output_type": "stream",
          "text": [
            "É necessário entrar com a data específica de início e término de cálculo!\n",
            "ATENÇÃO! Digite o formato exato da data como YYYY-mm-dd.\n",
            "Entre com a data de início:\n",
            "None2005-01-01\n",
            "Entre com a data de termino:\n",
            "None2005-12-31\n",
            "Agora entre com os dados de inflação a ser corrigido\n",
            "Para o cálculo anual, sugere-se entrar com a data do exercício financeiro\n",
            "Entre com o ano:\n",
            "None2005\n",
            "Entre com o mês:\n",
            "None01\n",
            "Entre com o dia:\n",
            "None01\n"
          ]
        }
      ]
    },
    {
      "cell_type": "code",
      "source": [
        "dados_2005"
      ],
      "metadata": {
        "colab": {
          "base_uri": "https://localhost:8080/",
          "height": 424
        },
        "id": "crjiEAo-egVT",
        "outputId": "6f2754e0-5fbd-4e23-b0b8-6b957e9d4f5d"
      },
      "execution_count": 68,
      "outputs": [
        {
          "output_type": "execute_result",
          "data": {
            "text/plain": [
              "       DATA PGTO        VALOR  VALOR CORRIGIDO\n",
              "11470 2005-01-04  2167.979980      5817.110352\n",
              "11471 2005-01-04   827.200012      2219.537842\n",
              "11472 2005-01-04  3003.070068      8057.818848\n",
              "11473 2005-01-07   263.440002       706.860535\n",
              "11474 2005-01-07     3.000000         8.049582\n",
              "...          ...          ...              ...\n",
              "18984 2005-12-30   421.970001      1132.227295\n",
              "18985 2005-12-30   545.940002      1464.862793\n",
              "18986 2005-12-30   425.910004      1142.799072\n",
              "18987 2005-12-30   492.910004      1322.572998\n",
              "18988 2005-12-30  1147.979980      3080.252686\n",
              "\n",
              "[7519 rows x 3 columns]"
            ],
            "text/html": [
              "\n",
              "  <div id=\"df-038da01c-a4fa-4e74-a725-16c3cd865cd5\">\n",
              "    <div class=\"colab-df-container\">\n",
              "      <div>\n",
              "<style scoped>\n",
              "    .dataframe tbody tr th:only-of-type {\n",
              "        vertical-align: middle;\n",
              "    }\n",
              "\n",
              "    .dataframe tbody tr th {\n",
              "        vertical-align: top;\n",
              "    }\n",
              "\n",
              "    .dataframe thead th {\n",
              "        text-align: right;\n",
              "    }\n",
              "</style>\n",
              "<table border=\"1\" class=\"dataframe\">\n",
              "  <thead>\n",
              "    <tr style=\"text-align: right;\">\n",
              "      <th></th>\n",
              "      <th>DATA PGTO</th>\n",
              "      <th>VALOR</th>\n",
              "      <th>VALOR CORRIGIDO</th>\n",
              "    </tr>\n",
              "  </thead>\n",
              "  <tbody>\n",
              "    <tr>\n",
              "      <th>11470</th>\n",
              "      <td>2005-01-04</td>\n",
              "      <td>2167.979980</td>\n",
              "      <td>5817.110352</td>\n",
              "    </tr>\n",
              "    <tr>\n",
              "      <th>11471</th>\n",
              "      <td>2005-01-04</td>\n",
              "      <td>827.200012</td>\n",
              "      <td>2219.537842</td>\n",
              "    </tr>\n",
              "    <tr>\n",
              "      <th>11472</th>\n",
              "      <td>2005-01-04</td>\n",
              "      <td>3003.070068</td>\n",
              "      <td>8057.818848</td>\n",
              "    </tr>\n",
              "    <tr>\n",
              "      <th>11473</th>\n",
              "      <td>2005-01-07</td>\n",
              "      <td>263.440002</td>\n",
              "      <td>706.860535</td>\n",
              "    </tr>\n",
              "    <tr>\n",
              "      <th>11474</th>\n",
              "      <td>2005-01-07</td>\n",
              "      <td>3.000000</td>\n",
              "      <td>8.049582</td>\n",
              "    </tr>\n",
              "    <tr>\n",
              "      <th>...</th>\n",
              "      <td>...</td>\n",
              "      <td>...</td>\n",
              "      <td>...</td>\n",
              "    </tr>\n",
              "    <tr>\n",
              "      <th>18984</th>\n",
              "      <td>2005-12-30</td>\n",
              "      <td>421.970001</td>\n",
              "      <td>1132.227295</td>\n",
              "    </tr>\n",
              "    <tr>\n",
              "      <th>18985</th>\n",
              "      <td>2005-12-30</td>\n",
              "      <td>545.940002</td>\n",
              "      <td>1464.862793</td>\n",
              "    </tr>\n",
              "    <tr>\n",
              "      <th>18986</th>\n",
              "      <td>2005-12-30</td>\n",
              "      <td>425.910004</td>\n",
              "      <td>1142.799072</td>\n",
              "    </tr>\n",
              "    <tr>\n",
              "      <th>18987</th>\n",
              "      <td>2005-12-30</td>\n",
              "      <td>492.910004</td>\n",
              "      <td>1322.572998</td>\n",
              "    </tr>\n",
              "    <tr>\n",
              "      <th>18988</th>\n",
              "      <td>2005-12-30</td>\n",
              "      <td>1147.979980</td>\n",
              "      <td>3080.252686</td>\n",
              "    </tr>\n",
              "  </tbody>\n",
              "</table>\n",
              "<p>7519 rows × 3 columns</p>\n",
              "</div>\n",
              "      <button class=\"colab-df-convert\" onclick=\"convertToInteractive('df-038da01c-a4fa-4e74-a725-16c3cd865cd5')\"\n",
              "              title=\"Convert this dataframe to an interactive table.\"\n",
              "              style=\"display:none;\">\n",
              "        \n",
              "  <svg xmlns=\"http://www.w3.org/2000/svg\" height=\"24px\"viewBox=\"0 0 24 24\"\n",
              "       width=\"24px\">\n",
              "    <path d=\"M0 0h24v24H0V0z\" fill=\"none\"/>\n",
              "    <path d=\"M18.56 5.44l.94 2.06.94-2.06 2.06-.94-2.06-.94-.94-2.06-.94 2.06-2.06.94zm-11 1L8.5 8.5l.94-2.06 2.06-.94-2.06-.94L8.5 2.5l-.94 2.06-2.06.94zm10 10l.94 2.06.94-2.06 2.06-.94-2.06-.94-.94-2.06-.94 2.06-2.06.94z\"/><path d=\"M17.41 7.96l-1.37-1.37c-.4-.4-.92-.59-1.43-.59-.52 0-1.04.2-1.43.59L10.3 9.45l-7.72 7.72c-.78.78-.78 2.05 0 2.83L4 21.41c.39.39.9.59 1.41.59.51 0 1.02-.2 1.41-.59l7.78-7.78 2.81-2.81c.8-.78.8-2.07 0-2.86zM5.41 20L4 18.59l7.72-7.72 1.47 1.35L5.41 20z\"/>\n",
              "  </svg>\n",
              "      </button>\n",
              "      \n",
              "  <style>\n",
              "    .colab-df-container {\n",
              "      display:flex;\n",
              "      flex-wrap:wrap;\n",
              "      gap: 12px;\n",
              "    }\n",
              "\n",
              "    .colab-df-convert {\n",
              "      background-color: #E8F0FE;\n",
              "      border: none;\n",
              "      border-radius: 50%;\n",
              "      cursor: pointer;\n",
              "      display: none;\n",
              "      fill: #1967D2;\n",
              "      height: 32px;\n",
              "      padding: 0 0 0 0;\n",
              "      width: 32px;\n",
              "    }\n",
              "\n",
              "    .colab-df-convert:hover {\n",
              "      background-color: #E2EBFA;\n",
              "      box-shadow: 0px 1px 2px rgba(60, 64, 67, 0.3), 0px 1px 3px 1px rgba(60, 64, 67, 0.15);\n",
              "      fill: #174EA6;\n",
              "    }\n",
              "\n",
              "    [theme=dark] .colab-df-convert {\n",
              "      background-color: #3B4455;\n",
              "      fill: #D2E3FC;\n",
              "    }\n",
              "\n",
              "    [theme=dark] .colab-df-convert:hover {\n",
              "      background-color: #434B5C;\n",
              "      box-shadow: 0px 1px 3px 1px rgba(0, 0, 0, 0.15);\n",
              "      filter: drop-shadow(0px 1px 2px rgba(0, 0, 0, 0.3));\n",
              "      fill: #FFFFFF;\n",
              "    }\n",
              "  </style>\n",
              "\n",
              "      <script>\n",
              "        const buttonEl =\n",
              "          document.querySelector('#df-038da01c-a4fa-4e74-a725-16c3cd865cd5 button.colab-df-convert');\n",
              "        buttonEl.style.display =\n",
              "          google.colab.kernel.accessAllowed ? 'block' : 'none';\n",
              "\n",
              "        async function convertToInteractive(key) {\n",
              "          const element = document.querySelector('#df-038da01c-a4fa-4e74-a725-16c3cd865cd5');\n",
              "          const dataTable =\n",
              "            await google.colab.kernel.invokeFunction('convertToInteractive',\n",
              "                                                     [key], {});\n",
              "          if (!dataTable) return;\n",
              "\n",
              "          const docLinkHtml = 'Like what you see? Visit the ' +\n",
              "            '<a target=\"_blank\" href=https://colab.research.google.com/notebooks/data_table.ipynb>data table notebook</a>'\n",
              "            + ' to learn more about interactive tables.';\n",
              "          element.innerHTML = '';\n",
              "          dataTable['output_type'] = 'display_data';\n",
              "          await google.colab.output.renderOutput(dataTable, element);\n",
              "          const docLink = document.createElement('div');\n",
              "          docLink.innerHTML = docLinkHtml;\n",
              "          element.appendChild(docLink);\n",
              "        }\n",
              "      </script>\n",
              "    </div>\n",
              "  </div>\n",
              "  "
            ]
          },
          "metadata": {},
          "execution_count": 68
        }
      ]
    },
    {
      "cell_type": "code",
      "source": [
        "dados_2006 = calcula_correcao()"
      ],
      "metadata": {
        "colab": {
          "base_uri": "https://localhost:8080/"
        },
        "id": "jAwcHipnesmQ",
        "outputId": "fd874feb-181d-4788-f44b-eff8907b2a73"
      },
      "execution_count": 69,
      "outputs": [
        {
          "name": "stdout",
          "output_type": "stream",
          "text": [
            "É necessário entrar com a data específica de início e término de cálculo!\n",
            "ATENÇÃO! Digite o formato exato da data como YYYY-mm-dd.\n",
            "Entre com a data de início:\n",
            "None2006-01-01\n",
            "Entre com a data de termino:\n",
            "None2006-12-31\n",
            "Agora entre com os dados de inflação a ser corrigido\n",
            "Para o cálculo anual, sugere-se entrar com a data do exercício financeiro\n",
            "Entre com o ano:\n",
            "None2006\n",
            "Entre com o mês:\n",
            "None01\n",
            "Entre com o dia:\n",
            "None01\n"
          ]
        }
      ]
    },
    {
      "cell_type": "code",
      "source": [
        "dados_2006"
      ],
      "metadata": {
        "colab": {
          "base_uri": "https://localhost:8080/",
          "height": 424
        },
        "id": "W_3Ny_XxfE4u",
        "outputId": "a6cffc98-5457-4f41-9fc1-b42881687860"
      },
      "execution_count": 70,
      "outputs": [
        {
          "output_type": "execute_result",
          "data": {
            "text/plain": [
              "       DATA PGTO        VALOR  VALOR CORRIGIDO\n",
              "18990 2006-01-04   945.280029      2399.593750\n",
              "18991 2006-01-05   792.250000      2011.127075\n",
              "18992 2006-01-06    46.500000       118.040276\n",
              "18993 2006-01-07    10.500000        26.654255\n",
              "18994 2006-01-07   100.639999       255.474701\n",
              "...          ...          ...              ...\n",
              "29148 2006-12-29    24.990000        63.437130\n",
              "29149 2006-12-30    51.799999       131.494324\n",
              "29150 2006-12-30  3982.649902     10109.958984\n",
              "29151 2006-12-30   382.600006       971.230347\n",
              "29152 2006-12-30    74.139999       188.204422\n",
              "\n",
              "[10163 rows x 3 columns]"
            ],
            "text/html": [
              "\n",
              "  <div id=\"df-397e8855-cc63-4a04-9537-fb2978e7aef4\">\n",
              "    <div class=\"colab-df-container\">\n",
              "      <div>\n",
              "<style scoped>\n",
              "    .dataframe tbody tr th:only-of-type {\n",
              "        vertical-align: middle;\n",
              "    }\n",
              "\n",
              "    .dataframe tbody tr th {\n",
              "        vertical-align: top;\n",
              "    }\n",
              "\n",
              "    .dataframe thead th {\n",
              "        text-align: right;\n",
              "    }\n",
              "</style>\n",
              "<table border=\"1\" class=\"dataframe\">\n",
              "  <thead>\n",
              "    <tr style=\"text-align: right;\">\n",
              "      <th></th>\n",
              "      <th>DATA PGTO</th>\n",
              "      <th>VALOR</th>\n",
              "      <th>VALOR CORRIGIDO</th>\n",
              "    </tr>\n",
              "  </thead>\n",
              "  <tbody>\n",
              "    <tr>\n",
              "      <th>18990</th>\n",
              "      <td>2006-01-04</td>\n",
              "      <td>945.280029</td>\n",
              "      <td>2399.593750</td>\n",
              "    </tr>\n",
              "    <tr>\n",
              "      <th>18991</th>\n",
              "      <td>2006-01-05</td>\n",
              "      <td>792.250000</td>\n",
              "      <td>2011.127075</td>\n",
              "    </tr>\n",
              "    <tr>\n",
              "      <th>18992</th>\n",
              "      <td>2006-01-06</td>\n",
              "      <td>46.500000</td>\n",
              "      <td>118.040276</td>\n",
              "    </tr>\n",
              "    <tr>\n",
              "      <th>18993</th>\n",
              "      <td>2006-01-07</td>\n",
              "      <td>10.500000</td>\n",
              "      <td>26.654255</td>\n",
              "    </tr>\n",
              "    <tr>\n",
              "      <th>18994</th>\n",
              "      <td>2006-01-07</td>\n",
              "      <td>100.639999</td>\n",
              "      <td>255.474701</td>\n",
              "    </tr>\n",
              "    <tr>\n",
              "      <th>...</th>\n",
              "      <td>...</td>\n",
              "      <td>...</td>\n",
              "      <td>...</td>\n",
              "    </tr>\n",
              "    <tr>\n",
              "      <th>29148</th>\n",
              "      <td>2006-12-29</td>\n",
              "      <td>24.990000</td>\n",
              "      <td>63.437130</td>\n",
              "    </tr>\n",
              "    <tr>\n",
              "      <th>29149</th>\n",
              "      <td>2006-12-30</td>\n",
              "      <td>51.799999</td>\n",
              "      <td>131.494324</td>\n",
              "    </tr>\n",
              "    <tr>\n",
              "      <th>29150</th>\n",
              "      <td>2006-12-30</td>\n",
              "      <td>3982.649902</td>\n",
              "      <td>10109.958984</td>\n",
              "    </tr>\n",
              "    <tr>\n",
              "      <th>29151</th>\n",
              "      <td>2006-12-30</td>\n",
              "      <td>382.600006</td>\n",
              "      <td>971.230347</td>\n",
              "    </tr>\n",
              "    <tr>\n",
              "      <th>29152</th>\n",
              "      <td>2006-12-30</td>\n",
              "      <td>74.139999</td>\n",
              "      <td>188.204422</td>\n",
              "    </tr>\n",
              "  </tbody>\n",
              "</table>\n",
              "<p>10163 rows × 3 columns</p>\n",
              "</div>\n",
              "      <button class=\"colab-df-convert\" onclick=\"convertToInteractive('df-397e8855-cc63-4a04-9537-fb2978e7aef4')\"\n",
              "              title=\"Convert this dataframe to an interactive table.\"\n",
              "              style=\"display:none;\">\n",
              "        \n",
              "  <svg xmlns=\"http://www.w3.org/2000/svg\" height=\"24px\"viewBox=\"0 0 24 24\"\n",
              "       width=\"24px\">\n",
              "    <path d=\"M0 0h24v24H0V0z\" fill=\"none\"/>\n",
              "    <path d=\"M18.56 5.44l.94 2.06.94-2.06 2.06-.94-2.06-.94-.94-2.06-.94 2.06-2.06.94zm-11 1L8.5 8.5l.94-2.06 2.06-.94-2.06-.94L8.5 2.5l-.94 2.06-2.06.94zm10 10l.94 2.06.94-2.06 2.06-.94-2.06-.94-.94-2.06-.94 2.06-2.06.94z\"/><path d=\"M17.41 7.96l-1.37-1.37c-.4-.4-.92-.59-1.43-.59-.52 0-1.04.2-1.43.59L10.3 9.45l-7.72 7.72c-.78.78-.78 2.05 0 2.83L4 21.41c.39.39.9.59 1.41.59.51 0 1.02-.2 1.41-.59l7.78-7.78 2.81-2.81c.8-.78.8-2.07 0-2.86zM5.41 20L4 18.59l7.72-7.72 1.47 1.35L5.41 20z\"/>\n",
              "  </svg>\n",
              "      </button>\n",
              "      \n",
              "  <style>\n",
              "    .colab-df-container {\n",
              "      display:flex;\n",
              "      flex-wrap:wrap;\n",
              "      gap: 12px;\n",
              "    }\n",
              "\n",
              "    .colab-df-convert {\n",
              "      background-color: #E8F0FE;\n",
              "      border: none;\n",
              "      border-radius: 50%;\n",
              "      cursor: pointer;\n",
              "      display: none;\n",
              "      fill: #1967D2;\n",
              "      height: 32px;\n",
              "      padding: 0 0 0 0;\n",
              "      width: 32px;\n",
              "    }\n",
              "\n",
              "    .colab-df-convert:hover {\n",
              "      background-color: #E2EBFA;\n",
              "      box-shadow: 0px 1px 2px rgba(60, 64, 67, 0.3), 0px 1px 3px 1px rgba(60, 64, 67, 0.15);\n",
              "      fill: #174EA6;\n",
              "    }\n",
              "\n",
              "    [theme=dark] .colab-df-convert {\n",
              "      background-color: #3B4455;\n",
              "      fill: #D2E3FC;\n",
              "    }\n",
              "\n",
              "    [theme=dark] .colab-df-convert:hover {\n",
              "      background-color: #434B5C;\n",
              "      box-shadow: 0px 1px 3px 1px rgba(0, 0, 0, 0.15);\n",
              "      filter: drop-shadow(0px 1px 2px rgba(0, 0, 0, 0.3));\n",
              "      fill: #FFFFFF;\n",
              "    }\n",
              "  </style>\n",
              "\n",
              "      <script>\n",
              "        const buttonEl =\n",
              "          document.querySelector('#df-397e8855-cc63-4a04-9537-fb2978e7aef4 button.colab-df-convert');\n",
              "        buttonEl.style.display =\n",
              "          google.colab.kernel.accessAllowed ? 'block' : 'none';\n",
              "\n",
              "        async function convertToInteractive(key) {\n",
              "          const element = document.querySelector('#df-397e8855-cc63-4a04-9537-fb2978e7aef4');\n",
              "          const dataTable =\n",
              "            await google.colab.kernel.invokeFunction('convertToInteractive',\n",
              "                                                     [key], {});\n",
              "          if (!dataTable) return;\n",
              "\n",
              "          const docLinkHtml = 'Like what you see? Visit the ' +\n",
              "            '<a target=\"_blank\" href=https://colab.research.google.com/notebooks/data_table.ipynb>data table notebook</a>'\n",
              "            + ' to learn more about interactive tables.';\n",
              "          element.innerHTML = '';\n",
              "          dataTable['output_type'] = 'display_data';\n",
              "          await google.colab.output.renderOutput(dataTable, element);\n",
              "          const docLink = document.createElement('div');\n",
              "          docLink.innerHTML = docLinkHtml;\n",
              "          element.appendChild(docLink);\n",
              "        }\n",
              "      </script>\n",
              "    </div>\n",
              "  </div>\n",
              "  "
            ]
          },
          "metadata": {},
          "execution_count": 70
        }
      ]
    },
    {
      "cell_type": "code",
      "source": [
        "dados_2007 = calcula_correcao()"
      ],
      "metadata": {
        "colab": {
          "base_uri": "https://localhost:8080/"
        },
        "id": "k6wkPLDCfOHz",
        "outputId": "c17cc841-ce00-4cde-a819-bfc4070561d1"
      },
      "execution_count": 71,
      "outputs": [
        {
          "name": "stdout",
          "output_type": "stream",
          "text": [
            "É necessário entrar com a data específica de início e término de cálculo!\n",
            "ATENÇÃO! Digite o formato exato da data como YYYY-mm-dd.\n",
            "Entre com a data de início:\n",
            "None2007-01-01\n",
            "Entre com a data de termino:\n",
            "None2007-12-31\n",
            "Agora entre com os dados de inflação a ser corrigido\n",
            "Para o cálculo anual, sugere-se entrar com a data do exercício financeiro\n",
            "Entre com o ano:\n",
            "None2007\n",
            "Entre com o mês:\n",
            "None01\n",
            "Entre com o dia:\n",
            "None01\n"
          ]
        }
      ]
    },
    {
      "cell_type": "code",
      "source": [
        "dados_2007"
      ],
      "metadata": {
        "colab": {
          "base_uri": "https://localhost:8080/",
          "height": 424
        },
        "id": "trU8t2szf3iK",
        "outputId": "60c4944c-32b1-40c4-e6ac-c82a2d810e93"
      },
      "execution_count": 72,
      "outputs": [
        {
          "output_type": "execute_result",
          "data": {
            "text/plain": [
              "       DATA PGTO        VALOR  VALOR CORRIGIDO\n",
              "29155 2007-01-02  1348.650024      3324.227051\n",
              "29156 2007-01-02   969.150024      2388.814453\n",
              "29157 2007-01-02    92.209999       227.284302\n",
              "29158 2007-01-02   475.000000      1170.806274\n",
              "29159 2007-01-02   486.000000      1197.919678\n",
              "...          ...          ...              ...\n",
              "37492 2007-12-28   293.149994       722.572266\n",
              "37493 2007-12-28   762.450012      1879.328857\n",
              "37494 2007-12-28    34.500000        85.037506\n",
              "37495 2007-12-29  1390.000000      3426.148682\n",
              "37496 2007-12-29  6119.879883     15084.618164\n",
              "\n",
              "[8342 rows x 3 columns]"
            ],
            "text/html": [
              "\n",
              "  <div id=\"df-8580a164-ac73-4573-a921-92a8eb23cfb9\">\n",
              "    <div class=\"colab-df-container\">\n",
              "      <div>\n",
              "<style scoped>\n",
              "    .dataframe tbody tr th:only-of-type {\n",
              "        vertical-align: middle;\n",
              "    }\n",
              "\n",
              "    .dataframe tbody tr th {\n",
              "        vertical-align: top;\n",
              "    }\n",
              "\n",
              "    .dataframe thead th {\n",
              "        text-align: right;\n",
              "    }\n",
              "</style>\n",
              "<table border=\"1\" class=\"dataframe\">\n",
              "  <thead>\n",
              "    <tr style=\"text-align: right;\">\n",
              "      <th></th>\n",
              "      <th>DATA PGTO</th>\n",
              "      <th>VALOR</th>\n",
              "      <th>VALOR CORRIGIDO</th>\n",
              "    </tr>\n",
              "  </thead>\n",
              "  <tbody>\n",
              "    <tr>\n",
              "      <th>29155</th>\n",
              "      <td>2007-01-02</td>\n",
              "      <td>1348.650024</td>\n",
              "      <td>3324.227051</td>\n",
              "    </tr>\n",
              "    <tr>\n",
              "      <th>29156</th>\n",
              "      <td>2007-01-02</td>\n",
              "      <td>969.150024</td>\n",
              "      <td>2388.814453</td>\n",
              "    </tr>\n",
              "    <tr>\n",
              "      <th>29157</th>\n",
              "      <td>2007-01-02</td>\n",
              "      <td>92.209999</td>\n",
              "      <td>227.284302</td>\n",
              "    </tr>\n",
              "    <tr>\n",
              "      <th>29158</th>\n",
              "      <td>2007-01-02</td>\n",
              "      <td>475.000000</td>\n",
              "      <td>1170.806274</td>\n",
              "    </tr>\n",
              "    <tr>\n",
              "      <th>29159</th>\n",
              "      <td>2007-01-02</td>\n",
              "      <td>486.000000</td>\n",
              "      <td>1197.919678</td>\n",
              "    </tr>\n",
              "    <tr>\n",
              "      <th>...</th>\n",
              "      <td>...</td>\n",
              "      <td>...</td>\n",
              "      <td>...</td>\n",
              "    </tr>\n",
              "    <tr>\n",
              "      <th>37492</th>\n",
              "      <td>2007-12-28</td>\n",
              "      <td>293.149994</td>\n",
              "      <td>722.572266</td>\n",
              "    </tr>\n",
              "    <tr>\n",
              "      <th>37493</th>\n",
              "      <td>2007-12-28</td>\n",
              "      <td>762.450012</td>\n",
              "      <td>1879.328857</td>\n",
              "    </tr>\n",
              "    <tr>\n",
              "      <th>37494</th>\n",
              "      <td>2007-12-28</td>\n",
              "      <td>34.500000</td>\n",
              "      <td>85.037506</td>\n",
              "    </tr>\n",
              "    <tr>\n",
              "      <th>37495</th>\n",
              "      <td>2007-12-29</td>\n",
              "      <td>1390.000000</td>\n",
              "      <td>3426.148682</td>\n",
              "    </tr>\n",
              "    <tr>\n",
              "      <th>37496</th>\n",
              "      <td>2007-12-29</td>\n",
              "      <td>6119.879883</td>\n",
              "      <td>15084.618164</td>\n",
              "    </tr>\n",
              "  </tbody>\n",
              "</table>\n",
              "<p>8342 rows × 3 columns</p>\n",
              "</div>\n",
              "      <button class=\"colab-df-convert\" onclick=\"convertToInteractive('df-8580a164-ac73-4573-a921-92a8eb23cfb9')\"\n",
              "              title=\"Convert this dataframe to an interactive table.\"\n",
              "              style=\"display:none;\">\n",
              "        \n",
              "  <svg xmlns=\"http://www.w3.org/2000/svg\" height=\"24px\"viewBox=\"0 0 24 24\"\n",
              "       width=\"24px\">\n",
              "    <path d=\"M0 0h24v24H0V0z\" fill=\"none\"/>\n",
              "    <path d=\"M18.56 5.44l.94 2.06.94-2.06 2.06-.94-2.06-.94-.94-2.06-.94 2.06-2.06.94zm-11 1L8.5 8.5l.94-2.06 2.06-.94-2.06-.94L8.5 2.5l-.94 2.06-2.06.94zm10 10l.94 2.06.94-2.06 2.06-.94-2.06-.94-.94-2.06-.94 2.06-2.06.94z\"/><path d=\"M17.41 7.96l-1.37-1.37c-.4-.4-.92-.59-1.43-.59-.52 0-1.04.2-1.43.59L10.3 9.45l-7.72 7.72c-.78.78-.78 2.05 0 2.83L4 21.41c.39.39.9.59 1.41.59.51 0 1.02-.2 1.41-.59l7.78-7.78 2.81-2.81c.8-.78.8-2.07 0-2.86zM5.41 20L4 18.59l7.72-7.72 1.47 1.35L5.41 20z\"/>\n",
              "  </svg>\n",
              "      </button>\n",
              "      \n",
              "  <style>\n",
              "    .colab-df-container {\n",
              "      display:flex;\n",
              "      flex-wrap:wrap;\n",
              "      gap: 12px;\n",
              "    }\n",
              "\n",
              "    .colab-df-convert {\n",
              "      background-color: #E8F0FE;\n",
              "      border: none;\n",
              "      border-radius: 50%;\n",
              "      cursor: pointer;\n",
              "      display: none;\n",
              "      fill: #1967D2;\n",
              "      height: 32px;\n",
              "      padding: 0 0 0 0;\n",
              "      width: 32px;\n",
              "    }\n",
              "\n",
              "    .colab-df-convert:hover {\n",
              "      background-color: #E2EBFA;\n",
              "      box-shadow: 0px 1px 2px rgba(60, 64, 67, 0.3), 0px 1px 3px 1px rgba(60, 64, 67, 0.15);\n",
              "      fill: #174EA6;\n",
              "    }\n",
              "\n",
              "    [theme=dark] .colab-df-convert {\n",
              "      background-color: #3B4455;\n",
              "      fill: #D2E3FC;\n",
              "    }\n",
              "\n",
              "    [theme=dark] .colab-df-convert:hover {\n",
              "      background-color: #434B5C;\n",
              "      box-shadow: 0px 1px 3px 1px rgba(0, 0, 0, 0.15);\n",
              "      filter: drop-shadow(0px 1px 2px rgba(0, 0, 0, 0.3));\n",
              "      fill: #FFFFFF;\n",
              "    }\n",
              "  </style>\n",
              "\n",
              "      <script>\n",
              "        const buttonEl =\n",
              "          document.querySelector('#df-8580a164-ac73-4573-a921-92a8eb23cfb9 button.colab-df-convert');\n",
              "        buttonEl.style.display =\n",
              "          google.colab.kernel.accessAllowed ? 'block' : 'none';\n",
              "\n",
              "        async function convertToInteractive(key) {\n",
              "          const element = document.querySelector('#df-8580a164-ac73-4573-a921-92a8eb23cfb9');\n",
              "          const dataTable =\n",
              "            await google.colab.kernel.invokeFunction('convertToInteractive',\n",
              "                                                     [key], {});\n",
              "          if (!dataTable) return;\n",
              "\n",
              "          const docLinkHtml = 'Like what you see? Visit the ' +\n",
              "            '<a target=\"_blank\" href=https://colab.research.google.com/notebooks/data_table.ipynb>data table notebook</a>'\n",
              "            + ' to learn more about interactive tables.';\n",
              "          element.innerHTML = '';\n",
              "          dataTable['output_type'] = 'display_data';\n",
              "          await google.colab.output.renderOutput(dataTable, element);\n",
              "          const docLink = document.createElement('div');\n",
              "          docLink.innerHTML = docLinkHtml;\n",
              "          element.appendChild(docLink);\n",
              "        }\n",
              "      </script>\n",
              "    </div>\n",
              "  </div>\n",
              "  "
            ]
          },
          "metadata": {},
          "execution_count": 72
        }
      ]
    },
    {
      "cell_type": "markdown",
      "source": [
        "# Valor do Primeiro Mandato de Lula - 2003 a 2006\n",
        "## Valores já corrigidos pela inflação"
      ],
      "metadata": {
        "id": "MR-lGvBBnycz"
      }
    },
    {
      "cell_type": "code",
      "source": [
        "lula_1_2003 = dados_2003['VALOR CORRIGIDO'].sum()\n",
        "lula_1_2004 = dados_2004['VALOR CORRIGIDO'].sum()\n",
        "lula_1_2005 = dados_2005['VALOR CORRIGIDO'].sum()\n",
        "lula_1_2006 = dados_2006['VALOR CORRIGIDO'].sum()\n",
        "\n",
        "lula_1 = lula_1_2003 + lula_1_2004 + lula_1_2005 + lula_1_2006\n",
        "lula_1"
      ],
      "metadata": {
        "colab": {
          "base_uri": "https://localhost:8080/"
        },
        "id": "xE-z-HqmgGLt",
        "outputId": "34974769-5cee-4be3-8489-0f8067250157"
      },
      "execution_count": 88,
      "outputs": [
        {
          "output_type": "execute_result",
          "data": {
            "text/plain": [
              "61966696.0"
            ]
          },
          "metadata": {},
          "execution_count": 88
        }
      ]
    },
    {
      "cell_type": "markdown",
      "source": [
        "# Valor do Segundo Mandato de Lula - 2007 a 2010\n",
        "## Valores já corrigidos pela inflação"
      ],
      "metadata": {
        "id": "9pxTFxAXn8CQ"
      }
    },
    {
      "cell_type": "code",
      "source": [
        "dados_2008 = calcula_correcao()"
      ],
      "metadata": {
        "colab": {
          "base_uri": "https://localhost:8080/"
        },
        "id": "cL8qSC5Ef_Dq",
        "outputId": "d32fe431-2ba7-4373-8183-584402da5fea"
      },
      "execution_count": 89,
      "outputs": [
        {
          "name": "stdout",
          "output_type": "stream",
          "text": [
            "É necessário entrar com a data específica de início e término de cálculo!\n",
            "ATENÇÃO! Digite o formato exato da data como YYYY-mm-dd.\n",
            "Entre com a data de início:\n",
            "None2008-01-01\n",
            "Entre com a data de termino:\n",
            "None2008-12-31\n",
            "Agora entre com os dados de inflação a ser corrigido\n",
            "Para o cálculo anual, sugere-se entrar com a data do exercício financeiro\n",
            "Entre com o ano:\n",
            "None2008\n",
            "Entre com o mês:\n",
            "None01\n",
            "Entre com o dia:\n",
            "None01\n"
          ]
        }
      ]
    },
    {
      "cell_type": "code",
      "source": [
        "dados_2009 = calcula_correcao()"
      ],
      "metadata": {
        "colab": {
          "base_uri": "https://localhost:8080/"
        },
        "id": "h9IxgqAMgfXN",
        "outputId": "c9831340-6dfa-41f8-c8e3-884e12885e15"
      },
      "execution_count": 90,
      "outputs": [
        {
          "name": "stdout",
          "output_type": "stream",
          "text": [
            "É necessário entrar com a data específica de início e término de cálculo!\n",
            "ATENÇÃO! Digite o formato exato da data como YYYY-mm-dd.\n",
            "Entre com a data de início:\n",
            "None2009-01-01\n",
            "Entre com a data de termino:\n",
            "None2009-12-31\n",
            "Agora entre com os dados de inflação a ser corrigido\n",
            "Para o cálculo anual, sugere-se entrar com a data do exercício financeiro\n",
            "Entre com o ano:\n",
            "None2009\n",
            "Entre com o mês:\n",
            "None01\n",
            "Entre com o dia:\n",
            "None01\n"
          ]
        }
      ]
    },
    {
      "cell_type": "code",
      "source": [
        "dados_2010 = calcula_correcao()"
      ],
      "metadata": {
        "colab": {
          "base_uri": "https://localhost:8080/"
        },
        "id": "2bpZThUDojp7",
        "outputId": "067fbe2b-7132-4a19-8501-9b9ba9633dbd"
      },
      "execution_count": 91,
      "outputs": [
        {
          "name": "stdout",
          "output_type": "stream",
          "text": [
            "É necessário entrar com a data específica de início e término de cálculo!\n",
            "ATENÇÃO! Digite o formato exato da data como YYYY-mm-dd.\n",
            "Entre com a data de início:\n",
            "None2010-01-01\n",
            "Entre com a data de termino:\n",
            "None2010-12-31\n",
            "Agora entre com os dados de inflação a ser corrigido\n",
            "Para o cálculo anual, sugere-se entrar com a data do exercício financeiro\n",
            "Entre com o ano:\n",
            "None2010\n",
            "Entre com o mês:\n",
            "None01\n",
            "Entre com o dia:\n",
            "None01\n"
          ]
        }
      ]
    },
    {
      "cell_type": "code",
      "source": [
        "lula_2 = dados_2007['VALOR CORRIGIDO'].sum() + dados_2008['VALOR CORRIGIDO'].sum() + dados_2009['VALOR CORRIGIDO'].sum() + dados_2010['VALOR CORRIGIDO'].sum()\n",
        "lula_2"
      ],
      "metadata": {
        "colab": {
          "base_uri": "https://localhost:8080/"
        },
        "id": "ikmFSFf-ore7",
        "outputId": "5b3b40a1-af02-4617-ea90-dc0abd40021a"
      },
      "execution_count": 93,
      "outputs": [
        {
          "output_type": "execute_result",
          "data": {
            "text/plain": [
              "49829540.0"
            ]
          },
          "metadata": {},
          "execution_count": 93
        }
      ]
    },
    {
      "cell_type": "markdown",
      "source": [
        "# Valor do Primeiro Mandato de Dilma - 2011 a 2014\n",
        "## Valores já corrigidos pela inflação"
      ],
      "metadata": {
        "id": "NxUjnCLzpe7v"
      }
    },
    {
      "cell_type": "code",
      "source": [
        "dados_2011 = calcula_correcao()"
      ],
      "metadata": {
        "colab": {
          "base_uri": "https://localhost:8080/"
        },
        "id": "9WEPfZZMo1v6",
        "outputId": "10e05c34-3ed5-4d56-e480-483c8a09528d"
      },
      "execution_count": 94,
      "outputs": [
        {
          "name": "stdout",
          "output_type": "stream",
          "text": [
            "É necessário entrar com a data específica de início e término de cálculo!\n",
            "ATENÇÃO! Digite o formato exato da data como YYYY-mm-dd.\n",
            "Entre com a data de início:\n",
            "None2011-01-01\n",
            "Entre com a data de termino:\n",
            "None2011-12-31\n",
            "Agora entre com os dados de inflação a ser corrigido\n",
            "Para o cálculo anual, sugere-se entrar com a data do exercício financeiro\n",
            "Entre com o ano:\n",
            "None2011\n",
            "Entre com o mês:\n",
            "None01\n",
            "Entre com o dia:\n",
            "None01\n"
          ]
        }
      ]
    },
    {
      "cell_type": "code",
      "source": [
        "dados_2012 = calcula_correcao()"
      ],
      "metadata": {
        "colab": {
          "base_uri": "https://localhost:8080/"
        },
        "id": "eUn0hcfOpyJb",
        "outputId": "5eb760c2-66e3-4f7d-ba0c-e634df72e3f9"
      },
      "execution_count": 117,
      "outputs": [
        {
          "name": "stdout",
          "output_type": "stream",
          "text": [
            "É necessário entrar com a data específica de início e término de cálculo!\n",
            "ATENÇÃO! Digite o formato exato da data como YYYY-mm-dd.\n",
            "Entre com a data de início:\n",
            "None2012-01-01\n",
            "Entre com a data de termino:\n",
            "None2012-12-31\n",
            "Agora entre com os dados de inflação a ser corrigido\n",
            "Para o cálculo anual, sugere-se entrar com a data do exercício financeiro\n",
            "Entre com o ano:\n",
            "None2012\n",
            "Entre com o mês:\n",
            "None01\n",
            "Entre com o dia:\n",
            "None01\n"
          ]
        }
      ]
    },
    {
      "cell_type": "code",
      "source": [
        "dados_2013 = calcula_correcao()"
      ],
      "metadata": {
        "colab": {
          "base_uri": "https://localhost:8080/"
        },
        "id": "A-dDKaaGp75K",
        "outputId": "29367a56-bc30-49c5-fd14-0f544011f978"
      },
      "execution_count": 96,
      "outputs": [
        {
          "name": "stdout",
          "output_type": "stream",
          "text": [
            "É necessário entrar com a data específica de início e término de cálculo!\n",
            "ATENÇÃO! Digite o formato exato da data como YYYY-mm-dd.\n",
            "Entre com a data de início:\n",
            "None2013-01-01\n",
            "Entre com a data de termino:\n",
            "None2013-12-31\n",
            "Agora entre com os dados de inflação a ser corrigido\n",
            "Para o cálculo anual, sugere-se entrar com a data do exercício financeiro\n",
            "Entre com o ano:\n",
            "None2013\n",
            "Entre com o mês:\n",
            "None01\n",
            "Entre com o dia:\n",
            "None01\n"
          ]
        }
      ]
    },
    {
      "cell_type": "code",
      "source": [
        "dados_2014 = calcula_correcao()"
      ],
      "metadata": {
        "colab": {
          "base_uri": "https://localhost:8080/"
        },
        "id": "F9dbvrwgqILF",
        "outputId": "f523b2b0-53c7-4a14-c42e-13b65d0e788c"
      },
      "execution_count": 97,
      "outputs": [
        {
          "name": "stdout",
          "output_type": "stream",
          "text": [
            "É necessário entrar com a data específica de início e término de cálculo!\n",
            "ATENÇÃO! Digite o formato exato da data como YYYY-mm-dd.\n",
            "Entre com a data de início:\n",
            "None2014-01-01\n",
            "Entre com a data de termino:\n",
            "None2014-12-31\n",
            "Agora entre com os dados de inflação a ser corrigido\n",
            "Para o cálculo anual, sugere-se entrar com a data do exercício financeiro\n",
            "Entre com o ano:\n",
            "None2014\n",
            "Entre com o mês:\n",
            "None01\n",
            "Entre com o dia:\n",
            "None01\n"
          ]
        }
      ]
    },
    {
      "cell_type": "code",
      "source": [
        "dilma_1 = dados_2011['VALOR CORRIGIDO'].sum() + dados_2012['VALOR CORRIGIDO'].sum() + dados_2013['VALOR CORRIGIDO'].sum() + dados_2014['VALOR CORRIGIDO'].sum()\n",
        "dilma_1"
      ],
      "metadata": {
        "colab": {
          "base_uri": "https://localhost:8080/"
        },
        "id": "lX5iKrsIqQLi",
        "outputId": "1ecae3f9-68de-4fbc-91e2-f6634851848e"
      },
      "execution_count": 98,
      "outputs": [
        {
          "output_type": "execute_result",
          "data": {
            "text/plain": [
              "44032560.0"
            ]
          },
          "metadata": {},
          "execution_count": 98
        }
      ]
    },
    {
      "cell_type": "markdown",
      "source": [
        "# Valor do Segundo Mandato de Dilma - 2015 a 2016\n",
        "## Valores já corrigidos pela inflação"
      ],
      "metadata": {
        "id": "WUtBP50SqnA_"
      }
    },
    {
      "cell_type": "code",
      "source": [
        "dados_2015 = calcula_correcao()"
      ],
      "metadata": {
        "colab": {
          "base_uri": "https://localhost:8080/"
        },
        "id": "Exch2NJNqgHw",
        "outputId": "691b52bf-b4fb-45fc-f401-38673a273437"
      },
      "execution_count": 99,
      "outputs": [
        {
          "name": "stdout",
          "output_type": "stream",
          "text": [
            "É necessário entrar com a data específica de início e término de cálculo!\n",
            "ATENÇÃO! Digite o formato exato da data como YYYY-mm-dd.\n",
            "Entre com a data de início:\n",
            "None2015-01-01\n",
            "Entre com a data de termino:\n",
            "None2015-12-31\n",
            "Agora entre com os dados de inflação a ser corrigido\n",
            "Para o cálculo anual, sugere-se entrar com a data do exercício financeiro\n",
            "Entre com o ano:\n",
            "None2015\n",
            "Entre com o mês:\n",
            "None01\n",
            "Entre com o dia:\n",
            "None01\n"
          ]
        }
      ]
    },
    {
      "cell_type": "code",
      "source": [
        "dados_2016_dilma = calcula_correcao() "
      ],
      "metadata": {
        "colab": {
          "base_uri": "https://localhost:8080/"
        },
        "id": "ChrQqguzrEzA",
        "outputId": "18992d82-85df-4716-83e0-96917bbb2459"
      },
      "execution_count": 100,
      "outputs": [
        {
          "name": "stdout",
          "output_type": "stream",
          "text": [
            "É necessário entrar com a data específica de início e término de cálculo!\n",
            "ATENÇÃO! Digite o formato exato da data como YYYY-mm-dd.\n",
            "Entre com a data de início:\n",
            "None2016-01-01\n",
            "Entre com a data de termino:\n",
            "None2016-08-31\n",
            "Agora entre com os dados de inflação a ser corrigido\n",
            "Para o cálculo anual, sugere-se entrar com a data do exercício financeiro\n",
            "Entre com o ano:\n",
            "None2016\n",
            "Entre com o mês:\n",
            "None01\n",
            "Entre com o dia:\n",
            "None01\n"
          ]
        }
      ]
    },
    {
      "cell_type": "code",
      "source": [
        "dilma_2 = dados_2015['VALOR CORRIGIDO'].sum() + dados_2016_dilma['VALOR CORRIGIDO'].sum()\n",
        "dilma_2"
      ],
      "metadata": {
        "colab": {
          "base_uri": "https://localhost:8080/"
        },
        "id": "9djBBkM8rRtd",
        "outputId": "df6f73af-68bd-45b1-c65b-22bba7aa7d26"
      },
      "execution_count": 103,
      "outputs": [
        {
          "output_type": "execute_result",
          "data": {
            "text/plain": [
              "12979784.0"
            ]
          },
          "metadata": {},
          "execution_count": 103
        }
      ]
    },
    {
      "cell_type": "markdown",
      "source": [
        "# Valor do Segundo Mandato de Dilma, período Temer - 2016 a 2018\n",
        "## Valores já corrigidos pela inflação"
      ],
      "metadata": {
        "id": "KU5ueNrLr0RP"
      }
    },
    {
      "cell_type": "code",
      "source": [
        "dados_2016_temer = calcula_correcao()"
      ],
      "metadata": {
        "colab": {
          "base_uri": "https://localhost:8080/"
        },
        "id": "qh4a6nZnrkIK",
        "outputId": "b1d69e3b-ac2a-4343-e2ac-bf0dd4bf1b9e"
      },
      "execution_count": 104,
      "outputs": [
        {
          "name": "stdout",
          "output_type": "stream",
          "text": [
            "É necessário entrar com a data específica de início e término de cálculo!\n",
            "ATENÇÃO! Digite o formato exato da data como YYYY-mm-dd.\n",
            "Entre com a data de início:\n",
            "None2016-09-01\n",
            "Entre com a data de termino:\n",
            "None2016-12-31\n",
            "Agora entre com os dados de inflação a ser corrigido\n",
            "Para o cálculo anual, sugere-se entrar com a data do exercício financeiro\n",
            "Entre com o ano:\n",
            "None2016\n",
            "Entre com o mês:\n",
            "None09\n",
            "Entre com o dia:\n",
            "None01\n"
          ]
        }
      ]
    },
    {
      "cell_type": "code",
      "source": [
        "dados_2017 = calcula_correcao()"
      ],
      "metadata": {
        "colab": {
          "base_uri": "https://localhost:8080/"
        },
        "id": "i75zNDtBsHyI",
        "outputId": "c7d87590-d9c3-4dda-9adc-269847525fc5"
      },
      "execution_count": 105,
      "outputs": [
        {
          "name": "stdout",
          "output_type": "stream",
          "text": [
            "É necessário entrar com a data específica de início e término de cálculo!\n",
            "ATENÇÃO! Digite o formato exato da data como YYYY-mm-dd.\n",
            "Entre com a data de início:\n",
            "None2017-01-01\n",
            "Entre com a data de termino:\n",
            "None2017-12-31\n",
            "Agora entre com os dados de inflação a ser corrigido\n",
            "Para o cálculo anual, sugere-se entrar com a data do exercício financeiro\n",
            "Entre com o ano:\n",
            "None2017\n",
            "Entre com o mês:\n",
            "None01\n",
            "Entre com o dia:\n",
            "None01\n"
          ]
        }
      ]
    },
    {
      "cell_type": "code",
      "source": [
        "dados_2018 = calcula_correcao()"
      ],
      "metadata": {
        "colab": {
          "base_uri": "https://localhost:8080/"
        },
        "id": "PJFj3CJ8sXTn",
        "outputId": "196d2d3f-a5d2-4af7-b764-0b9c977c9e42"
      },
      "execution_count": 106,
      "outputs": [
        {
          "name": "stdout",
          "output_type": "stream",
          "text": [
            "É necessário entrar com a data específica de início e término de cálculo!\n",
            "ATENÇÃO! Digite o formato exato da data como YYYY-mm-dd.\n",
            "Entre com a data de início:\n",
            "None2018-01-01\n",
            "Entre com a data de termino:\n",
            "None2018-12-31\n",
            "Agora entre com os dados de inflação a ser corrigido\n",
            "Para o cálculo anual, sugere-se entrar com a data do exercício financeiro\n",
            "Entre com o ano:\n",
            "None2018\n",
            "Entre com o mês:\n",
            "None01\n",
            "Entre com o dia:\n",
            "None01\n"
          ]
        }
      ]
    },
    {
      "cell_type": "code",
      "source": [
        "dilma_2_temer = dados_2016_temer['VALOR CORRIGIDO'].sum() + dados_2017['VALOR CORRIGIDO'].sum() + dados_2018['VALOR CORRIGIDO'].sum()"
      ],
      "metadata": {
        "id": "Vn46MSJ2sgM1"
      },
      "execution_count": 107,
      "outputs": []
    },
    {
      "cell_type": "code",
      "source": [
        "print('Segundo Mandato Dilma 2:', dilma_2)\n",
        "print('Segundo Mandato Dilma 2, perído Temer:', dilma_2_temer)\n",
        "print('Somatório de todo o período:', dilma_2 + dilma_2_temer)"
      ],
      "metadata": {
        "colab": {
          "base_uri": "https://localhost:8080/"
        },
        "id": "IgJ3Bkzcs5Zv",
        "outputId": "a1a4cfca-c1ab-4886-c7db-c0101365d8d0"
      },
      "execution_count": 108,
      "outputs": [
        {
          "output_type": "stream",
          "name": "stdout",
          "text": [
            "Segundo Mandato Dilma 2: 12979784.0\n",
            "Segundo Mandato Dilma 2, perído Temer: 13655744.0\n",
            "Somatório de todo o período: 26635528.0\n"
          ]
        }
      ]
    },
    {
      "cell_type": "markdown",
      "source": [
        "# Valor do Primeiro Mandato de Bolsonaro - 2019 a 2022\n",
        "## Valores já corrigidos pela inflação"
      ],
      "metadata": {
        "id": "wRfSd2OmtitB"
      }
    },
    {
      "cell_type": "code",
      "source": [
        "dados_2019 = calcula_correcao()"
      ],
      "metadata": {
        "colab": {
          "base_uri": "https://localhost:8080/"
        },
        "id": "bxDg-FQctRba",
        "outputId": "af6812f6-660f-4c4f-ccf7-c6410d238f07"
      },
      "execution_count": 109,
      "outputs": [
        {
          "name": "stdout",
          "output_type": "stream",
          "text": [
            "É necessário entrar com a data específica de início e término de cálculo!\n",
            "ATENÇÃO! Digite o formato exato da data como YYYY-mm-dd.\n",
            "Entre com a data de início:\n",
            "None2019-01-01\n",
            "Entre com a data de termino:\n",
            "None2019-12-31\n",
            "Agora entre com os dados de inflação a ser corrigido\n",
            "Para o cálculo anual, sugere-se entrar com a data do exercício financeiro\n",
            "Entre com o ano:\n",
            "None2019\n",
            "Entre com o mês:\n",
            "None01\n",
            "Entre com o dia:\n",
            "None01\n"
          ]
        }
      ]
    },
    {
      "cell_type": "code",
      "source": [
        "dados_2020 = calcula_correcao()"
      ],
      "metadata": {
        "colab": {
          "base_uri": "https://localhost:8080/"
        },
        "id": "MNYVhIbitzBi",
        "outputId": "00db6ea3-ab0a-4f97-af26-e8a8bd6ba98c"
      },
      "execution_count": 110,
      "outputs": [
        {
          "name": "stdout",
          "output_type": "stream",
          "text": [
            "É necessário entrar com a data específica de início e término de cálculo!\n",
            "ATENÇÃO! Digite o formato exato da data como YYYY-mm-dd.\n",
            "Entre com a data de início:\n",
            "None2020-01-01\n",
            "Entre com a data de termino:\n",
            "None2020-12-31\n",
            "Agora entre com os dados de inflação a ser corrigido\n",
            "Para o cálculo anual, sugere-se entrar com a data do exercício financeiro\n",
            "Entre com o ano:\n",
            "None2020\n",
            "Entre com o mês:\n",
            "None01\n",
            "Entre com o dia:\n",
            "None01\n"
          ]
        }
      ]
    },
    {
      "cell_type": "code",
      "source": [
        "dados_2021 = calcula_correcao()"
      ],
      "metadata": {
        "colab": {
          "base_uri": "https://localhost:8080/"
        },
        "id": "FQX4PhHvuMKD",
        "outputId": "59d44842-ac06-4341-d463-2ae2ae6b9dd8"
      },
      "execution_count": 111,
      "outputs": [
        {
          "name": "stdout",
          "output_type": "stream",
          "text": [
            "É necessário entrar com a data específica de início e término de cálculo!\n",
            "ATENÇÃO! Digite o formato exato da data como YYYY-mm-dd.\n",
            "Entre com a data de início:\n",
            "None2021-01-01\n",
            "Entre com a data de termino:\n",
            "None2021-12-31\n",
            "Agora entre com os dados de inflação a ser corrigido\n",
            "Para o cálculo anual, sugere-se entrar com a data do exercício financeiro\n",
            "Entre com o ano:\n",
            "None2021\n",
            "Entre com o mês:\n",
            "None01\n",
            "Entre com o dia:\n",
            "None01\n"
          ]
        }
      ]
    },
    {
      "cell_type": "code",
      "source": [
        "dados_2022 = calcula_correcao()"
      ],
      "metadata": {
        "colab": {
          "base_uri": "https://localhost:8080/"
        },
        "id": "Jn87DkT6uTob",
        "outputId": "22898771-8b40-42a7-c084-f5007c901821"
      },
      "execution_count": 115,
      "outputs": [
        {
          "name": "stdout",
          "output_type": "stream",
          "text": [
            "É necessário entrar com a data específica de início e término de cálculo!\n",
            "ATENÇÃO! Digite o formato exato da data como YYYY-mm-dd.\n",
            "Entre com a data de início:\n",
            "None2022-01-01\n",
            "Entre com a data de termino:\n",
            "None2022-12-31\n",
            "Agora entre com os dados de inflação a ser corrigido\n",
            "Para o cálculo anual, sugere-se entrar com a data do exercício financeiro\n",
            "Entre com o ano:\n",
            "None2022\n",
            "Entre com o mês:\n",
            "None01\n",
            "Entre com o dia:\n",
            "None01\n"
          ]
        }
      ]
    },
    {
      "cell_type": "code",
      "source": [
        "bolsonaro_1 = dados_2019['VALOR CORRIGIDO'].sum() + dados_2020['VALOR CORRIGIDO'].sum() + dados_2021['VALOR CORRIGIDO'].sum() + dados_2022['VALOR CORRIGIDO'].sum()\n",
        "bolsonaro_1"
      ],
      "metadata": {
        "colab": {
          "base_uri": "https://localhost:8080/"
        },
        "id": "7L6nqYmauZ8Y",
        "outputId": "6a002717-1027-4212-d132-6e547b4b520c"
      },
      "execution_count": 116,
      "outputs": [
        {
          "output_type": "execute_result",
          "data": {
            "text/plain": [
              "32427068.0"
            ]
          },
          "metadata": {},
          "execution_count": 116
        }
      ]
    },
    {
      "cell_type": "markdown",
      "source": [
        "# Resultado dos Gastos por mandato dos presidentes"
      ],
      "metadata": {
        "id": "TLPDuAg1vSI7"
      }
    },
    {
      "cell_type": "code",
      "source": [
        "print('Primeiro Mandato Lula:', lula_1)\n",
        "print('Segundo Mandato Lula:', lula_2)\n",
        "print('Primeiro Mandato Dilma:', dilma_1)\n",
        "print('Segundo Mandato Dilma:', dilma_2)\n",
        "print('Segundo Mandato Dilma, período Temer:', dilma_2_temer)\n",
        "print('Somatório de todo o período do Segundo Mandato Dilma:', dilma_2 + dilma_2_temer)\n",
        "print('Primeiro Mandato Bolsonaro:', bolsonaro_1)"
      ],
      "metadata": {
        "colab": {
          "base_uri": "https://localhost:8080/"
        },
        "id": "6FGk-dMlu2PJ",
        "outputId": "8bac9448-5087-4447-ebe4-413317814f52"
      },
      "execution_count": 118,
      "outputs": [
        {
          "output_type": "stream",
          "name": "stdout",
          "text": [
            "Primeiro Mandato Lula: 61966696.0\n",
            "Segundo Mandato Lula: 49829540.0\n",
            "Primeiro Mandato Dilma: 44032560.0\n",
            "Segundo Mandato Dilma: 12979784.0\n",
            "Segundo Mandato Dilma, período Temer: 13655744.0\n",
            "Somatório de todo o período do Segundo Mandato Dilma: 26635528.0\n",
            "Primeiro Mandato Bolsonaro: 32427068.0\n"
          ]
        }
      ]
    },
    {
      "cell_type": "code",
      "source": [
        "dilma_2_total = dilma_2 + dilma_2_temer"
      ],
      "metadata": {
        "id": "UYFxqc6T0Ml8"
      },
      "execution_count": 121,
      "outputs": []
    },
    {
      "cell_type": "markdown",
      "source": [],
      "metadata": {
        "id": "x2aZfUUc0MSB"
      }
    },
    {
      "cell_type": "code",
      "source": [
        "fig,ax = plt.subplots(figsize=(20,10))\n",
        "\n",
        "presidentes = [\"Lula 1\", \"Lula 2\", \"Dilma 1\", \"Dilma 2 \\n(+ Temer)\", \"Bolsonaro\"]\n",
        "gastos = [lula_1, lula_2,dilma_1,dilma_2_total,bolsonaro_1]\n",
        "bar_labels = ['red', 'red', 'red', 'orange', 'blue']\n",
        "bar_colors = ['tab:red', 'tab:red','tab:red','tab:orange', 'tab:blue']\n",
        "\n",
        "ax.bar(presidentes, gastos, label=bar_labels, color=bar_colors)\n",
        "\n",
        "ax.set_ylabel('Valores em R$ - milhões', fontsize=20)\n",
        "ax.set_xlabel('Presidentes', fontsize=20)\n",
        "ax.set_title('Gastos com Cartão Corporativo da Presidência da República\\n>>> corrigidos pela inflação <<<', fontsize=20, pad=20)\n",
        "\n",
        "\n"
      ],
      "metadata": {
        "colab": {
          "base_uri": "https://localhost:8080/",
          "height": 701
        },
        "id": "Q9JiHD3ew9oi",
        "outputId": "e3efe035-2752-4e5d-b941-7b5be368c519"
      },
      "execution_count": 144,
      "outputs": [
        {
          "output_type": "execute_result",
          "data": {
            "text/plain": [
              "Text(0.5, 1.0, 'Gastos com Cartão Corporativo da Presidência da República\\n>>> corrigidos pela inflação <<<')"
            ]
          },
          "metadata": {},
          "execution_count": 144
        },
        {
          "output_type": "display_data",
          "data": {
            "text/plain": [
              "<Figure size 1440x720 with 1 Axes>"
            ],
            "image/png": "[encoded data removed]"
          },
          "metadata": {
            "needs_background": "light"
          }
        }
      ]
    },
    {
      "cell_type": "code",
      "source": [
        "gastos"
      ],
      "metadata": {
        "colab": {
          "base_uri": "https://localhost:8080/"
        },
        "id": "9R3JAKRez_uc",
        "outputId": "be8ac105-a4dd-427f-8625-1cbe5ce73f0b"
      },
      "execution_count": 145,
      "outputs": [
        {
          "output_type": "execute_result",
          "data": {
            "text/plain": [
              "[61966696.0, 49829540.0, 44032560.0, 26635528.0, 32427068.0]"
            ]
          },
          "metadata": {},
          "execution_count": 145
        }
      ]
    },
    {
      "cell_type": "code",
      "source": [],
      "metadata": {
        "id": "ErgyteaR7TRo"
      },
      "execution_count": null,
      "outputs": []
    }
  ]
}